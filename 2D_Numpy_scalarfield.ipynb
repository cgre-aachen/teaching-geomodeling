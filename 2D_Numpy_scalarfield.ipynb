{
 "cells": [
  {
   "cell_type": "code",
   "execution_count": 1,
   "metadata": {
    "ExecuteTime": {
     "end_time": "2020-06-04T13:32:36.186072Z",
     "start_time": "2020-06-04T13:32:36.182233Z"
    }
   },
   "outputs": [],
   "source": [
    "import numpy as np\n",
    "import matplotlib.pyplot as plt\n",
    "%matplotlib inline\n"
   ]
  },
  {
   "cell_type": "markdown",
   "metadata": {},
   "source": [
    "### defne the input points"
   ]
  },
  {
   "cell_type": "code",
   "execution_count": 2,
   "metadata": {
    "ExecuteTime": {
     "end_time": "2020-06-04T13:32:36.190926Z",
     "start_time": "2020-06-04T13:32:36.187778Z"
    }
   },
   "outputs": [],
   "source": [
    "## defining the dips position\n",
    "G_1 = np.array([[0., 1.]])\n",
    "\n",
    "G_1_x = 1\n",
    "G_1_y = 1\n",
    "\n",
    "G_1_tiled = np.tile(G_1,[2,1])"
   ]
  },
  {
   "cell_type": "code",
   "execution_count": 3,
   "metadata": {
    "ExecuteTime": {
     "end_time": "2020-06-04T13:32:36.197190Z",
     "start_time": "2020-06-04T13:32:36.192977Z"
    }
   },
   "outputs": [],
   "source": [
    "def squared_euclidean_distance(x_1,x_2):\n",
    "    sqd = np.sqrt(np.reshape(np.sum(x_1**2,1),newshape =(x_1.shape[0],1))+\\\n",
    "    np.reshape(np.sum(x_2**2,1),newshape =(1,x_2.shape[0]))-\\\n",
    "    2*(x_1@x_2.T))\n",
    "    return sqd"
   ]
  },
  {
   "cell_type": "code",
   "execution_count": 5,
   "metadata": {
    "ExecuteTime": {
     "end_time": "2020-06-04T13:32:36.203770Z",
     "start_time": "2020-06-04T13:32:36.199188Z"
    }
   },
   "outputs": [],
   "source": [
    "def cartesian_dist(x_1,x_2):\n",
    "    return np.concatenate([\n",
    "        np.tile(x_1[:,0] - np.reshape(x_2[:,0],[x_2.shape[0],1]),[1,2]),\n",
    "        np.tile(x_1[:,1] - np.reshape(x_2[:,1],[x_2.shape[0],1]),[1,2])],axis = 0) \n",
    "h_u = cartesian_dist(G_1,G_1)\n",
    "h_v = h_u.T"
   ]
  },
  {
   "cell_type": "code",
   "execution_count": 5,
   "metadata": {
    "ExecuteTime": {
     "end_time": "2020-06-04T13:32:36.210282Z",
     "start_time": "2020-06-04T13:32:36.205241Z"
    }
   },
   "outputs": [],
   "source": [
    "a = np.concatenate([np.ones([G_1.shape[0],G_1.shape[0]]),np.zeros([G_1.shape[0],G_1.shape[0]])],axis = 1)\n",
    "b = np.concatenate([np.zeros([G_1.shape[0],G_1.shape[0]]),np.ones([G_1.shape[0],G_1.shape[0]])],axis = 1)\n",
    "\n",
    "perpendicularity_matrix = np.concatenate([a,b],axis = 0)"
   ]
  },
  {
   "cell_type": "code",
   "execution_count": 7,
   "metadata": {
    "ExecuteTime": {
     "end_time": "2020-06-04T13:32:36.214471Z",
     "start_time": "2020-06-04T13:32:36.211835Z"
    }
   },
   "outputs": [],
   "source": [
    "dist_tiled = squared_euclidean_distance(G_1_tiled,G_1_tiled)"
   ]
  },
  {
   "cell_type": "code",
   "execution_count": 8,
   "metadata": {
    "ExecuteTime": {
     "end_time": "2020-06-04T13:32:36.219657Z",
     "start_time": "2020-06-04T13:32:36.216706Z"
    }
   },
   "outputs": [],
   "source": [
    "a_T = 5\n",
    "c_o_T = a_T**2/14/3"
   ]
  },
  {
   "cell_type": "code",
   "execution_count": 9,
   "metadata": {
    "ExecuteTime": {
     "end_time": "2020-06-04T13:32:36.229927Z",
     "start_time": "2020-06-04T13:32:36.222490Z"
    }
   },
   "outputs": [],
   "source": [
    "def cov_gradients(dist_tiled):\n",
    "    \n",
    "    condition1 = 0\n",
    "    a = (h_u*h_v)\n",
    "    b = dist_tiled**2\n",
    "\n",
    "    t1 =  np.divide(a, b, out=np.zeros_like(a), where=b!=0)\n",
    "    t2 = -c_o_T*((-14/a_T**2)+\n",
    "                 105/4*dist_tiled/a_T**3 -\n",
    "                 35/2 * dist_tiled**3 / a_T **5 +\n",
    "                 21 /4 * dist_tiled**5/a_T**7)+\\\n",
    "         c_o_T * 7 * (9 * dist_tiled ** 5 -\n",
    "                      20 * a_T ** 2 * dist_tiled ** 3 +\n",
    "                      15 * a_T ** 4 * dist_tiled -\n",
    "                      4 * a_T ** 5) / (2 * a_T ** 7)\n",
    "    t3 = perpendicularity_matrix * \\\n",
    "         c_o_T * ((-14 / a_T ** 2) + 105 / 4 * dist_tiled / a_T ** 3 -\n",
    "                   35 / 2 * dist_tiled ** 3 / a_T ** 5 +\n",
    "                   21 / 4 * dist_tiled ** 5 / a_T ** 7)\n",
    "    t4 = 1/3*np.eye(dist_tiled.shape[0])\n",
    "\n",
    "    condition2 = t1 * t2 - t3 + t4\n",
    "\n",
    "    C_G = np.where(dist_tiled==0, condition1, condition2) ## adding nugget effect\n",
    "    return C_G\n"
   ]
  },
  {
   "cell_type": "code",
   "execution_count": 10,
   "metadata": {
    "ExecuteTime": {
     "end_time": "2020-06-04T13:32:36.237056Z",
     "start_time": "2020-06-04T13:32:36.232130Z"
    }
   },
   "outputs": [
    {
     "data": {
      "text/plain": [
       "array([[0.33333333, 0.        ],\n       [0.        , 0.33333333]])"
      ]
     },
     "execution_count": 10,
     "metadata": {},
     "output_type": "execute_result"
    }
   ],
   "source": [
    "dist_tiled = dist_tiled + np.eye(dist_tiled.shape[0])\n",
    "\n",
    "C_G = cov_gradients(dist_tiled)\n",
    "\n",
    "C_G"
   ]
  },
  {
   "cell_type": "markdown",
   "metadata": {},
   "source": [
    "### covariance of interface points"
   ]
  },
  {
   "cell_type": "code",
   "execution_count": 11,
   "metadata": {
    "ExecuteTime": {
     "end_time": "2020-06-04T13:32:36.243508Z",
     "start_time": "2020-06-04T13:32:36.238802Z"
    }
   },
   "outputs": [],
   "source": [
    "layer1 = np.array([[0,0],[2,0]])\n",
    "layer2 = np.array([[0,2],[2,2]])\n",
    "\n",
    "layer1 = np.array([[0,0],[2,0],[3,0],[4,0]])\n",
    "layer2 = np.array([[0,2],[2,2],[3,3]])\n",
    "\n",
    "number_of_layer = 2"
   ]
  },
  {
   "cell_type": "code",
   "execution_count": 11,
   "metadata": {
    "ExecuteTime": {
     "end_time": "2020-06-04T13:32:36.249148Z",
     "start_time": "2020-06-04T13:32:36.245131Z"
    }
   },
   "outputs": [],
   "source": [
    "number_of_points_per_surface = np.array([layer1.shape[0],layer2.shape[0]])"
   ]
  },
  {
   "cell_type": "code",
   "execution_count": 13,
   "metadata": {
    "ExecuteTime": {
     "end_time": "2020-06-04T13:32:36.255857Z",
     "start_time": "2020-06-04T13:32:36.251498Z"
    }
   },
   "outputs": [],
   "source": [
    "def set_rest_ref_matrix(number_of_points_per_surface):\n",
    "    ref_layer_points = np.repeat(np.stack([layer1[-1],layer2[-1]],axis = 0),repeats=number_of_points_per_surface-1,axis = 0)\n",
    "    rest_layer_points = np.concatenate([layer1[0:-1],layer2[0:-1]],axis = 0)\n",
    "    return ref_layer_points,rest_layer_points"
   ]
  },
  {
   "cell_type": "code",
   "execution_count": 14,
   "metadata": {
    "ExecuteTime": {
     "end_time": "2020-06-04T13:32:36.260850Z",
     "start_time": "2020-06-04T13:32:36.257731Z"
    }
   },
   "outputs": [],
   "source": [
    "ref_layer_points,rest_layer_points = set_rest_ref_matrix(number_of_points_per_surface)"
   ]
  },
  {
   "cell_type": "code",
   "execution_count": 15,
   "metadata": {
    "ExecuteTime": {
     "end_time": "2020-06-04T13:32:36.266164Z",
     "start_time": "2020-06-04T13:32:36.262878Z"
    }
   },
   "outputs": [],
   "source": [
    "sed_rest_rest = squared_euclidean_distance(rest_layer_points,rest_layer_points)\n",
    "sed_ref_rest = squared_euclidean_distance(ref_layer_points,rest_layer_points)\n",
    "sed_rest_ref = squared_euclidean_distance(rest_layer_points,ref_layer_points)\n",
    "sed_ref_ref = squared_euclidean_distance(ref_layer_points,ref_layer_points)"
   ]
  },
  {
   "cell_type": "code",
   "execution_count": 16,
   "metadata": {
    "ExecuteTime": {
     "end_time": "2020-06-04T13:32:36.275034Z",
     "start_time": "2020-06-04T13:32:36.267734Z"
    }
   },
   "outputs": [],
   "source": [
    "def cov_interface(ref_layer_points,rest_layer_points):\n",
    "    sed_rest_rest = squared_euclidean_distance(rest_layer_points,rest_layer_points)\n",
    "    sed_ref_rest = squared_euclidean_distance(ref_layer_points,rest_layer_points)\n",
    "    sed_rest_ref = squared_euclidean_distance(rest_layer_points,ref_layer_points)\n",
    "    sed_ref_ref = squared_euclidean_distance(ref_layer_points,ref_layer_points)\n",
    "    \n",
    "    C_I = c_o_T*((1 - 7 * (sed_rest_rest / a_T) ** 2 +\\\n",
    "                 35 / 4 * (sed_rest_rest / a_T) ** 3 -\\\n",
    "                 7 / 2 * (sed_rest_rest / a_T) ** 5 +\\\n",
    "                 3 / 4 * (sed_rest_rest / a_T) ** 7) -\\\n",
    "                 (1 - 7 * (sed_ref_rest / a_T) ** 2 +\\\n",
    "                  35 / 4 * (sed_ref_rest / a_T) ** 3 -\\\n",
    "                  7 / 2 * (sed_ref_rest / a_T) ** 5 +\\\n",
    "                  3 / 4 * (sed_ref_rest / a_T) ** 7) -\\\n",
    "                 (1 - 7 * (sed_rest_ref / a_T) ** 2 +\\\n",
    "                  35 / 4 * (sed_rest_ref / a_T) ** 3 -\\\n",
    "                  7 / 2 * (sed_rest_ref / a_T) ** 5 +\\\n",
    "                  3 / 4 * (sed_rest_ref / a_T) ** 7) +\\\n",
    "                 (1 - 7 * (sed_ref_ref / a_T) ** 2 +\\\n",
    "                  35 / 4 * (sed_ref_ref / a_T) ** 3 -\\\n",
    "                  7 / 2 * (sed_ref_ref / a_T) ** 5 +\\\n",
    "                  3 / 4 * (sed_ref_ref / a_T) ** 7))\n",
    "    \n",
    "    return C_I"
   ]
  },
  {
   "cell_type": "code",
   "execution_count": 17,
   "metadata": {
    "ExecuteTime": {
     "end_time": "2020-06-04T13:32:36.280469Z",
     "start_time": "2020-06-04T13:32:36.277140Z"
    }
   },
   "outputs": [],
   "source": [
    "C_I = cov_interface(ref_layer_points,rest_layer_points)"
   ]
  },
  {
   "cell_type": "code",
   "execution_count": 18,
   "metadata": {
    "ExecuteTime": {
     "end_time": "2020-06-04T13:32:36.286925Z",
     "start_time": "2020-06-04T13:32:36.282394Z"
    }
   },
   "outputs": [
    {
     "data": {
      "text/plain": [
       "array([[1.17808762, 0.58904381, 0.1902019 , 0.29198873, 0.05124151],\n       [0.58904381, 0.70787048, 0.35393524, 0.09175378, 0.14899344],\n       [0.1902019 , 0.35393524, 0.2513219 , 0.00276594, 0.08247576],\n       [0.29198873, 0.09175378, 0.00276594, 1.08359866, 0.40705288],\n       [0.05124151, 0.14899344, 0.08247576, 0.40705288, 0.43837758]])"
      ]
     },
     "execution_count": 18,
     "metadata": {},
     "output_type": "execute_result"
    }
   ],
   "source": [
    "C_I"
   ]
  },
  {
   "cell_type": "markdown",
   "metadata": {},
   "source": [
    "### Covariance of interface points and gradients"
   ]
  },
  {
   "cell_type": "code",
   "execution_count": 19,
   "metadata": {
    "ExecuteTime": {
     "end_time": "2020-06-04T13:32:36.292378Z",
     "start_time": "2020-06-04T13:32:36.289039Z"
    }
   },
   "outputs": [],
   "source": [
    "sed_dips_rest = squared_euclidean_distance(G_1_tiled,rest_layer_points)\n",
    "sed_dips_ref = squared_euclidean_distance(G_1_tiled,ref_layer_points)"
   ]
  },
  {
   "cell_type": "code",
   "execution_count": 20,
   "metadata": {
    "ExecuteTime": {
     "end_time": "2020-06-04T13:32:36.301708Z",
     "start_time": "2020-06-04T13:32:36.294171Z"
    }
   },
   "outputs": [],
   "source": [
    "## Cartesian distance between dips and interface points\n",
    "\n",
    "def cartesian_dist_no_tile(x_1,x_2):\n",
    "    return np.concatenate([\n",
    "        np.transpose((x_1[:,0] - np.reshape(x_2[:,0],[x_2.shape[0],1]))),\n",
    "        np.transpose((x_1[:,1] - np.reshape(x_2[:,1],[x_2.shape[0],1])))],axis = 0) \n",
    "\n",
    "hu_rest = cartesian_dist_no_tile(G_1,rest_layer_points)\n",
    "hu_ref = cartesian_dist_no_tile(G_1,ref_layer_points)"
   ]
  },
  {
   "cell_type": "code",
   "execution_count": 21,
   "metadata": {
    "ExecuteTime": {
     "end_time": "2020-06-04T13:32:36.309912Z",
     "start_time": "2020-06-04T13:32:36.304112Z"
    }
   },
   "outputs": [],
   "source": [
    "def cov_interface_gradients(hu_rest,hu_ref):\n",
    "    C_GI = (hu_rest*(- c_o_T * ((-14 / a_T ** 2) + 105 / 4 * sed_dips_rest / a_T ** 3 -\n",
    "                                  35 / 2 * sed_dips_rest ** 3 / a_T ** 5 +\n",
    "                                  21 / 4 * sed_dips_rest ** 5 / a_T ** 7))-\\\n",
    "    hu_ref*(-c_o_T * ((-14 / a_T ** 2) + 105 / 4 * sed_dips_ref / a_T ** 3 -\n",
    "                                  35 / 2 * sed_dips_ref ** 3 / a_T ** 5 +\n",
    "                                  21 / 4 * sed_dips_ref ** 5 / a_T ** 7)))\n",
    "    return C_GI"
   ]
  },
  {
   "cell_type": "code",
   "execution_count": 22,
   "metadata": {
    "ExecuteTime": {
     "end_time": "2020-06-04T13:32:36.315021Z",
     "start_time": "2020-06-04T13:32:36.312036Z"
    }
   },
   "outputs": [],
   "source": [
    "C_GI = cov_interface_gradients(hu_rest,hu_ref)\n",
    "C_IG = C_GI.T"
   ]
  },
  {
   "cell_type": "markdown",
   "metadata": {},
   "source": [
    "### Kriging Matrix"
   ]
  },
  {
   "cell_type": "code",
   "execution_count": 23,
   "metadata": {
    "ExecuteTime": {
     "end_time": "2020-06-04T13:32:36.322615Z",
     "start_time": "2020-06-04T13:32:36.318551Z"
    }
   },
   "outputs": [],
   "source": [
    "K = np.concatenate([np.concatenate([C_G,C_GI],axis = 1),\n",
    "np.concatenate([C_IG,C_I],axis = 1)],axis = 0)\n"
   ]
  },
  {
   "cell_type": "code",
   "execution_count": 26,
   "metadata": {
    "ExecuteTime": {
     "end_time": "2020-06-04T13:32:36.341285Z",
     "start_time": "2020-06-04T13:32:36.325089Z"
    }
   },
   "outputs": [
    {
     "data": {
      "text/html": [
       "<div>\n",
       "<style scoped>\n",
       "    .dataframe tbody tr th:only-of-type {\n",
       "        vertical-align: middle;\n",
       "    }\n",
       "\n",
       "    .dataframe tbody tr th {\n",
       "        vertical-align: top;\n",
       "    }\n",
       "\n",
       "    .dataframe thead th {\n",
       "        text-align: right;\n",
       "    }\n",
       "</style>\n",
       "<table border=\"1\" class=\"dataframe\">\n",
       "  <thead>\n",
       "    <tr style=\"text-align: right;\">\n",
       "      <th></th>\n",
       "      <th>0</th>\n",
       "      <th>1</th>\n",
       "      <th>2</th>\n",
       "      <th>3</th>\n",
       "      <th>4</th>\n",
       "      <th>5</th>\n",
       "      <th>6</th>\n",
       "    </tr>\n",
       "  </thead>\n",
       "  <tbody>\n",
       "    <tr>\n",
       "      <th>0</th>\n",
       "      <td>0.333333</td>\n",
       "      <td>0.000000</td>\n",
       "      <td>0.015699</td>\n",
       "      <td>-0.162014</td>\n",
       "      <td>-0.076728</td>\n",
       "      <td>0.043519</td>\n",
       "      <td>-0.134194</td>\n",
       "    </tr>\n",
       "    <tr>\n",
       "      <th>1</th>\n",
       "      <td>0.000000</td>\n",
       "      <td>0.333333</td>\n",
       "      <td>0.207702</td>\n",
       "      <td>0.084932</td>\n",
       "      <td>0.026884</td>\n",
       "      <td>-0.182614</td>\n",
       "      <td>-0.059844</td>\n",
       "    </tr>\n",
       "    <tr>\n",
       "      <th>2</th>\n",
       "      <td>0.015699</td>\n",
       "      <td>0.207702</td>\n",
       "      <td>1.178088</td>\n",
       "      <td>0.589044</td>\n",
       "      <td>0.190202</td>\n",
       "      <td>0.291989</td>\n",
       "      <td>0.051242</td>\n",
       "    </tr>\n",
       "    <tr>\n",
       "      <th>3</th>\n",
       "      <td>-0.162014</td>\n",
       "      <td>0.084932</td>\n",
       "      <td>0.589044</td>\n",
       "      <td>0.707870</td>\n",
       "      <td>0.353935</td>\n",
       "      <td>0.091754</td>\n",
       "      <td>0.148993</td>\n",
       "    </tr>\n",
       "    <tr>\n",
       "      <th>4</th>\n",
       "      <td>-0.076728</td>\n",
       "      <td>0.026884</td>\n",
       "      <td>0.190202</td>\n",
       "      <td>0.353935</td>\n",
       "      <td>0.251322</td>\n",
       "      <td>0.002766</td>\n",
       "      <td>0.082476</td>\n",
       "    </tr>\n",
       "    <tr>\n",
       "      <th>5</th>\n",
       "      <td>0.043519</td>\n",
       "      <td>-0.182614</td>\n",
       "      <td>0.291989</td>\n",
       "      <td>0.091754</td>\n",
       "      <td>0.002766</td>\n",
       "      <td>1.083599</td>\n",
       "      <td>0.407053</td>\n",
       "    </tr>\n",
       "    <tr>\n",
       "      <th>6</th>\n",
       "      <td>-0.134194</td>\n",
       "      <td>-0.059844</td>\n",
       "      <td>0.051242</td>\n",
       "      <td>0.148993</td>\n",
       "      <td>0.082476</td>\n",
       "      <td>0.407053</td>\n",
       "      <td>0.438378</td>\n",
       "    </tr>\n",
       "  </tbody>\n",
       "</table>\n",
       "</div>"
      ],
      "text/plain": [
       "<div>\n",
       "<style scoped>\n",
       "    .dataframe tbody tr th:only-of-type {\n",
       "        vertical-align: middle;\n",
       "    }\n",
       "\n",
       "    .dataframe tbody tr th {\n",
       "        vertical-align: top;\n",
       "    }\n",
       "\n",
       "    .dataframe thead th {\n",
       "        text-align: right;\n",
       "    }\n",
       "</style>\n",
       "<table border=\"1\" class=\"dataframe\">\n",
       "  <thead>\n",
       "    <tr style=\"text-align: right;\">\n",
       "      <th></th>\n",
       "      <th>0</th>\n",
       "      <th>1</th>\n",
       "      <th>2</th>\n",
       "      <th>3</th>\n",
       "      <th>4</th>\n",
       "      <th>5</th>\n",
       "      <th>6</th>\n",
       "    </tr>\n",
       "  </thead>\n",
       "  <tbody>\n",
       "    <tr>\n",
       "      <th>0</th>\n",
       "      <td>0.333333</td>\n",
       "      <td>0.000000</td>\n",
       "      <td>0.015699</td>\n",
       "      <td>-0.162014</td>\n",
       "      <td>-0.076728</td>\n",
       "      <td>0.043519</td>\n",
       "      <td>-0.134194</td>\n",
       "    </tr>\n",
       "    <tr>\n",
       "      <th>1</th>\n",
       "      <td>0.000000</td>\n",
       "      <td>0.333333</td>\n",
       "      <td>0.207702</td>\n",
       "      <td>0.084932</td>\n",
       "      <td>0.026884</td>\n",
       "      <td>-0.182614</td>\n",
       "      <td>-0.059844</td>\n",
       "    </tr>\n",
       "    <tr>\n",
       "      <th>2</th>\n",
       "      <td>0.015699</td>\n",
       "      <td>0.207702</td>\n",
       "      <td>1.178088</td>\n",
       "      <td>0.589044</td>\n",
       "      <td>0.190202</td>\n",
       "      <td>0.291989</td>\n",
       "      <td>0.051242</td>\n",
       "    </tr>\n",
       "    <tr>\n",
       "      <th>3</th>\n",
       "      <td>-0.162014</td>\n",
       "      <td>0.084932</td>\n",
       "      <td>0.589044</td>\n",
       "      <td>0.707870</td>\n",
       "      <td>0.353935</td>\n",
       "      <td>0.091754</td>\n",
       "      <td>0.148993</td>\n",
       "    </tr>\n",
       "    <tr>\n",
       "      <th>4</th>\n",
       "      <td>-0.076728</td>\n",
       "      <td>0.026884</td>\n",
       "      <td>0.190202</td>\n",
       "      <td>0.353935</td>\n",
       "      <td>0.251322</td>\n",
       "      <td>0.002766</td>\n",
       "      <td>0.082476</td>\n",
       "    </tr>\n",
       "    <tr>\n",
       "      <th>5</th>\n",
       "      <td>0.043519</td>\n",
       "      <td>-0.182614</td>\n",
       "      <td>0.291989</td>\n",
       "      <td>0.091754</td>\n",
       "      <td>0.002766</td>\n",
       "      <td>1.083599</td>\n",
       "      <td>0.407053</td>\n",
       "    </tr>\n",
       "    <tr>\n",
       "      <th>6</th>\n",
       "      <td>-0.134194</td>\n",
       "      <td>-0.059844</td>\n",
       "      <td>0.051242</td>\n",
       "      <td>0.148993</td>\n",
       "      <td>0.082476</td>\n",
       "      <td>0.407053</td>\n",
       "      <td>0.438378</td>\n",
       "    </tr>\n",
       "  </tbody>\n",
       "</table>\n",
       "</div>"
      ]
     },
     "execution_count": 26,
     "metadata": {},
     "output_type": "execute_result"
    }
   ],
   "source": [
    "import pandas as pd\n",
    "pd.DataFrame(K)"
   ]
  },
  {
   "cell_type": "code",
   "execution_count": 27,
   "metadata": {
    "ExecuteTime": {
     "end_time": "2020-06-04T13:32:36.351173Z",
     "start_time": "2020-06-04T13:32:36.343738Z"
    }
   },
   "outputs": [
    {
     "data": {
      "text/plain": [
       "array([[1.],\n       [1.],\n       [0.],\n       [0.],\n       [0.],\n       [0.],\n       [0.]])"
      ]
     },
     "execution_count": 27,
     "metadata": {},
     "output_type": "execute_result"
    }
   ],
   "source": [
    "b = np.concatenate([[G_1_x,G_1_y],np.zeros(K.shape[0]-G_1.shape[0]*2)],axis = 0)\n",
    "b = np.reshape(b,newshape = [b.shape[0],1])\n",
    "b"
   ]
  },
  {
   "cell_type": "code",
   "execution_count": 28,
   "metadata": {
    "ExecuteTime": {
     "end_time": "2020-06-04T13:32:36.358958Z",
     "start_time": "2020-06-04T13:32:36.353185Z"
    }
   },
   "outputs": [
    {
     "data": {
      "text/plain": [
       "array([[ 4.56913918],\n       [ 4.14519356],\n       [-2.17210035],\n       [ 3.22825604],\n       [-2.35348485],\n       [ 0.3769922 ],\n       [ 1.2139673 ]])"
      ]
     },
     "execution_count": 28,
     "metadata": {},
     "output_type": "execute_result"
    }
   ],
   "source": [
    "w = np.linalg.solve(K,b)\n",
    "w"
   ]
  },
  {
   "cell_type": "markdown",
   "metadata": {},
   "source": [
    "### Interpolation without Universal term"
   ]
  },
  {
   "cell_type": "code",
   "execution_count": 29,
   "metadata": {
    "ExecuteTime": {
     "end_time": "2020-06-04T13:32:36.368251Z",
     "start_time": "2020-06-04T13:32:36.361115Z"
    }
   },
   "outputs": [],
   "source": [
    "## create grid\n",
    "\n",
    "xx = np.arange(-.5,4.5,0.1)\n",
    "yy = np.arange(-.5,4.5,0.1)\n",
    "XX,YY = np.meshgrid(xx,yy)\n",
    "X = (np.reshape(XX,[-1])).T\n",
    "Y = (np.reshape(YY,[-1])).T\n",
    "\n",
    "grid = np.stack([X,Y],axis = 1)"
   ]
  },
  {
   "cell_type": "code",
   "execution_count": 30,
   "metadata": {
    "ExecuteTime": {
     "end_time": "2020-06-04T13:32:36.374456Z",
     "start_time": "2020-06-04T13:32:36.370146Z"
    }
   },
   "outputs": [],
   "source": [
    "hu_Simpoints = cartesian_dist_no_tile(G_1,grid)"
   ]
  },
  {
   "cell_type": "code",
   "execution_count": 31,
   "metadata": {
    "ExecuteTime": {
     "end_time": "2020-06-04T13:32:36.380086Z",
     "start_time": "2020-06-04T13:32:36.376584Z"
    }
   },
   "outputs": [],
   "source": [
    "sed_dips_SimPoint = squared_euclidean_distance(G_1_tiled,grid)"
   ]
  },
  {
   "cell_type": "code",
   "execution_count": 32,
   "metadata": {
    "ExecuteTime": {
     "end_time": "2020-06-04T13:32:36.388374Z",
     "start_time": "2020-06-04T13:32:36.383084Z"
    }
   },
   "outputs": [],
   "source": [
    "# gradient contribution\n",
    "sigma_0_grad = w[:G_1.shape[0]*2] * (-hu_Simpoints*(- c_o_T * ((-14 / a_T ** 2) + 105 / 4 * sed_dips_SimPoint / a_T ** 3 -\n",
    "                               35 / 2 * sed_dips_SimPoint ** 3 / a_T ** 5 +\n",
    "                               21 / 4 * sed_dips_SimPoint ** 5 / a_T ** 7)))\n",
    "\n",
    "sigma_0_grad = np.sum(sigma_0_grad,axis=0)"
   ]
  },
  {
   "cell_type": "code",
   "execution_count": 33,
   "metadata": {
    "ExecuteTime": {
     "end_time": "2020-06-04T13:32:36.395113Z",
     "start_time": "2020-06-04T13:32:36.390290Z"
    }
   },
   "outputs": [],
   "source": [
    "sed_rest_SimPoint = squared_euclidean_distance(rest_layer_points,grid)\n",
    "sed_ref_SimPoint = squared_euclidean_distance(ref_layer_points,grid)"
   ]
  },
  {
   "cell_type": "code",
   "execution_count": 34,
   "metadata": {
    "ExecuteTime": {
     "end_time": "2020-06-04T13:32:36.407746Z",
     "start_time": "2020-06-04T13:32:36.397285Z"
    }
   },
   "outputs": [],
   "source": [
    "# surface point contribution\n",
    "sigma_0_interf = -w[G_1.shape[0]*2:]*(c_o_T  * ((1 - 7 * (sed_rest_SimPoint / a_T) ** 2 +\n",
    "             35 / 4 * (sed_rest_SimPoint / a_T) ** 3 -\n",
    "             7 / 2 * (sed_rest_SimPoint / a_T) ** 5 +\n",
    "             3 / 4 * (sed_rest_SimPoint / a_T) ** 7) -\n",
    "             (1 - 7 * (sed_ref_SimPoint / a_T) ** 2 +\n",
    "              35 / 4 * (sed_ref_SimPoint / a_T) ** 3 -\n",
    "              7 / 2 * (sed_ref_SimPoint / a_T) ** 5 +\n",
    "              3 / 4 * (sed_ref_SimPoint / a_T) ** 7)))\n",
    "sigma_0_interf = np.sum(sigma_0_interf,axis = 0)"
   ]
  },
  {
   "cell_type": "code",
   "execution_count": 35,
   "metadata": {
    "ExecuteTime": {
     "end_time": "2020-06-04T13:32:36.412975Z",
     "start_time": "2020-06-04T13:32:36.409734Z"
    }
   },
   "outputs": [],
   "source": [
    "interpolate_result = sigma_0_grad+sigma_0_interf\n",
    "intp = np.reshape(interpolate_result,[50,50])"
   ]
  },
  {
   "cell_type": "code",
   "execution_count": 36,
   "metadata": {
    "ExecuteTime": {
     "end_time": "2020-06-04T13:32:36.665180Z",
     "start_time": "2020-06-04T13:32:36.416290Z"
    }
   },
   "outputs": [
    {
     "data": {
      "text/plain": [
       "[<matplotlib.lines.Line2D at 0x11d2fc128>]"
      ]
     },
     "execution_count": 36,
     "metadata": {},
     "output_type": "execute_result"
    },
    {
     "data": {
      "image/png": "[encoded data removed]",
      "text/plain": [
       "<Figure size 432x288 with 2 Axes>"
      ]
     },
     "metadata": {},
     "output_type": "display_data"
    }
   ],
   "source": [
    "plt.contour(XX,YY,intp)\n",
    "plt.colorbar()\n",
    "plt.plot(layer1[:,0], layer1[:,1], 'ro')\n",
    "plt.plot(layer2[:,0], layer2[:,1], 'bo')\n",
    "\n",
    "plt.plot(G_1[0,0], G_1[0,1], 'go')"
   ]
  },
  {
   "cell_type": "markdown",
   "metadata": {},
   "source": [
    "## add drift term"
   ]
  },
  {
   "cell_type": "code",
   "execution_count": 37,
   "metadata": {
    "ExecuteTime": {
     "end_time": "2020-06-04T13:32:36.670096Z",
     "start_time": "2020-06-04T13:32:36.666555Z"
    }
   },
   "outputs": [],
   "source": [
    "U = np.concatenate([np.eye(number_of_layer),\n",
    "np.stack([ref_layer_points[:,0] - rest_layer_points[:,0],\n",
    "ref_layer_points[:,1] - rest_layer_points[:,1]])],axis = 1)\n",
    "\n",
    "U_T = U.T\n"
   ]
  },
  {
   "cell_type": "code",
   "execution_count": 38,
   "metadata": {
    "ExecuteTime": {
     "end_time": "2020-06-04T13:32:36.675655Z",
     "start_time": "2020-06-04T13:32:36.671565Z"
    }
   },
   "outputs": [],
   "source": [
    "### new K matrix\n",
    "\n",
    "zero_matrix = np.zeros([2,2])\n",
    "\n",
    "K_U = np.concatenate([np.concatenate([K,U_T],axis = 1),np.concatenate([U,zero_matrix],axis = 1)],axis = 0)"
   ]
  },
  {
   "cell_type": "code",
   "execution_count": 39,
   "metadata": {
    "ExecuteTime": {
     "end_time": "2020-06-04T13:32:36.690555Z",
     "start_time": "2020-06-04T13:32:36.677287Z"
    }
   },
   "outputs": [
    {
     "data": {
      "text/html": [
       "<div>\n",
       "<style scoped>\n",
       "    .dataframe tbody tr th:only-of-type {\n",
       "        vertical-align: middle;\n",
       "    }\n",
       "\n",
       "    .dataframe tbody tr th {\n",
       "        vertical-align: top;\n",
       "    }\n",
       "\n",
       "    .dataframe thead th {\n",
       "        text-align: right;\n",
       "    }\n",
       "</style>\n",
       "<table border=\"1\" class=\"dataframe\">\n",
       "  <thead>\n",
       "    <tr style=\"text-align: right;\">\n",
       "      <th></th>\n",
       "      <th>0</th>\n",
       "      <th>1</th>\n",
       "      <th>2</th>\n",
       "      <th>3</th>\n",
       "      <th>4</th>\n",
       "      <th>5</th>\n",
       "      <th>6</th>\n",
       "      <th>7</th>\n",
       "      <th>8</th>\n",
       "    </tr>\n",
       "  </thead>\n",
       "  <tbody>\n",
       "    <tr>\n",
       "      <th>0</th>\n",
       "      <td>0.333333</td>\n",
       "      <td>0.000000</td>\n",
       "      <td>0.015699</td>\n",
       "      <td>-0.162014</td>\n",
       "      <td>-0.076728</td>\n",
       "      <td>0.043519</td>\n",
       "      <td>-0.134194</td>\n",
       "      <td>1.0</td>\n",
       "      <td>0.0</td>\n",
       "    </tr>\n",
       "    <tr>\n",
       "      <th>1</th>\n",
       "      <td>0.000000</td>\n",
       "      <td>0.333333</td>\n",
       "      <td>0.207702</td>\n",
       "      <td>0.084932</td>\n",
       "      <td>0.026884</td>\n",
       "      <td>-0.182614</td>\n",
       "      <td>-0.059844</td>\n",
       "      <td>0.0</td>\n",
       "      <td>1.0</td>\n",
       "    </tr>\n",
       "    <tr>\n",
       "      <th>2</th>\n",
       "      <td>0.015699</td>\n",
       "      <td>0.207702</td>\n",
       "      <td>1.178088</td>\n",
       "      <td>0.589044</td>\n",
       "      <td>0.190202</td>\n",
       "      <td>0.291989</td>\n",
       "      <td>0.051242</td>\n",
       "      <td>4.0</td>\n",
       "      <td>0.0</td>\n",
       "    </tr>\n",
       "    <tr>\n",
       "      <th>3</th>\n",
       "      <td>-0.162014</td>\n",
       "      <td>0.084932</td>\n",
       "      <td>0.589044</td>\n",
       "      <td>0.707870</td>\n",
       "      <td>0.353935</td>\n",
       "      <td>0.091754</td>\n",
       "      <td>0.148993</td>\n",
       "      <td>2.0</td>\n",
       "      <td>0.0</td>\n",
       "    </tr>\n",
       "    <tr>\n",
       "      <th>4</th>\n",
       "      <td>-0.076728</td>\n",
       "      <td>0.026884</td>\n",
       "      <td>0.190202</td>\n",
       "      <td>0.353935</td>\n",
       "      <td>0.251322</td>\n",
       "      <td>0.002766</td>\n",
       "      <td>0.082476</td>\n",
       "      <td>1.0</td>\n",
       "      <td>0.0</td>\n",
       "    </tr>\n",
       "    <tr>\n",
       "      <th>5</th>\n",
       "      <td>0.043519</td>\n",
       "      <td>-0.182614</td>\n",
       "      <td>0.291989</td>\n",
       "      <td>0.091754</td>\n",
       "      <td>0.002766</td>\n",
       "      <td>1.083599</td>\n",
       "      <td>0.407053</td>\n",
       "      <td>3.0</td>\n",
       "      <td>1.0</td>\n",
       "    </tr>\n",
       "    <tr>\n",
       "      <th>6</th>\n",
       "      <td>-0.134194</td>\n",
       "      <td>-0.059844</td>\n",
       "      <td>0.051242</td>\n",
       "      <td>0.148993</td>\n",
       "      <td>0.082476</td>\n",
       "      <td>0.407053</td>\n",
       "      <td>0.438378</td>\n",
       "      <td>1.0</td>\n",
       "      <td>1.0</td>\n",
       "    </tr>\n",
       "    <tr>\n",
       "      <th>7</th>\n",
       "      <td>1.000000</td>\n",
       "      <td>0.000000</td>\n",
       "      <td>4.000000</td>\n",
       "      <td>2.000000</td>\n",
       "      <td>1.000000</td>\n",
       "      <td>3.000000</td>\n",
       "      <td>1.000000</td>\n",
       "      <td>0.0</td>\n",
       "      <td>0.0</td>\n",
       "    </tr>\n",
       "    <tr>\n",
       "      <th>8</th>\n",
       "      <td>0.000000</td>\n",
       "      <td>1.000000</td>\n",
       "      <td>0.000000</td>\n",
       "      <td>0.000000</td>\n",
       "      <td>0.000000</td>\n",
       "      <td>1.000000</td>\n",
       "      <td>1.000000</td>\n",
       "      <td>0.0</td>\n",
       "      <td>0.0</td>\n",
       "    </tr>\n",
       "  </tbody>\n",
       "</table>\n",
       "</div>"
      ],
      "text/plain": [
       "<div>\n",
       "<style scoped>\n",
       "    .dataframe tbody tr th:only-of-type {\n",
       "        vertical-align: middle;\n",
       "    }\n",
       "\n",
       "    .dataframe tbody tr th {\n",
       "        vertical-align: top;\n",
       "    }\n",
       "\n",
       "    .dataframe thead th {\n",
       "        text-align: right;\n",
       "    }\n",
       "</style>\n",
       "<table border=\"1\" class=\"dataframe\">\n",
       "  <thead>\n",
       "    <tr style=\"text-align: right;\">\n",
       "      <th></th>\n",
       "      <th>0</th>\n",
       "      <th>1</th>\n",
       "      <th>2</th>\n",
       "      <th>3</th>\n",
       "      <th>4</th>\n",
       "      <th>5</th>\n",
       "      <th>6</th>\n",
       "      <th>7</th>\n",
       "      <th>8</th>\n",
       "    </tr>\n",
       "  </thead>\n",
       "  <tbody>\n",
       "    <tr>\n",
       "      <th>0</th>\n",
       "      <td>0.333333</td>\n",
       "      <td>0.000000</td>\n",
       "      <td>0.015699</td>\n",
       "      <td>-0.162014</td>\n",
       "      <td>-0.076728</td>\n",
       "      <td>0.043519</td>\n",
       "      <td>-0.134194</td>\n",
       "      <td>1.0</td>\n",
       "      <td>0.0</td>\n",
       "    </tr>\n",
       "    <tr>\n",
       "      <th>1</th>\n",
       "      <td>0.000000</td>\n",
       "      <td>0.333333</td>\n",
       "      <td>0.207702</td>\n",
       "      <td>0.084932</td>\n",
       "      <td>0.026884</td>\n",
       "      <td>-0.182614</td>\n",
       "      <td>-0.059844</td>\n",
       "      <td>0.0</td>\n",
       "      <td>1.0</td>\n",
       "    </tr>\n",
       "    <tr>\n",
       "      <th>2</th>\n",
       "      <td>0.015699</td>\n",
       "      <td>0.207702</td>\n",
       "      <td>1.178088</td>\n",
       "      <td>0.589044</td>\n",
       "      <td>0.190202</td>\n",
       "      <td>0.291989</td>\n",
       "      <td>0.051242</td>\n",
       "      <td>4.0</td>\n",
       "      <td>0.0</td>\n",
       "    </tr>\n",
       "    <tr>\n",
       "      <th>3</th>\n",
       "      <td>-0.162014</td>\n",
       "      <td>0.084932</td>\n",
       "      <td>0.589044</td>\n",
       "      <td>0.707870</td>\n",
       "      <td>0.353935</td>\n",
       "      <td>0.091754</td>\n",
       "      <td>0.148993</td>\n",
       "      <td>2.0</td>\n",
       "      <td>0.0</td>\n",
       "    </tr>\n",
       "    <tr>\n",
       "      <th>4</th>\n",
       "      <td>-0.076728</td>\n",
       "      <td>0.026884</td>\n",
       "      <td>0.190202</td>\n",
       "      <td>0.353935</td>\n",
       "      <td>0.251322</td>\n",
       "      <td>0.002766</td>\n",
       "      <td>0.082476</td>\n",
       "      <td>1.0</td>\n",
       "      <td>0.0</td>\n",
       "    </tr>\n",
       "    <tr>\n",
       "      <th>5</th>\n",
       "      <td>0.043519</td>\n",
       "      <td>-0.182614</td>\n",
       "      <td>0.291989</td>\n",
       "      <td>0.091754</td>\n",
       "      <td>0.002766</td>\n",
       "      <td>1.083599</td>\n",
       "      <td>0.407053</td>\n",
       "      <td>3.0</td>\n",
       "      <td>1.0</td>\n",
       "    </tr>\n",
       "    <tr>\n",
       "      <th>6</th>\n",
       "      <td>-0.134194</td>\n",
       "      <td>-0.059844</td>\n",
       "      <td>0.051242</td>\n",
       "      <td>0.148993</td>\n",
       "      <td>0.082476</td>\n",
       "      <td>0.407053</td>\n",
       "      <td>0.438378</td>\n",
       "      <td>1.0</td>\n",
       "      <td>1.0</td>\n",
       "    </tr>\n",
       "    <tr>\n",
       "      <th>7</th>\n",
       "      <td>1.000000</td>\n",
       "      <td>0.000000</td>\n",
       "      <td>4.000000</td>\n",
       "      <td>2.000000</td>\n",
       "      <td>1.000000</td>\n",
       "      <td>3.000000</td>\n",
       "      <td>1.000000</td>\n",
       "      <td>0.0</td>\n",
       "      <td>0.0</td>\n",
       "    </tr>\n",
       "    <tr>\n",
       "      <th>8</th>\n",
       "      <td>0.000000</td>\n",
       "      <td>1.000000</td>\n",
       "      <td>0.000000</td>\n",
       "      <td>0.000000</td>\n",
       "      <td>0.000000</td>\n",
       "      <td>1.000000</td>\n",
       "      <td>1.000000</td>\n",
       "      <td>0.0</td>\n",
       "      <td>0.0</td>\n",
       "    </tr>\n",
       "  </tbody>\n",
       "</table>\n",
       "</div>"
      ]
     },
     "execution_count": 39,
     "metadata": {},
     "output_type": "execute_result"
    }
   ],
   "source": [
    "pd.DataFrame(K_U)"
   ]
  },
  {
   "cell_type": "code",
   "execution_count": 40,
   "metadata": {
    "ExecuteTime": {
     "end_time": "2020-06-04T13:32:36.699725Z",
     "start_time": "2020-06-04T13:32:36.693108Z"
    }
   },
   "outputs": [
    {
     "data": {
      "text/plain": [
       "array([-0.79547975, -0.75778053, -0.72008131, ...,  6.92482335,\n        6.96252257,  7.00022179])"
      ]
     },
     "execution_count": 40,
     "metadata": {},
     "output_type": "execute_result"
    }
   ],
   "source": [
    "### universal contribution\n",
    "sigma_0_1st_drift = np.sum(grid * (w[-2:]).T,axis = 1)\n",
    "sigma_0_1st_drift"
   ]
  },
  {
   "cell_type": "code",
   "execution_count": 41,
   "metadata": {
    "ExecuteTime": {
     "end_time": "2020-06-04T13:32:36.705259Z",
     "start_time": "2020-06-04T13:32:36.701302Z"
    }
   },
   "outputs": [],
   "source": [
    "# rhs b-vector\n",
    "b = np.concatenate([[G_1_x,G_1_y],np.zeros(K_U.shape[0]-G_1.shape[0]*2)],axis = 0)\n",
    "b = np.reshape(b,newshape = [b.shape[0],1])"
   ]
  },
  {
   "cell_type": "code",
   "execution_count": 42,
   "metadata": {
    "ExecuteTime": {
     "end_time": "2020-06-04T13:32:36.711417Z",
     "start_time": "2020-06-04T13:32:36.706972Z"
    }
   },
   "outputs": [
    {
     "data": {
      "text/plain": [
       "array([[ 3.77796059],\n       [ 0.89168119],\n       [-1.42263489],\n       [ 3.06887916],\n       [-2.2895349 ],\n       [-0.52198164],\n       [-0.36969955],\n       [ 0.05765044],\n       [ 0.68171819]])"
      ]
     },
     "execution_count": 42,
     "metadata": {},
     "output_type": "execute_result"
    }
   ],
   "source": [
    "w = np.linalg.solve(K_U,b)\n",
    "w"
   ]
  },
  {
   "cell_type": "code",
   "execution_count": 43,
   "metadata": {
    "ExecuteTime": {
     "end_time": "2020-06-04T13:32:36.723132Z",
     "start_time": "2020-06-04T13:32:36.713510Z"
    }
   },
   "outputs": [],
   "source": [
    "# gradient contribution\n",
    "sigma_0_grad = w[:G_1.shape[0]*2] * (-hu_Simpoints*(- c_o_T * ((-14 / a_T ** 2) + 105 / 4 * sed_dips_SimPoint / a_T ** 3 -\n",
    "                               35 / 2 * sed_dips_SimPoint ** 3 / a_T ** 5 +\n",
    "                               21 / 4 * sed_dips_SimPoint ** 5 / a_T ** 7)))\n",
    "\n",
    "sigma_0_grad = np.sum(sigma_0_grad,axis=0)\n",
    "\n",
    "# surface point contribution\n",
    "sigma_0_interf = -w[G_1.shape[0]*2:-2]*(c_o_T  * ((1 - 7 * (sed_rest_SimPoint / a_T) ** 2 +\n",
    "             35 / 4 * (sed_rest_SimPoint / a_T) ** 3 -\n",
    "             7 / 2 * (sed_rest_SimPoint / a_T) ** 5 +\n",
    "             3 / 4 * (sed_rest_SimPoint / a_T) ** 7) -\n",
    "             (1 - 7 * (sed_ref_SimPoint / a_T) ** 2 +\n",
    "              35 / 4 * (sed_ref_SimPoint / a_T) ** 3 -\n",
    "              7 / 2 * (sed_ref_SimPoint / a_T) ** 5 +\n",
    "              3 / 4 * (sed_ref_SimPoint / a_T) ** 7)))\n",
    "sigma_0_interf = np.sum(sigma_0_interf,axis = 0)\n"
   ]
  },
  {
   "cell_type": "code",
   "execution_count": 44,
   "metadata": {
    "ExecuteTime": {
     "end_time": "2020-06-04T13:32:36.730880Z",
     "start_time": "2020-06-04T13:32:36.725441Z"
    }
   },
   "outputs": [
    {
     "data": {
      "text/plain": [
       "array([-0.36968432, -0.36391927, -0.35815423, ...,  3.24169189,\n        3.24745693,  3.25322198])"
      ]
     },
     "execution_count": 44,
     "metadata": {},
     "output_type": "execute_result"
    }
   ],
   "source": [
    "sigma_0_1st_drift = np.sum(grid * (w[-2:]).T,axis = 1)\n",
    "sigma_0_1st_drift"
   ]
  },
  {
   "cell_type": "code",
   "execution_count": 45,
   "metadata": {
    "ExecuteTime": {
     "end_time": "2020-06-04T13:32:36.736415Z",
     "start_time": "2020-06-04T13:32:36.732886Z"
    }
   },
   "outputs": [],
   "source": [
    "interpolate_result = sigma_0_grad+sigma_0_interf+sigma_0_1st_drift\n",
    "\n",
    "intp = np.reshape(interpolate_result,[50,50]) # reshape the result to matrix shape"
   ]
  },
  {
   "cell_type": "code",
   "execution_count": 47,
   "metadata": {
    "ExecuteTime": {
     "end_time": "2020-06-04T13:32:36.950047Z",
     "start_time": "2020-06-04T13:32:36.738611Z"
    }
   },
   "outputs": [
    {
     "data": {
      "text/plain": [
       "[<matplotlib.lines.Line2D at 0x11d5dc3c8>]"
      ]
     },
     "execution_count": 47,
     "metadata": {},
     "output_type": "execute_result"
    },
    {
     "data": {
      "image/png": "[encoded data removed]",
      "text/plain": [
       "<Figure size 432x288 with 2 Axes>"
      ]
     },
     "metadata": {},
     "output_type": "display_data"
    }
   ],
   "source": [
    "plt.contour(XX,YY,intp)\n",
    "plt.colorbar()\n",
    "plt.plot(layer1[:,0], layer1[:,1], 'ro')\n",
    "plt.plot(layer2[:,0], layer2[:,1], 'bo')\n",
    "\n",
    "plt.plot(G_1[0,0], G_1[0,1], 'go')"
   ]
  },
  {
   "cell_type": "code",
   "execution_count": 47,
   "metadata": {},
   "outputs": [],
   "source": []
  },
  {
   "cell_type": "code",
   "execution_count": null,
   "metadata": {},
   "outputs": [],
   "source": []
  }
 ],
 "metadata": {
  "kernelspec": {
   "display_name": "Python 3.7.7 64-bit ('gempy': conda)",
   "language": "python",
   "name": "python37764bitgempyconda56adf421e2e348a0921383dec03a4eee"
  },
  "language_info": {
   "codemirror_mode": {
    "name": "ipython",
    "version": 3
   },
   "file_extension": ".py",
   "mimetype": "text/x-python",
   "name": "python",
   "nbconvert_exporter": "python",
   "pygments_lexer": "ipython3",
   "version": "3.7.7"
  },
  "varInspector": {
   "cols": {
    "lenName": 16.0,
    "lenType": 16.0,
    "lenVar": 40.0
   },
   "kernels_config": {
    "python": {
     "delete_cmd_postfix": "",
     "delete_cmd_prefix": "del ",
     "library": "var_list.py",
     "varRefreshCmd": "print(var_dic_list())"
    },
    "r": {
     "delete_cmd_postfix": ") ",
     "delete_cmd_prefix": "rm(",
     "library": "var_list.r",
     "varRefreshCmd": "cat(var_dic_list()) "
    }
   },
   "types_to_exclude": [
    "module",
    "function",
    "builtin_function_or_method",
    "instance",
    "_Feature"
   ],
   "window_display": false
  }
 },
 "nbformat": 4,
 "nbformat_minor": 2
}