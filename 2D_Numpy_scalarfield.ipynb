{
 "cells": [
  {
   "cell_type": "code",
   "execution_count": 1,
   "metadata": {
    "ExecuteTime": {
     "end_time": "2020-06-04T13:32:36.186072Z",
     "start_time": "2020-06-04T13:32:36.182233Z"
    }
   },
   "outputs": [],
   "source": [
    "import numpy as np\n",
    "import matplotlib.pyplot as plt\n",
    "%matplotlib inline\n"
   ]
  },
  {
   "cell_type": "markdown",
   "metadata": {},
   "source": [
    "### defne the input points"
   ]
  },
  {
   "cell_type": "code",
   "execution_count": 2,
   "metadata": {
    "ExecuteTime": {
     "end_time": "2020-06-04T13:32:36.190926Z",
     "start_time": "2020-06-04T13:32:36.187778Z"
    }
   },
   "outputs": [],
   "source": [
    "## defining the dips position\n",
    "G_1 = np.array([[0., 1.]])\n",
    "\n",
    "G_1_x = 1\n",
    "G_1_y = 1\n",
    "\n",
    "G_1_tiled = np.tile(G_1,[2,1])"
   ]
  },
  {
   "cell_type": "code",
   "execution_count": 3,
   "metadata": {
    "ExecuteTime": {
     "end_time": "2020-06-04T13:32:36.197190Z",
     "start_time": "2020-06-04T13:32:36.192977Z"
    }
   },
   "outputs": [],
   "source": [
    "def squared_euclidean_distance(x_1,x_2):\n",
    "    sqd = np.sqrt(np.reshape(np.sum(x_1**2,1),newshape =(x_1.shape[0],1))+\\\n",
    "    np.reshape(np.sum(x_2**2,1),newshape =(1,x_2.shape[0]))-\\\n",
    "    2*(x_1@x_2.T))\n",
    "    return sqd"
   ]
  },
  {
   "cell_type": "code",
   "execution_count": 4,
   "metadata": {
    "ExecuteTime": {
     "end_time": "2020-06-04T13:32:36.203770Z",
     "start_time": "2020-06-04T13:32:36.199188Z"
    }
   },
   "outputs": [],
   "source": [
    "def cartesian_dist(x_1,x_2):\n",
    "    return np.concatenate([\n",
    "        np.tile(x_1[:,0] - np.reshape(x_2[:,0],[x_2.shape[0],1]),[1,2]),\n",
    "        np.tile(x_1[:,1] - np.reshape(x_2[:,1],[x_2.shape[0],1]),[1,2])],axis = 0) \n",
    "h_u = cartesian_dist(G_1,G_1)\n",
    "h_v = h_u.T"
   ]
  },
  {
   "cell_type": "code",
   "execution_count": 5,
   "metadata": {
    "ExecuteTime": {
     "end_time": "2020-06-04T13:32:36.210282Z",
     "start_time": "2020-06-04T13:32:36.205241Z"
    }
   },
   "outputs": [],
   "source": [
    "a = np.concatenate([np.ones([G_1.shape[0],G_1.shape[0]]),np.zeros([G_1.shape[0],G_1.shape[0]])],axis = 1)\n",
    "b = np.concatenate([np.zeros([G_1.shape[0],G_1.shape[0]]),np.ones([G_1.shape[0],G_1.shape[0]])],axis = 1)\n",
    "\n",
    "perpendicularity_matrix = np.concatenate([a,b],axis = 0)"
   ]
  },
  {
   "cell_type": "code",
   "execution_count": 6,
   "metadata": {
    "ExecuteTime": {
     "end_time": "2020-06-04T13:32:36.214471Z",
     "start_time": "2020-06-04T13:32:36.211835Z"
    }
   },
   "outputs": [],
   "source": [
    "dist_tiled = squared_euclidean_distance(G_1_tiled,G_1_tiled)"
   ]
  },
  {
   "source": [
    "cubic covariance\n",
    "$$\n",
    "\\begin{aligned}\n",
    "&C(r)=\n",
    "\\left\\{\\begin{array}{ll}\n",
    "C_{0}\\left(1-7\\left(\\frac{r}{a}\\right)^{2}+\\frac{35}{4}\\left(\\frac{r}{a}\\right)^{3}-\\frac{7}{2}\\left(\\frac{r}{a}\\right)^{5}+\\frac{3}{4}\\left(\\frac{r}{a}\\right)^{7}\\right) & \\text { for } 0 \\leq r \\leq a \\\\\n",
    "0 & \\text { for } r \\geq a\n",
    "\\end{array}\\right.\n",
    "\\end{aligned}\n",
    "$$"
   ],
   "cell_type": "markdown",
   "metadata": {}
  },
  {
   "cell_type": "code",
   "execution_count": 7,
   "metadata": {
    "ExecuteTime": {
     "end_time": "2020-06-04T13:32:36.219657Z",
     "start_time": "2020-06-04T13:32:36.216706Z"
    }
   },
   "outputs": [],
   "source": [
    "a_T = 5\n",
    "c_o_T = a_T**2/14/3"
   ]
  },
  {
   "source": [
    "$$\n",
    "\\begin{array}{l}\n",
    "\\mathbf{C}_{\\partial \\mathbf{Z} / \\partial u, \\partial \\mathbf{Z} / \\partial u}=C_{Z}^{\\prime}(r)\\left(-\\frac{h_{u}^{2}}{r^{3}}+\\frac{1}{r}\\right)-\\frac{h_{u}}{r} C_{Z}^{\\prime \\prime} \\frac{h_{u}}{r} \\\\\n",
    "\\quad=C_{Z}^{\\prime}(r)\\left(-\\frac{h_{u}^{2}}{r^{3}}+\\frac{1}{r}\\right)+\\frac{h_{u}^{2}}{r^{2}} C_{Z}^{\\prime \\prime}\n",
    "\\end{array} \\tag{B9}\n",
    "$$\n",
    "\n",
    "$$\n",
    "\\begin{array}{l}\n",
    "\\mathbf{C}_{\\partial \\mathbf{Z} / \\partial \\mathbf{u}, \\partial \\mathbf{Z} / \\partial \\mathbf{v}}=C_{Z}^{\\prime}(r)\\left(-\\frac{h_{u} h_{v}}{r^{3}}\\right)+C_{Z}^{\\prime \\prime}(r) \\frac{h_{u} h_{v}}{r^{2}} \\\\\n",
    "\\quad=\\frac{h_{u} h_{v}}{r^{2}}\\left(C_{Z}^{\\prime \\prime}(r)-\\frac{C_{Z}^{\\prime}(r)}{r}\\right)\n",
    "\\end{array} \\tag{B13}\n",
    "$$\n",
    "\n"
   ],
   "cell_type": "markdown",
   "metadata": {}
  },
  {
   "cell_type": "code",
   "execution_count": 8,
   "metadata": {
    "ExecuteTime": {
     "end_time": "2020-06-04T13:32:36.229927Z",
     "start_time": "2020-06-04T13:32:36.222490Z"
    }
   },
   "outputs": [],
   "source": [
    "def cov_gradients(dist_tiled):\n",
    "    \n",
    "    condition1 = 0\n",
    "    a = (h_u*h_v)\n",
    "    b = dist_tiled**2\n",
    "\n",
    "    t1 =  np.divide(a, b, out=np.zeros_like(a), where=b!=0)\n",
    "    t2 = -c_o_T*((-14/a_T**2)+\n",
    "                 105/4*dist_tiled/a_T**3 -\n",
    "                 35/2 * dist_tiled**3 / a_T **5 +\n",
    "                 21 /4 * dist_tiled**5/a_T**7)+\\\n",
    "         c_o_T * 7 * (9 * dist_tiled ** 5 -\n",
    "                      20 * a_T ** 2 * dist_tiled ** 3 +\n",
    "                      15 * a_T ** 4 * dist_tiled -\n",
    "                      4 * a_T ** 5) / (2 * a_T ** 7)\n",
    "\n",
    "    # when we do the covariance of Gx with Gx, Gy with Gy and so on, quation B9 in Gempy paper\n",
    "    t3 = perpendicularity_matrix * \\\n",
    "         c_o_T * ((-14 / a_T ** 2) + 105 / 4 * dist_tiled / a_T ** 3 -\n",
    "                   35 / 2 * dist_tiled ** 3 / a_T ** 5 +\n",
    "                   21 / 4 * dist_tiled ** 5 / a_T ** 7)\n",
    "    t4 = 1/3*np.eye(dist_tiled.shape[0])\n",
    "\n",
    "    condition2 = t1 * t2 - t3 + t4\n",
    "\n",
    "    C_G = np.where(dist_tiled==0, condition1, condition2) ## adding nugget effect\n",
    "    return C_G\n"
   ]
  },
  {
   "cell_type": "code",
   "execution_count": 9,
   "metadata": {
    "ExecuteTime": {
     "end_time": "2020-06-04T13:32:36.237056Z",
     "start_time": "2020-06-04T13:32:36.232130Z"
    }
   },
   "outputs": [
    {
     "output_type": "execute_result",
     "data": {
      "text/plain": [
       "array([[0.54496, 0.     ],\n",
       "       [0.     , 0.54496]])"
      ]
     },
     "metadata": {},
     "execution_count": 9
    }
   ],
   "source": [
    "dist_tiled = dist_tiled + np.eye(dist_tiled.shape[0])\n",
    "\n",
    "C_G = cov_gradients(dist_tiled)\n",
    "\n",
    "C_G"
   ]
  },
  {
   "cell_type": "markdown",
   "metadata": {},
   "source": [
    "### covariance of interface points"
   ]
  },
  {
   "cell_type": "code",
   "execution_count": 10,
   "metadata": {
    "ExecuteTime": {
     "end_time": "2020-06-04T13:32:36.243508Z",
     "start_time": "2020-06-04T13:32:36.238802Z"
    }
   },
   "outputs": [],
   "source": [
    "layer1 = np.array([[0,0],[2,0]])\n",
    "layer2 = np.array([[0,2],[2,2]])\n",
    "\n",
    "layer1 = np.array([[0,0],[2,0],[3,0],[4,0]])\n",
    "layer2 = np.array([[0,2],[2,2],[3,3]])\n",
    "\n",
    "number_of_layer = 2"
   ]
  },
  {
   "cell_type": "code",
   "execution_count": 11,
   "metadata": {
    "ExecuteTime": {
     "end_time": "2020-06-04T13:32:36.249148Z",
     "start_time": "2020-06-04T13:32:36.245131Z"
    }
   },
   "outputs": [],
   "source": [
    "number_of_points_per_surface = np.array([layer1.shape[0],layer2.shape[0]])"
   ]
  },
  {
   "cell_type": "code",
   "execution_count": 12,
   "metadata": {
    "ExecuteTime": {
     "end_time": "2020-06-04T13:32:36.255857Z",
     "start_time": "2020-06-04T13:32:36.251498Z"
    }
   },
   "outputs": [],
   "source": [
    "def set_rest_ref_matrix(number_of_points_per_surface):\n",
    "    ref_layer_points = np.repeat(np.stack([layer1[-1],layer2[-1]],axis = 0),repeats=number_of_points_per_surface-1,axis = 0)\n",
    "    rest_layer_points = np.concatenate([layer1[0:-1],layer2[0:-1]],axis = 0)\n",
    "    return ref_layer_points,rest_layer_points"
   ]
  },
  {
   "cell_type": "code",
   "execution_count": 13,
   "metadata": {
    "ExecuteTime": {
     "end_time": "2020-06-04T13:32:36.260850Z",
     "start_time": "2020-06-04T13:32:36.257731Z"
    }
   },
   "outputs": [],
   "source": [
    "ref_layer_points,rest_layer_points = set_rest_ref_matrix(number_of_points_per_surface)"
   ]
  },
  {
   "cell_type": "code",
   "execution_count": 14,
   "metadata": {
    "ExecuteTime": {
     "end_time": "2020-06-04T13:32:36.266164Z",
     "start_time": "2020-06-04T13:32:36.262878Z"
    }
   },
   "outputs": [],
   "source": [
    "sed_rest_rest = squared_euclidean_distance(rest_layer_points,rest_layer_points)\n",
    "sed_ref_rest = squared_euclidean_distance(ref_layer_points,rest_layer_points)\n",
    "sed_rest_ref = squared_euclidean_distance(rest_layer_points,ref_layer_points)\n",
    "sed_ref_ref = squared_euclidean_distance(ref_layer_points,ref_layer_points)"
   ]
  },
  {
   "cell_type": "code",
   "execution_count": 15,
   "metadata": {
    "ExecuteTime": {
     "end_time": "2020-06-04T13:32:36.275034Z",
     "start_time": "2020-06-04T13:32:36.267734Z"
    }
   },
   "outputs": [],
   "source": [
    "def cov_interface(ref_layer_points,rest_layer_points):\n",
    "    sed_rest_rest = squared_euclidean_distance(rest_layer_points,rest_layer_points)\n",
    "    sed_ref_rest = squared_euclidean_distance(ref_layer_points,rest_layer_points)\n",
    "    sed_rest_ref = squared_euclidean_distance(rest_layer_points,ref_layer_points)\n",
    "    sed_ref_ref = squared_euclidean_distance(ref_layer_points,ref_layer_points)\n",
    "    \n",
    "    C_I = c_o_T*((1 - 7 * (sed_rest_rest / a_T) ** 2 +\\\n",
    "                 35 / 4 * (sed_rest_rest / a_T) ** 3 -\\\n",
    "                 7 / 2 * (sed_rest_rest / a_T) ** 5 +\\\n",
    "                 3 / 4 * (sed_rest_rest / a_T) ** 7) -\\\n",
    "                 (1 - 7 * (sed_ref_rest / a_T) ** 2 +\\\n",
    "                  35 / 4 * (sed_ref_rest / a_T) ** 3 -\\\n",
    "                  7 / 2 * (sed_ref_rest / a_T) ** 5 +\\\n",
    "                  3 / 4 * (sed_ref_rest / a_T) ** 7) -\\\n",
    "                 (1 - 7 * (sed_rest_ref / a_T) ** 2 +\\\n",
    "                  35 / 4 * (sed_rest_ref / a_T) ** 3 -\\\n",
    "                  7 / 2 * (sed_rest_ref / a_T) ** 5 +\\\n",
    "                  3 / 4 * (sed_rest_ref / a_T) ** 7) +\\\n",
    "                 (1 - 7 * (sed_ref_ref / a_T) ** 2 +\\\n",
    "                  35 / 4 * (sed_ref_ref / a_T) ** 3 -\\\n",
    "                  7 / 2 * (sed_ref_ref / a_T) ** 5 +\\\n",
    "                  3 / 4 * (sed_ref_ref / a_T) ** 7))\n",
    "    \n",
    "    return C_I"
   ]
  },
  {
   "cell_type": "code",
   "execution_count": 16,
   "metadata": {
    "ExecuteTime": {
     "end_time": "2020-06-04T13:32:36.280469Z",
     "start_time": "2020-06-04T13:32:36.277140Z"
    }
   },
   "outputs": [],
   "source": [
    "C_I = cov_interface(ref_layer_points,rest_layer_points)"
   ]
  },
  {
   "cell_type": "code",
   "execution_count": 17,
   "metadata": {
    "ExecuteTime": {
     "end_time": "2020-06-04T13:32:36.286925Z",
     "start_time": "2020-06-04T13:32:36.282394Z"
    }
   },
   "outputs": [
    {
     "output_type": "execute_result",
     "data": {
      "text/plain": [
       "array([[1.17808762, 0.58904381, 0.1902019 , 0.29198873, 0.05124151],\n",
       "       [0.58904381, 0.70787048, 0.35393524, 0.09175378, 0.14899344],\n",
       "       [0.1902019 , 0.35393524, 0.2513219 , 0.00276594, 0.08247576],\n",
       "       [0.29198873, 0.09175378, 0.00276594, 1.08359866, 0.40705288],\n",
       "       [0.05124151, 0.14899344, 0.08247576, 0.40705288, 0.43837758]])"
      ]
     },
     "metadata": {},
     "execution_count": 17
    }
   ],
   "source": [
    "C_I"
   ]
  },
  {
   "cell_type": "markdown",
   "metadata": {},
   "source": [
    "### Covariance of interface points and gradients"
   ]
  },
  {
   "cell_type": "code",
   "execution_count": 18,
   "metadata": {
    "ExecuteTime": {
     "end_time": "2020-06-04T13:32:36.292378Z",
     "start_time": "2020-06-04T13:32:36.289039Z"
    }
   },
   "outputs": [],
   "source": [
    "sed_dips_rest = squared_euclidean_distance(G_1_tiled,rest_layer_points)\n",
    "sed_dips_ref = squared_euclidean_distance(G_1_tiled,ref_layer_points)"
   ]
  },
  {
   "cell_type": "code",
   "execution_count": 19,
   "metadata": {
    "ExecuteTime": {
     "end_time": "2020-06-04T13:32:36.301708Z",
     "start_time": "2020-06-04T13:32:36.294171Z"
    }
   },
   "outputs": [],
   "source": [
    "## Cartesian distance between dips and interface points\n",
    "\n",
    "def cartesian_dist_no_tile(x_1,x_2):\n",
    "    return np.concatenate([\n",
    "        np.transpose((x_1[:,0] - np.reshape(x_2[:,0],[x_2.shape[0],1]))),\n",
    "        np.transpose((x_1[:,1] - np.reshape(x_2[:,1],[x_2.shape[0],1])))],axis = 0) \n",
    "\n",
    "hu_rest = cartesian_dist_no_tile(G_1,rest_layer_points)\n",
    "hu_ref = cartesian_dist_no_tile(G_1,ref_layer_points)"
   ]
  },
  {
   "cell_type": "code",
   "execution_count": 20,
   "metadata": {
    "ExecuteTime": {
     "end_time": "2020-06-04T13:32:36.309912Z",
     "start_time": "2020-06-04T13:32:36.304112Z"
    }
   },
   "outputs": [],
   "source": [
    "def cov_interface_gradients(hu_rest,hu_ref):\n",
    "    C_GI = (hu_rest*(- c_o_T * ((-14 / a_T ** 2) + 105 / 4 * sed_dips_rest / a_T ** 3 -\n",
    "                                  35 / 2 * sed_dips_rest ** 3 / a_T ** 5 +\n",
    "                                  21 / 4 * sed_dips_rest ** 5 / a_T ** 7))-\\\n",
    "    hu_ref*(-c_o_T * ((-14 / a_T ** 2) + 105 / 4 * sed_dips_ref / a_T ** 3 -\n",
    "                                  35 / 2 * sed_dips_ref ** 3 / a_T ** 5 +\n",
    "                                  21 / 4 * sed_dips_ref ** 5 / a_T ** 7)))\n",
    "    return C_GI"
   ]
  },
  {
   "cell_type": "code",
   "execution_count": 21,
   "metadata": {
    "ExecuteTime": {
     "end_time": "2020-06-04T13:32:36.315021Z",
     "start_time": "2020-06-04T13:32:36.312036Z"
    }
   },
   "outputs": [],
   "source": [
    "C_GI = cov_interface_gradients(hu_rest,hu_ref)\n",
    "C_IG = C_GI.T"
   ]
  },
  {
   "cell_type": "markdown",
   "metadata": {},
   "source": [
    "### Kriging Matrix"
   ]
  },
  {
   "cell_type": "code",
   "execution_count": 22,
   "metadata": {
    "ExecuteTime": {
     "end_time": "2020-06-04T13:32:36.322615Z",
     "start_time": "2020-06-04T13:32:36.318551Z"
    }
   },
   "outputs": [],
   "source": [
    "K = np.concatenate([np.concatenate([C_G,C_GI],axis = 1),\n",
    "np.concatenate([C_IG,C_I],axis = 1)],axis = 0)\n"
   ]
  },
  {
   "cell_type": "code",
   "execution_count": 23,
   "metadata": {
    "ExecuteTime": {
     "end_time": "2020-06-04T13:32:36.341285Z",
     "start_time": "2020-06-04T13:32:36.325089Z"
    }
   },
   "outputs": [
    {
     "output_type": "execute_result",
     "data": {
      "text/plain": [
       "          0         1         2         3         4         5         6\n",
       "0  0.544960  0.000000  0.015699 -0.162014 -0.076728  0.043519 -0.134194\n",
       "1  0.000000  0.544960  0.207702  0.084932  0.026884 -0.182614 -0.059844\n",
       "2  0.015699  0.207702  1.178088  0.589044  0.190202  0.291989  0.051242\n",
       "3 -0.162014  0.084932  0.589044  0.707870  0.353935  0.091754  0.148993\n",
       "4 -0.076728  0.026884  0.190202  0.353935  0.251322  0.002766  0.082476\n",
       "5  0.043519 -0.182614  0.291989  0.091754  0.002766  1.083599  0.407053\n",
       "6 -0.134194 -0.059844  0.051242  0.148993  0.082476  0.407053  0.438378"
      ],
      "text/html": "<div>\n<style scoped>\n    .dataframe tbody tr th:only-of-type {\n        vertical-align: middle;\n    }\n\n    .dataframe tbody tr th {\n        vertical-align: top;\n    }\n\n    .dataframe thead th {\n        text-align: right;\n    }\n</style>\n<table border=\"1\" class=\"dataframe\">\n  <thead>\n    <tr style=\"text-align: right;\">\n      <th></th>\n      <th>0</th>\n      <th>1</th>\n      <th>2</th>\n      <th>3</th>\n      <th>4</th>\n      <th>5</th>\n      <th>6</th>\n    </tr>\n  </thead>\n  <tbody>\n    <tr>\n      <th>0</th>\n      <td>0.544960</td>\n      <td>0.000000</td>\n      <td>0.015699</td>\n      <td>-0.162014</td>\n      <td>-0.076728</td>\n      <td>0.043519</td>\n      <td>-0.134194</td>\n    </tr>\n    <tr>\n      <th>1</th>\n      <td>0.000000</td>\n      <td>0.544960</td>\n      <td>0.207702</td>\n      <td>0.084932</td>\n      <td>0.026884</td>\n      <td>-0.182614</td>\n      <td>-0.059844</td>\n    </tr>\n    <tr>\n      <th>2</th>\n      <td>0.015699</td>\n      <td>0.207702</td>\n      <td>1.178088</td>\n      <td>0.589044</td>\n      <td>0.190202</td>\n      <td>0.291989</td>\n      <td>0.051242</td>\n    </tr>\n    <tr>\n      <th>3</th>\n      <td>-0.162014</td>\n      <td>0.084932</td>\n      <td>0.589044</td>\n      <td>0.707870</td>\n      <td>0.353935</td>\n      <td>0.091754</td>\n      <td>0.148993</td>\n    </tr>\n    <tr>\n      <th>4</th>\n      <td>-0.076728</td>\n      <td>0.026884</td>\n      <td>0.190202</td>\n      <td>0.353935</td>\n      <td>0.251322</td>\n      <td>0.002766</td>\n      <td>0.082476</td>\n    </tr>\n    <tr>\n      <th>5</th>\n      <td>0.043519</td>\n      <td>-0.182614</td>\n      <td>0.291989</td>\n      <td>0.091754</td>\n      <td>0.002766</td>\n      <td>1.083599</td>\n      <td>0.407053</td>\n    </tr>\n    <tr>\n      <th>6</th>\n      <td>-0.134194</td>\n      <td>-0.059844</td>\n      <td>0.051242</td>\n      <td>0.148993</td>\n      <td>0.082476</td>\n      <td>0.407053</td>\n      <td>0.438378</td>\n    </tr>\n  </tbody>\n</table>\n</div>"
     },
     "metadata": {},
     "execution_count": 23
    }
   ],
   "source": [
    "import pandas as pd\n",
    "pd.DataFrame(K)"
   ]
  },
  {
   "cell_type": "code",
   "execution_count": 24,
   "metadata": {
    "ExecuteTime": {
     "end_time": "2020-06-04T13:32:36.351173Z",
     "start_time": "2020-06-04T13:32:36.343738Z"
    }
   },
   "outputs": [
    {
     "output_type": "execute_result",
     "data": {
      "text/plain": [
       "array([[1.],\n",
       "       [1.],\n",
       "       [0.],\n",
       "       [0.],\n",
       "       [0.],\n",
       "       [0.],\n",
       "       [0.]])"
      ]
     },
     "metadata": {},
     "execution_count": 24
    }
   ],
   "source": [
    "b = np.concatenate([[G_1_x,G_1_y],np.zeros(K.shape[0]-G_1.shape[0]*2)],axis = 0)\n",
    "b = np.reshape(b,newshape = [b.shape[0],1])\n",
    "b"
   ]
  },
  {
   "cell_type": "code",
   "execution_count": 25,
   "metadata": {
    "ExecuteTime": {
     "end_time": "2020-06-04T13:32:36.358958Z",
     "start_time": "2020-06-04T13:32:36.353185Z"
    }
   },
   "outputs": [
    {
     "output_type": "execute_result",
     "data": {
      "text/plain": [
       "array([[ 2.32162776],\n",
       "       [ 2.20952965],\n",
       "       [-1.13604187],\n",
       "       [ 1.6563299 ],\n",
       "       [-1.20037611],\n",
       "       [ 0.22195066],\n",
       "       [ 0.60190314]])"
      ]
     },
     "metadata": {},
     "execution_count": 25
    }
   ],
   "source": [
    "w = np.linalg.solve(K,b)\n",
    "w"
   ]
  },
  {
   "cell_type": "markdown",
   "metadata": {},
   "source": [
    "### Interpolation without Universal term"
   ]
  },
  {
   "cell_type": "code",
   "execution_count": 26,
   "metadata": {
    "ExecuteTime": {
     "end_time": "2020-06-04T13:32:36.368251Z",
     "start_time": "2020-06-04T13:32:36.361115Z"
    }
   },
   "outputs": [],
   "source": [
    "## create grid\n",
    "\n",
    "xx = np.arange(-.5,4.5,0.1)\n",
    "yy = np.arange(-.5,4.5,0.1)\n",
    "XX,YY = np.meshgrid(xx,yy)\n",
    "X = (np.reshape(XX,[-1])).T\n",
    "Y = (np.reshape(YY,[-1])).T\n",
    "\n",
    "grid = np.stack([X,Y],axis = 1)"
   ]
  },
  {
   "cell_type": "code",
   "execution_count": 27,
   "metadata": {
    "ExecuteTime": {
     "end_time": "2020-06-04T13:32:36.374456Z",
     "start_time": "2020-06-04T13:32:36.370146Z"
    }
   },
   "outputs": [],
   "source": [
    "hu_Simpoints = cartesian_dist_no_tile(G_1,grid)"
   ]
  },
  {
   "cell_type": "code",
   "execution_count": 28,
   "metadata": {
    "ExecuteTime": {
     "end_time": "2020-06-04T13:32:36.380086Z",
     "start_time": "2020-06-04T13:32:36.376584Z"
    }
   },
   "outputs": [],
   "source": [
    "sed_dips_SimPoint = squared_euclidean_distance(G_1_tiled,grid)"
   ]
  },
  {
   "cell_type": "code",
   "execution_count": 29,
   "metadata": {
    "ExecuteTime": {
     "end_time": "2020-06-04T13:32:36.388374Z",
     "start_time": "2020-06-04T13:32:36.383084Z"
    }
   },
   "outputs": [],
   "source": [
    "# gradient contribution\n",
    "sigma_0_grad = w[:G_1.shape[0]*2] * (-hu_Simpoints*(- c_o_T * ((-14 / a_T ** 2) + 105 / 4 * sed_dips_SimPoint / a_T ** 3 -\n",
    "                               35 / 2 * sed_dips_SimPoint ** 3 / a_T ** 5 +\n",
    "                               21 / 4 * sed_dips_SimPoint ** 5 / a_T ** 7)))\n",
    "\n",
    "sigma_0_grad = np.sum(sigma_0_grad,axis=0)"
   ]
  },
  {
   "cell_type": "code",
   "execution_count": 30,
   "metadata": {
    "ExecuteTime": {
     "end_time": "2020-06-04T13:32:36.395113Z",
     "start_time": "2020-06-04T13:32:36.390290Z"
    }
   },
   "outputs": [],
   "source": [
    "sed_rest_SimPoint = squared_euclidean_distance(rest_layer_points,grid)\n",
    "sed_ref_SimPoint = squared_euclidean_distance(ref_layer_points,grid)"
   ]
  },
  {
   "cell_type": "code",
   "execution_count": 31,
   "metadata": {
    "ExecuteTime": {
     "end_time": "2020-06-04T13:32:36.407746Z",
     "start_time": "2020-06-04T13:32:36.397285Z"
    }
   },
   "outputs": [],
   "source": [
    "# surface point contribution\n",
    "sigma_0_interf = -w[G_1.shape[0]*2:]*(c_o_T  * ((1 - 7 * (sed_rest_SimPoint / a_T) ** 2 +\n",
    "             35 / 4 * (sed_rest_SimPoint / a_T) ** 3 -\n",
    "             7 / 2 * (sed_rest_SimPoint / a_T) ** 5 +\n",
    "             3 / 4 * (sed_rest_SimPoint / a_T) ** 7) -\n",
    "             (1 - 7 * (sed_ref_SimPoint / a_T) ** 2 +\n",
    "              35 / 4 * (sed_ref_SimPoint / a_T) ** 3 -\n",
    "              7 / 2 * (sed_ref_SimPoint / a_T) ** 5 +\n",
    "              3 / 4 * (sed_ref_SimPoint / a_T) ** 7)))\n",
    "sigma_0_interf = np.sum(sigma_0_interf,axis = 0)"
   ]
  },
  {
   "cell_type": "code",
   "execution_count": 32,
   "metadata": {
    "ExecuteTime": {
     "end_time": "2020-06-04T13:32:36.412975Z",
     "start_time": "2020-06-04T13:32:36.409734Z"
    }
   },
   "outputs": [],
   "source": [
    "interpolate_result = sigma_0_grad+sigma_0_interf\n",
    "intp = np.reshape(interpolate_result,[50,50])"
   ]
  },
  {
   "cell_type": "code",
   "execution_count": 33,
   "metadata": {
    "ExecuteTime": {
     "end_time": "2020-06-04T13:32:36.665180Z",
     "start_time": "2020-06-04T13:32:36.416290Z"
    }
   },
   "outputs": [
    {
     "output_type": "execute_result",
     "data": {
      "text/plain": [
       "<matplotlib.quiver.Quiver at 0x1ec3435cec8>"
      ]
     },
     "metadata": {},
     "execution_count": 33
    },
    {
     "output_type": "display_data",
     "data": {
      "text/plain": "<Figure size 432x288 with 2 Axes>",
      "image/svg+xml": "<?xml version=\"1.0\" encoding=\"utf-8\" standalone=\"no\"?>\r\n<!DOCTYPE svg PUBLIC \"-//W3C//DTD SVG 1.1//EN\"\r\n  \"http://www.w3.org/Graphics/SVG/1.1/DTD/svg11.dtd\">\r\n<!-- Created with matplotlib (https://matplotlib.org/) -->\r\n<svg height=\"252.317344pt\" version=\"1.1\" viewBox=\"0 0 360.859812 252.317344\" width=\"360.859812pt\" xmlns=\"http://www.w3.org/2000/svg\" xmlns:xlink=\"http://www.w3.org/1999/xlink\">\r\n <metadata>\r\n  <rdf:RDF xmlns:cc=\"http://creativecommons.org/ns#\" xmlns:dc=\"http://purl.org/dc/elements/1.1/\" xmlns:rdf=\"http://www.w3.org/1999/02/22-rdf-syntax-ns#\">\r\n   <cc:Work>\r\n    <dc:type rdf:resource=\"http://purl.org/dc/dcmitype/StillImage\"/>\r\n    <dc:date>2020-12-11T15:19:24.847925</dc:date>\r\n    <dc:format>image/svg+xml</dc:format>\r\n    <dc:creator>\r\n     <cc:Agent>\r\n      <dc:title>Matplotlib v3.3.3, https://matplotlib.org/</dc:title>\r\n     </cc:Agent>\r\n    </dc:creator>\r\n   </cc:Work>\r\n  </rdf:RDF>\r\n </metadata>\r\n <defs>\r\n  <style type=\"text/css\">*{stroke-linecap:butt;stroke-linejoin:round;}</style>\r\n </defs>\r\n <g id=\"figure_1\">\r\n  <g id=\"patch_1\">\r\n   <path d=\"M 0 252.317344 \r\nL 360.859812 252.317344 \r\nL 360.859812 0 \r\nL 0 0 \r\nz\r\n\" style=\"fill:none;\"/>\r\n  </g>\r\n  <g id=\"axes_1\">\r\n   <g id=\"patch_2\">\r\n    <path d=\"M 20.5625 228.439219 \r\nL 288.4025 228.439219 \r\nL 288.4025 10.999219 \r\nL 20.5625 10.999219 \r\nz\r\n\" style=\"fill:#ffffff;\"/>\r\n   </g>\r\n   <g id=\"Quiver_1\">\r\n    <path clip-path=\"url(#pb197f186e0)\" d=\"M 47.182894 161.165735 \r\nL 51.312681 157.035949 \r\nL 49.182026 156.325731 \r\nL 58.414861 151.354205 \r\nL 53.443335 160.587039 \r\nL 52.733117 158.456385 \r\nL 48.60333 162.586171 \r\nL 47.182894 161.165735 \r\n\" style=\"fill:#ff0000;\"/>\r\n   </g>\r\n   <g id=\"matplotlib.axis_1\">\r\n    <g id=\"xtick_1\">\r\n     <g id=\"line2d_1\">\r\n      <defs>\r\n       <path d=\"M 0 0 \r\nL 0 3.5 \r\n\" id=\"m56abf829db\" style=\"stroke:#000000;stroke-width:0.8;\"/>\r\n      </defs>\r\n      <g>\r\n       <use style=\"stroke:#000000;stroke-width:0.8;\" x=\"47.893112\" xlink:href=\"#m56abf829db\" y=\"228.439219\"/>\r\n      </g>\r\n     </g>\r\n     <g id=\"text_1\">\r\n      <!-- 0 -->\r\n      <g transform=\"translate(44.711862 243.037656)scale(0.1 -0.1)\">\r\n       <defs>\r\n        <path d=\"M 31.78125 66.40625 \r\nQ 24.171875 66.40625 20.328125 58.90625 \r\nQ 16.5 51.421875 16.5 36.375 \r\nQ 16.5 21.390625 20.328125 13.890625 \r\nQ 24.171875 6.390625 31.78125 6.390625 \r\nQ 39.453125 6.390625 43.28125 13.890625 \r\nQ 47.125 21.390625 47.125 36.375 \r\nQ 47.125 51.421875 43.28125 58.90625 \r\nQ 39.453125 66.40625 31.78125 66.40625 \r\nz\r\nM 31.78125 74.21875 \r\nQ 44.046875 74.21875 50.515625 64.515625 \r\nQ 56.984375 54.828125 56.984375 36.375 \r\nQ 56.984375 17.96875 50.515625 8.265625 \r\nQ 44.046875 -1.421875 31.78125 -1.421875 \r\nQ 19.53125 -1.421875 13.0625 8.265625 \r\nQ 6.59375 17.96875 6.59375 36.375 \r\nQ 6.59375 54.828125 13.0625 64.515625 \r\nQ 19.53125 74.21875 31.78125 74.21875 \r\nz\r\n\" id=\"DejaVuSans-48\"/>\r\n       </defs>\r\n       <use xlink:href=\"#DejaVuSans-48\"/>\r\n      </g>\r\n     </g>\r\n    </g>\r\n    <g id=\"xtick_2\">\r\n     <g id=\"line2d_2\">\r\n      <g>\r\n       <use style=\"stroke:#000000;stroke-width:0.8;\" x=\"102.554337\" xlink:href=\"#m56abf829db\" y=\"228.439219\"/>\r\n      </g>\r\n     </g>\r\n     <g id=\"text_2\">\r\n      <!-- 1 -->\r\n      <g transform=\"translate(99.373087 243.037656)scale(0.1 -0.1)\">\r\n       <defs>\r\n        <path d=\"M 12.40625 8.296875 \r\nL 28.515625 8.296875 \r\nL 28.515625 63.921875 \r\nL 10.984375 60.40625 \r\nL 10.984375 69.390625 \r\nL 28.421875 72.90625 \r\nL 38.28125 72.90625 \r\nL 38.28125 8.296875 \r\nL 54.390625 8.296875 \r\nL 54.390625 0 \r\nL 12.40625 0 \r\nz\r\n\" id=\"DejaVuSans-49\"/>\r\n       </defs>\r\n       <use xlink:href=\"#DejaVuSans-49\"/>\r\n      </g>\r\n     </g>\r\n    </g>\r\n    <g id=\"xtick_3\">\r\n     <g id=\"line2d_3\">\r\n      <g>\r\n       <use style=\"stroke:#000000;stroke-width:0.8;\" x=\"157.215561\" xlink:href=\"#m56abf829db\" y=\"228.439219\"/>\r\n      </g>\r\n     </g>\r\n     <g id=\"text_3\">\r\n      <!-- 2 -->\r\n      <g transform=\"translate(154.034311 243.037656)scale(0.1 -0.1)\">\r\n       <defs>\r\n        <path d=\"M 19.1875 8.296875 \r\nL 53.609375 8.296875 \r\nL 53.609375 0 \r\nL 7.328125 0 \r\nL 7.328125 8.296875 \r\nQ 12.9375 14.109375 22.625 23.890625 \r\nQ 32.328125 33.6875 34.8125 36.53125 \r\nQ 39.546875 41.84375 41.421875 45.53125 \r\nQ 43.3125 49.21875 43.3125 52.78125 \r\nQ 43.3125 58.59375 39.234375 62.25 \r\nQ 35.15625 65.921875 28.609375 65.921875 \r\nQ 23.96875 65.921875 18.8125 64.3125 \r\nQ 13.671875 62.703125 7.8125 59.421875 \r\nL 7.8125 69.390625 \r\nQ 13.765625 71.78125 18.9375 73 \r\nQ 24.125 74.21875 28.421875 74.21875 \r\nQ 39.75 74.21875 46.484375 68.546875 \r\nQ 53.21875 62.890625 53.21875 53.421875 \r\nQ 53.21875 48.921875 51.53125 44.890625 \r\nQ 49.859375 40.875 45.40625 35.40625 \r\nQ 44.1875 33.984375 37.640625 27.21875 \r\nQ 31.109375 20.453125 19.1875 8.296875 \r\nz\r\n\" id=\"DejaVuSans-50\"/>\r\n       </defs>\r\n       <use xlink:href=\"#DejaVuSans-50\"/>\r\n      </g>\r\n     </g>\r\n    </g>\r\n    <g id=\"xtick_4\">\r\n     <g id=\"line2d_4\">\r\n      <g>\r\n       <use style=\"stroke:#000000;stroke-width:0.8;\" x=\"211.876786\" xlink:href=\"#m56abf829db\" y=\"228.439219\"/>\r\n      </g>\r\n     </g>\r\n     <g id=\"text_4\">\r\n      <!-- 3 -->\r\n      <g transform=\"translate(208.695536 243.037656)scale(0.1 -0.1)\">\r\n       <defs>\r\n        <path d=\"M 40.578125 39.3125 \r\nQ 47.65625 37.796875 51.625 33 \r\nQ 55.609375 28.21875 55.609375 21.1875 \r\nQ 55.609375 10.40625 48.1875 4.484375 \r\nQ 40.765625 -1.421875 27.09375 -1.421875 \r\nQ 22.515625 -1.421875 17.65625 -0.515625 \r\nQ 12.796875 0.390625 7.625 2.203125 \r\nL 7.625 11.71875 \r\nQ 11.71875 9.328125 16.59375 8.109375 \r\nQ 21.484375 6.890625 26.8125 6.890625 \r\nQ 36.078125 6.890625 40.9375 10.546875 \r\nQ 45.796875 14.203125 45.796875 21.1875 \r\nQ 45.796875 27.640625 41.28125 31.265625 \r\nQ 36.765625 34.90625 28.71875 34.90625 \r\nL 20.21875 34.90625 \r\nL 20.21875 43.015625 \r\nL 29.109375 43.015625 \r\nQ 36.375 43.015625 40.234375 45.921875 \r\nQ 44.09375 48.828125 44.09375 54.296875 \r\nQ 44.09375 59.90625 40.109375 62.90625 \r\nQ 36.140625 65.921875 28.71875 65.921875 \r\nQ 24.65625 65.921875 20.015625 65.03125 \r\nQ 15.375 64.15625 9.8125 62.3125 \r\nL 9.8125 71.09375 \r\nQ 15.4375 72.65625 20.34375 73.4375 \r\nQ 25.25 74.21875 29.59375 74.21875 \r\nQ 40.828125 74.21875 47.359375 69.109375 \r\nQ 53.90625 64.015625 53.90625 55.328125 \r\nQ 53.90625 49.265625 50.4375 45.09375 \r\nQ 46.96875 40.921875 40.578125 39.3125 \r\nz\r\n\" id=\"DejaVuSans-51\"/>\r\n       </defs>\r\n       <use xlink:href=\"#DejaVuSans-51\"/>\r\n      </g>\r\n     </g>\r\n    </g>\r\n    <g id=\"xtick_5\">\r\n     <g id=\"line2d_5\">\r\n      <g>\r\n       <use style=\"stroke:#000000;stroke-width:0.8;\" x=\"266.53801\" xlink:href=\"#m56abf829db\" y=\"228.439219\"/>\r\n      </g>\r\n     </g>\r\n     <g id=\"text_5\">\r\n      <!-- 4 -->\r\n      <g transform=\"translate(263.35676 243.037656)scale(0.1 -0.1)\">\r\n       <defs>\r\n        <path d=\"M 37.796875 64.3125 \r\nL 12.890625 25.390625 \r\nL 37.796875 25.390625 \r\nz\r\nM 35.203125 72.90625 \r\nL 47.609375 72.90625 \r\nL 47.609375 25.390625 \r\nL 58.015625 25.390625 \r\nL 58.015625 17.1875 \r\nL 47.609375 17.1875 \r\nL 47.609375 0 \r\nL 37.796875 0 \r\nL 37.796875 17.1875 \r\nL 4.890625 17.1875 \r\nL 4.890625 26.703125 \r\nz\r\n\" id=\"DejaVuSans-52\"/>\r\n       </defs>\r\n       <use xlink:href=\"#DejaVuSans-52\"/>\r\n      </g>\r\n     </g>\r\n    </g>\r\n   </g>\r\n   <g id=\"matplotlib.axis_2\">\r\n    <g id=\"ytick_1\">\r\n     <g id=\"line2d_6\">\r\n      <defs>\r\n       <path d=\"M 0 0 \r\nL -3.5 0 \r\n\" id=\"m9305119a20\" style=\"stroke:#000000;stroke-width:0.8;\"/>\r\n      </defs>\r\n      <g>\r\n       <use style=\"stroke:#000000;stroke-width:0.8;\" x=\"20.5625\" xlink:href=\"#m9305119a20\" y=\"206.251464\"/>\r\n      </g>\r\n     </g>\r\n     <g id=\"text_6\">\r\n      <!-- 0 -->\r\n      <g transform=\"translate(7.2 210.050682)scale(0.1 -0.1)\">\r\n       <use xlink:href=\"#DejaVuSans-48\"/>\r\n      </g>\r\n     </g>\r\n    </g>\r\n    <g id=\"ytick_2\">\r\n     <g id=\"line2d_7\">\r\n      <g>\r\n       <use style=\"stroke:#000000;stroke-width:0.8;\" x=\"20.5625\" xlink:href=\"#m9305119a20\" y=\"161.875953\"/>\r\n      </g>\r\n     </g>\r\n     <g id=\"text_7\">\r\n      <!-- 1 -->\r\n      <g transform=\"translate(7.2 165.675172)scale(0.1 -0.1)\">\r\n       <use xlink:href=\"#DejaVuSans-49\"/>\r\n      </g>\r\n     </g>\r\n    </g>\r\n    <g id=\"ytick_3\">\r\n     <g id=\"line2d_8\">\r\n      <g>\r\n       <use style=\"stroke:#000000;stroke-width:0.8;\" x=\"20.5625\" xlink:href=\"#m9305119a20\" y=\"117.500443\"/>\r\n      </g>\r\n     </g>\r\n     <g id=\"text_8\">\r\n      <!-- 2 -->\r\n      <g transform=\"translate(7.2 121.299662)scale(0.1 -0.1)\">\r\n       <use xlink:href=\"#DejaVuSans-50\"/>\r\n      </g>\r\n     </g>\r\n    </g>\r\n    <g id=\"ytick_4\">\r\n     <g id=\"line2d_9\">\r\n      <g>\r\n       <use style=\"stroke:#000000;stroke-width:0.8;\" x=\"20.5625\" xlink:href=\"#m9305119a20\" y=\"73.124933\"/>\r\n      </g>\r\n     </g>\r\n     <g id=\"text_9\">\r\n      <!-- 3 -->\r\n      <g transform=\"translate(7.2 76.924152)scale(0.1 -0.1)\">\r\n       <use xlink:href=\"#DejaVuSans-51\"/>\r\n      </g>\r\n     </g>\r\n    </g>\r\n    <g id=\"ytick_5\">\r\n     <g id=\"line2d_10\">\r\n      <g>\r\n       <use style=\"stroke:#000000;stroke-width:0.8;\" x=\"20.5625\" xlink:href=\"#m9305119a20\" y=\"28.749423\"/>\r\n      </g>\r\n     </g>\r\n     <g id=\"text_10\">\r\n      <!-- 4 -->\r\n      <g transform=\"translate(7.2 32.548642)scale(0.1 -0.1)\">\r\n       <use xlink:href=\"#DejaVuSans-52\"/>\r\n      </g>\r\n     </g>\r\n    </g>\r\n   </g>\r\n   <g id=\"LineCollection_1\"/>\r\n   <g id=\"LineCollection_2\">\r\n    <path clip-path=\"url(#pb197f186e0)\" d=\"M 20.5625 192.132058 \r\nL 21.068525 192.938811 \r\nL 23.221694 197.376362 \r\nL 24.892155 201.813913 \r\nL 26.028622 206.022552 \r\nL 26.090605 206.251464 \r\nL 26.77224 210.689015 \r\nL 26.966041 215.126566 \r\nL 26.553935 219.564117 \r\nL 26.028622 221.620897 \r\nL 25.307349 224.001668 \r\nL 22.901042 228.439219 \r\n\" style=\"fill:none;stroke:#46327e;stroke-width:1.5;\"/>\r\n   </g>\r\n   <g id=\"LineCollection_3\">\r\n    <path clip-path=\"url(#pb197f186e0)\" d=\"M 20.5625 163.761994 \r\nL 24.133235 166.313504 \r\nL 26.028622 167.731767 \r\nL 29.949524 170.751055 \r\nL 31.494745 172.051306 \r\nL 35.080745 175.188607 \r\nL 36.960867 177.00711 \r\nL 39.622757 179.626158 \r\nL 42.42699 182.60253 \r\nL 43.8567 184.063709 \r\nL 47.893112 188.405908 \r\nL 47.990999 188.50126 \r\nL 52.266466 192.938811 \r\nL 53.359235 194.113369 \r\nL 56.961687 197.376362 \r\nL 58.825357 199.106197 \r\nL 62.493263 201.813913 \r\nL 64.29148 203.180952 \r\nL 69.689424 206.251464 \r\nL 69.757602 206.292165 \r\nL 75.223724 208.717401 \r\nL 80.689847 210.258087 \r\nL 83.368396 210.689015 \r\nL 86.155969 211.186263 \r\nL 91.622092 211.536145 \r\nL 97.088214 211.336902 \r\nL 102.277703 210.689015 \r\nL 102.554337 210.659566 \r\nL 108.020459 209.693808 \r\nL 113.486582 208.382146 \r\nL 118.952704 206.75412 \r\nL 120.411393 206.251464 \r\nL 124.418827 205.017807 \r\nL 129.884949 203.142851 \r\nL 133.505005 201.813913 \r\nL 135.351071 201.196343 \r\nL 140.817194 199.333402 \r\nL 146.283316 197.480089 \r\nL 146.612957 197.376362 \r\nL 151.749439 195.87152 \r\nL 157.215561 194.409055 \r\nL 162.681684 193.110302 \r\nL 163.544326 192.938811 \r\nL 168.147806 192.051983 \r\nL 173.613929 191.152746 \r\nL 179.080051 190.379551 \r\nL 184.546173 189.705263 \r\nL 190.012296 189.094614 \r\nL 195.478418 188.503195 \r\nL 195.49653 188.50126 \r\nL 200.944541 187.927184 \r\nL 206.410663 187.274661 \r\nL 211.876786 186.502329 \r\nL 217.342908 185.58612 \r\nL 222.809031 184.528937 \r\nL 225.037877 184.063709 \r\nL 228.275153 183.419636 \r\nL 233.741276 182.295748 \r\nL 239.207398 181.174389 \r\nL 244.67352 180.117177 \r\nL 247.60118 179.626158 \r\nL 250.139643 179.222366 \r\nL 255.605765 178.542418 \r\nL 261.071888 178.092595 \r\nL 266.53801 177.923393 \r\nL 272.004133 178.082109 \r\nL 277.470255 178.613096 \r\nL 282.936378 179.557376 \r\nL 283.219775 179.626158 \r\nL 288.4025 181.092756 \r\n\" style=\"fill:none;stroke:#365c8d;stroke-width:1.5;\"/>\r\n   </g>\r\n   <g id=\"LineCollection_4\">\r\n    <path clip-path=\"url(#pb197f186e0)\" d=\"M 20.5625 146.9135 \r\nL 22.469552 148.5633 \r\nL 26.028622 151.414388 \r\nL 27.93124 153.000851 \r\nL 31.494745 155.768325 \r\nL 33.578372 157.438402 \r\nL 36.960867 160.002993 \r\nL 39.387089 161.875953 \r\nL 42.42699 164.223176 \r\nL 45.083944 166.313504 \r\nL 47.893112 168.65351 \r\nL 50.564927 170.751055 \r\nL 53.359235 173.050867 \r\nL 56.345969 175.188607 \r\nL 58.825357 177.062258 \r\nL 62.908823 179.626158 \r\nL 64.29148 180.544413 \r\nL 69.757602 183.454213 \r\nL 71.244729 184.063709 \r\nL 75.223724 185.792758 \r\nL 80.689847 187.495352 \r\nL 85.608557 188.50126 \r\nL 86.155969 188.620496 \r\nL 91.622092 189.269859 \r\nL 97.088214 189.426119 \r\nL 102.554337 189.146532 \r\nL 107.844302 188.50126 \r\nL 108.020459 188.480889 \r\nL 113.486582 187.527352 \r\nL 118.952704 186.291735 \r\nL 124.418827 184.821026 \r\nL 126.940302 184.063709 \r\nL 129.884949 183.198439 \r\nL 135.351071 181.474071 \r\nL 140.817194 179.666612 \r\nL 140.939484 179.626158 \r\nL 146.283316 177.85925 \r\nL 151.749439 176.044706 \r\nL 154.38675 175.188607 \r\nL 157.215561 174.255112 \r\nL 162.681684 172.504163 \r\nL 168.147806 170.783122 \r\nL 168.25509 170.751055 \r\nL 173.613929 169.105735 \r\nL 179.080051 167.453068 \r\nL 182.916829 166.313504 \r\nL 184.546173 165.81605 \r\nL 190.012296 164.196718 \r\nL 195.478418 162.570018 \r\nL 197.830036 161.875953 \r\nL 200.944541 160.94052 \r\nL 206.410663 159.306017 \r\nL 211.876786 157.650749 \r\nL 212.58785 157.438402 \r\nL 217.342908 156.009525 \r\nL 222.809031 154.368771 \r\nL 227.399146 153.000851 \r\nL 228.275153 152.738618 \r\nL 233.741276 151.157532 \r\nL 239.207398 149.613589 \r\nL 243.083762 148.5633 \r\nL 244.67352 148.12949 \r\nL 250.139643 146.7317 \r\nL 255.605765 145.418106 \r\nL 261.071888 144.20284 \r\nL 261.464299 144.125749 \r\nL 266.53801 143.1108 \r\nL 272.004133 142.140955 \r\nL 277.470255 141.300087 \r\nL 282.936378 140.592032 \r\nL 288.4025 140.015453 \r\n\" style=\"fill:none;stroke:#277f8e;stroke-width:1.5;\"/>\r\n   </g>\r\n   <g id=\"LineCollection_5\">\r\n    <path clip-path=\"url(#pb197f186e0)\" d=\"M 20.5625 126.68703 \r\nL 23.906283 130.813096 \r\nL 26.028622 133.20796 \r\nL 27.759257 135.250647 \r\nL 31.494745 139.29485 \r\nL 31.844717 139.688198 \r\nL 36.151262 144.125749 \r\nL 36.960867 144.891836 \r\nL 40.717921 148.5633 \r\nL 42.42699 150.107752 \r\nL 45.587167 153.000851 \r\nL 47.893112 154.972937 \r\nL 50.930296 157.438402 \r\nL 53.359235 159.267482 \r\nL 57.338838 161.875953 \r\nL 58.825357 162.832403 \r\nL 64.29148 165.827165 \r\nL 65.367325 166.313504 \r\nL 69.757602 168.340415 \r\nL 75.223724 170.332625 \r\nL 76.786287 170.751055 \r\nL 80.689847 171.826769 \r\nL 86.155969 172.810418 \r\nL 91.622092 173.308181 \r\nL 97.088214 173.351974 \r\nL 102.554337 172.976802 \r\nL 108.020459 172.221842 \r\nL 113.486582 171.130234 \r\nL 115.003139 170.751055 \r\nL 118.952704 169.741815 \r\nL 124.418827 168.107632 \r\nL 129.782272 166.313504 \r\nL 129.884949 166.277958 \r\nL 135.351071 164.265702 \r\nL 140.817194 162.148399 \r\nL 141.508965 161.875953 \r\nL 146.283316 159.913612 \r\nL 151.749439 157.638393 \r\nL 152.235973 157.438402 \r\nL 157.215561 155.291991 \r\nL 162.582058 153.000851 \r\nL 162.681684 152.956135 \r\nL 168.147806 150.583869 \r\nL 172.915636 148.5633 \r\nL 173.613929 148.253464 \r\nL 179.080051 145.925421 \r\nL 183.437214 144.125749 \r\nL 184.546173 143.649538 \r\nL 190.012296 141.394744 \r\nL 194.271894 139.688198 \r\nL 195.478418 139.188753 \r\nL 200.944541 137.001691 \r\nL 205.422013 135.250647 \r\nL 206.410663 134.852252 \r\nL 211.876786 132.707616 \r\nL 216.781989 130.813096 \r\nL 217.342908 130.589519 \r\nL 222.809031 128.458076 \r\nL 228.205728 126.375545 \r\nL 228.275153 126.347739 \r\nL 233.741276 124.205821 \r\nL 239.207398 122.083523 \r\nL 239.592085 121.937994 \r\nL 244.67352 119.921994 \r\nL 250.139643 117.780793 \r\nL 250.878483 117.500443 \r\nL 255.605765 115.597909 \r\nL 261.071888 113.438195 \r\nL 262.058124 113.062892 \r\nL 266.53801 111.232868 \r\nL 272.004133 109.047475 \r\nL 273.100538 108.625341 \r\nL 277.470255 106.796296 \r\nL 282.936378 104.538628 \r\nL 283.806752 104.18779 \r\nL 288.4025 102.144116 \r\n\" style=\"fill:none;stroke:#1fa187;stroke-width:1.5;\"/>\r\n    <path clip-path=\"url(#pb197f186e0)\" d=\"M 71.107436 10.999219 \r\nL 69.757602 11.347406 \r\nL 64.29148 12.881308 \r\nL 58.825357 14.578148 \r\nL 56.30289 15.43677 \r\nL 53.359235 16.440158 \r\nL 47.893112 18.500438 \r\nL 44.601499 19.874321 \r\nL 42.42699 20.800644 \r\nL 36.960867 23.378486 \r\nL 35.164065 24.311872 \r\nL 31.494745 26.299126 \r\nL 27.420265 28.749423 \r\nL 26.028622 29.63767 \r\nL 20.989271 33.186974 \r\nL 20.5625 33.512656 \r\n\" style=\"fill:none;stroke:#1fa187;stroke-width:1.5;\"/>\r\n   </g>\r\n   <g id=\"LineCollection_6\">\r\n    <path clip-path=\"url(#pb197f186e0)\" d=\"M 86.155969 157.67493 \r\nL 91.622092 157.917158 \r\nL 97.088214 157.687915 \r\nL 102.554337 156.9961 \r\nL 108.020459 155.875097 \r\nL 113.486582 154.394468 \r\nL 118.952704 152.583355 \r\nL 124.418827 150.423504 \r\nL 129.884949 148.034144 \r\nL 137.842045 144.125749 \r\nL 146.283316 139.551082 \r\nL 173.613929 123.881894 \r\nL 190.012296 115.269 \r\nL 203.164963 108.625341 \r\nL 211.876786 104.04101 \r\nL 219.50732 99.750239 \r\nL 226.650457 95.312688 \r\nL 233.741276 90.230907 \r\nL 239.207398 85.652364 \r\nL 243.020921 82.000035 \r\nL 246.849492 77.562484 \r\nL 250.139643 72.62898 \r\nL 252.182193 68.687382 \r\nL 253.679116 64.249831 \r\nL 254.360327 59.81228 \r\nL 254.168326 55.374729 \r\nL 253.002365 50.937178 \r\nL 250.710192 46.499627 \r\nL 250.139643 45.747839 \r\nL 246.960579 42.062076 \r\nL 244.67352 40.121685 \r\nL 241.188626 37.624525 \r\nL 239.207398 36.485177 \r\nL 233.741276 33.896885 \r\nL 231.89141 33.186974 \r\nL 228.275153 31.988117 \r\nL 222.809031 30.555607 \r\nL 217.342908 29.47161 \r\nL 211.876786 28.67229 \r\nL 206.410663 28.113808 \r\nL 200.944541 27.735989 \r\nL 195.478418 27.506323 \r\nL 184.546173 27.387704 \r\nL 173.613929 27.592502 \r\nL 162.681684 28.013016 \r\nL 146.283316 28.934456 \r\nL 135.351071 29.735699 \r\nL 124.418827 30.720465 \r\nL 113.486582 31.955025 \r\nL 102.554337 33.53253 \r\nL 97.088214 34.486591 \r\nL 91.622092 35.571578 \r\nL 82.979153 37.624525 \r\nL 80.689847 38.22491 \r\nL 75.223724 39.852881 \r\nL 68.860234 42.062076 \r\nL 64.29148 43.892882 \r\nL 58.648945 46.499627 \r\nL 53.359235 49.411234 \r\nL 50.919757 50.937178 \r\nL 47.893112 53.012313 \r\nL 44.838295 55.374729 \r\nL 42.42699 57.478834 \r\nL 40.035144 59.81228 \r\nL 36.23664 64.249831 \r\nL 33.31276 68.687382 \r\nL 31.082681 73.124933 \r\nL 29.511538 77.562484 \r\nL 28.48834 82.000035 \r\nL 27.967285 86.437586 \r\nL 27.907227 90.875137 \r\nL 28.271306 95.312688 \r\nL 29.026628 99.750239 \r\nL 30.144035 104.18779 \r\nL 31.600507 108.625341 \r\nL 33.406782 113.062892 \r\nL 35.504703 117.500443 \r\nL 37.907734 121.937994 \r\nL 40.620968 126.375545 \r\nL 43.644038 130.813096 \r\nL 47.893112 136.308186 \r\nL 50.848276 139.688198 \r\nL 53.359235 142.322394 \r\nL 55.256704 144.125749 \r\nL 58.825357 147.189883 \r\nL 60.718698 148.5633 \r\nL 64.29148 150.869899 \r\nL 69.757602 153.618016 \r\nL 75.223724 155.543813 \r\nL 80.689847 156.897608 \r\nL 86.155969 157.67493 \r\nL 86.155969 157.67493 \r\n\" style=\"fill:none;stroke:#4ac16d;stroke-width:1.5;\"/>\r\n   </g>\r\n   <g id=\"LineCollection_7\">\r\n    <path clip-path=\"url(#pb197f186e0)\" d=\"M 80.689847 136.096653 \r\nL 86.155969 137.273834 \r\nL 91.622092 137.572533 \r\nL 97.088214 137.103415 \r\nL 102.554337 135.983965 \r\nL 104.954517 135.250647 \r\nL 108.020459 134.187188 \r\nL 113.486582 131.815298 \r\nL 115.480271 130.813096 \r\nL 118.952704 128.84858 \r\nL 122.975699 126.375545 \r\nL 124.418827 125.378367 \r\nL 129.184091 121.937994 \r\nL 129.884949 121.371083 \r\nL 134.615043 117.500443 \r\nL 135.351071 116.829024 \r\nL 139.553421 113.062892 \r\nL 140.817194 111.806036 \r\nL 144.164939 108.625341 \r\nL 146.283316 106.388187 \r\nL 148.518848 104.18779 \r\nL 151.749439 100.604145 \r\nL 152.590102 99.750239 \r\nL 156.280694 95.312688 \r\nL 157.215561 93.896679 \r\nL 159.429485 90.875137 \r\nL 161.780861 86.437586 \r\nL 162.681684 83.020291 \r\nL 162.983865 82.000035 \r\nL 162.681684 78.992472 \r\nL 162.515354 77.562484 \r\nL 159.549042 73.124933 \r\nL 157.215561 71.415934 \r\nL 152.589669 68.687382 \r\nL 151.749439 68.353192 \r\nL 146.283316 66.513246 \r\nL 140.817194 65.107452 \r\nL 136.338014 64.249831 \r\nL 135.351071 64.097076 \r\nL 129.884949 63.474336 \r\nL 124.418827 63.10628 \r\nL 118.952704 62.988082 \r\nL 113.486582 63.120657 \r\nL 108.020459 63.510687 \r\nL 102.554337 64.170965 \r\nL 102.107035 64.249831 \r\nL 97.088214 65.190721 \r\nL 91.622092 66.551205 \r\nL 86.155969 68.286187 \r\nL 85.138011 68.687382 \r\nL 80.689847 70.606212 \r\nL 75.935408 73.124933 \r\nL 75.223724 73.54905 \r\nL 69.757602 77.508339 \r\nL 69.694792 77.562484 \r\nL 65.339942 82.000035 \r\nL 64.29148 83.327748 \r\nL 62.219728 86.437586 \r\nL 60.033704 90.875137 \r\nL 58.825357 94.601874 \r\nL 58.628753 95.312688 \r\nL 57.991653 99.750239 \r\nL 57.944435 104.18779 \r\nL 58.442623 108.625341 \r\nL 58.825357 110.27574 \r\nL 59.536168 113.062892 \r\nL 61.23657 117.500443 \r\nL 63.470003 121.937994 \r\nL 64.29148 123.229446 \r\nL 66.658509 126.375545 \r\nL 69.757602 129.732701 \r\nL 71.039304 130.813096 \r\nL 75.223724 133.692761 \r\nL 78.523735 135.250647 \r\nL 80.689847 136.096653 \r\n\" style=\"fill:none;stroke:#a0da39;stroke-width:1.5;\"/>\r\n   </g>\r\n   <g id=\"LineCollection_8\"/>\r\n   <g id=\"line2d_11\">\r\n    <defs>\r\n     <path d=\"M 0 3 \r\nC 0.795609 3 1.55874 2.683901 2.12132 2.12132 \r\nC 2.683901 1.55874 3 0.795609 3 0 \r\nC 3 -0.795609 2.683901 -1.55874 2.12132 -2.12132 \r\nC 1.55874 -2.683901 0.795609 -3 0 -3 \r\nC -0.795609 -3 -1.55874 -2.683901 -2.12132 -2.12132 \r\nC -2.683901 -1.55874 -3 -0.795609 -3 0 \r\nC -3 0.795609 -2.683901 1.55874 -2.12132 2.12132 \r\nC -1.55874 2.683901 -0.795609 3 0 3 \r\nz\r\n\" id=\"ma9b5412686\" style=\"stroke:#ff0000;\"/>\r\n    </defs>\r\n    <g clip-path=\"url(#pb197f186e0)\">\r\n     <use style=\"fill:#ff0000;stroke:#ff0000;\" x=\"47.893112\" xlink:href=\"#ma9b5412686\" y=\"206.251464\"/>\r\n     <use style=\"fill:#ff0000;stroke:#ff0000;\" x=\"157.215561\" xlink:href=\"#ma9b5412686\" y=\"206.251464\"/>\r\n     <use style=\"fill:#ff0000;stroke:#ff0000;\" x=\"211.876786\" xlink:href=\"#ma9b5412686\" y=\"206.251464\"/>\r\n     <use style=\"fill:#ff0000;stroke:#ff0000;\" x=\"266.53801\" xlink:href=\"#ma9b5412686\" y=\"206.251464\"/>\r\n    </g>\r\n   </g>\r\n   <g id=\"line2d_12\">\r\n    <defs>\r\n     <path d=\"M 0 3 \r\nC 0.795609 3 1.55874 2.683901 2.12132 2.12132 \r\nC 2.683901 1.55874 3 0.795609 3 0 \r\nC 3 -0.795609 2.683901 -1.55874 2.12132 -2.12132 \r\nC 1.55874 -2.683901 0.795609 -3 0 -3 \r\nC -0.795609 -3 -1.55874 -2.683901 -2.12132 -2.12132 \r\nC -2.683901 -1.55874 -3 -0.795609 -3 0 \r\nC -3 0.795609 -2.683901 1.55874 -2.12132 2.12132 \r\nC -1.55874 2.683901 -0.795609 3 0 3 \r\nz\r\n\" id=\"ma61d72f147\" style=\"stroke:#0000ff;\"/>\r\n    </defs>\r\n    <g clip-path=\"url(#pb197f186e0)\">\r\n     <use style=\"fill:#0000ff;stroke:#0000ff;\" x=\"47.893112\" xlink:href=\"#ma61d72f147\" y=\"117.500443\"/>\r\n     <use style=\"fill:#0000ff;stroke:#0000ff;\" x=\"157.215561\" xlink:href=\"#ma61d72f147\" y=\"117.500443\"/>\r\n     <use style=\"fill:#0000ff;stroke:#0000ff;\" x=\"211.876786\" xlink:href=\"#ma61d72f147\" y=\"73.124933\"/>\r\n    </g>\r\n   </g>\r\n   <g id=\"line2d_13\">\r\n    <defs>\r\n     <path d=\"M 0 3 \r\nC 0.795609 3 1.55874 2.683901 2.12132 2.12132 \r\nC 2.683901 1.55874 3 0.795609 3 0 \r\nC 3 -0.795609 2.683901 -1.55874 2.12132 -2.12132 \r\nC 1.55874 -2.683901 0.795609 -3 0 -3 \r\nC -0.795609 -3 -1.55874 -2.683901 -2.12132 -2.12132 \r\nC -2.683901 -1.55874 -3 -0.795609 -3 0 \r\nC -3 0.795609 -2.683901 1.55874 -2.12132 2.12132 \r\nC -1.55874 2.683901 -0.795609 3 0 3 \r\nz\r\n\" id=\"mcaf9296209\" style=\"stroke:#008000;\"/>\r\n    </defs>\r\n    <g clip-path=\"url(#pb197f186e0)\">\r\n     <use style=\"fill:#008000;stroke:#008000;\" x=\"47.893112\" xlink:href=\"#mcaf9296209\" y=\"161.875953\"/>\r\n    </g>\r\n   </g>\r\n   <g id=\"patch_3\">\r\n    <path d=\"M 20.5625 228.439219 \r\nL 20.5625 10.999219 \r\n\" style=\"fill:none;stroke:#000000;stroke-linecap:square;stroke-linejoin:miter;stroke-width:0.8;\"/>\r\n   </g>\r\n   <g id=\"patch_4\">\r\n    <path d=\"M 288.4025 228.439219 \r\nL 288.4025 10.999219 \r\n\" style=\"fill:none;stroke:#000000;stroke-linecap:square;stroke-linejoin:miter;stroke-width:0.8;\"/>\r\n   </g>\r\n   <g id=\"patch_5\">\r\n    <path d=\"M 20.5625 228.439219 \r\nL 288.4025 228.439219 \r\n\" style=\"fill:none;stroke:#000000;stroke-linecap:square;stroke-linejoin:miter;stroke-width:0.8;\"/>\r\n   </g>\r\n   <g id=\"patch_6\">\r\n    <path d=\"M 20.5625 10.999219 \r\nL 288.4025 10.999219 \r\n\" style=\"fill:none;stroke:#000000;stroke-linecap:square;stroke-linejoin:miter;stroke-width:0.8;\"/>\r\n   </g>\r\n  </g>\r\n  <g id=\"axes_2\">\r\n   <g id=\"patch_7\">\r\n    <path clip-path=\"url(#pfcae23fe5c)\" d=\"M 305.1425 228.439219 \r\nL 305.1425 197.376362 \r\nL 305.1425 42.062076 \r\nL 305.1425 10.999219 \r\nL 316.0145 10.999219 \r\nL 316.0145 42.062076 \r\nL 316.0145 197.376362 \r\nL 316.0145 228.439219 \r\nz\r\n\" style=\"fill:#ffffff;stroke:#ffffff;stroke-linejoin:miter;stroke-width:0.01;\"/>\r\n   </g>\r\n   <g id=\"matplotlib.axis_3\"/>\r\n   <g id=\"matplotlib.axis_4\">\r\n    <g id=\"ytick_6\">\r\n     <g id=\"line2d_14\">\r\n      <defs>\r\n       <path d=\"M 0 0 \r\nL 3.5 0 \r\n\" id=\"m78b8e54e27\" style=\"stroke:#000000;stroke-width:0.8;\"/>\r\n      </defs>\r\n      <g>\r\n       <use style=\"stroke:#000000;stroke-width:0.8;\" x=\"316.0145\" xlink:href=\"#m78b8e54e27\" y=\"228.439219\"/>\r\n      </g>\r\n     </g>\r\n     <g id=\"text_11\">\r\n      <!-- −0.45 -->\r\n      <g transform=\"translate(323.0145 232.238437)scale(0.1 -0.1)\">\r\n       <defs>\r\n        <path d=\"M 10.59375 35.5 \r\nL 73.1875 35.5 \r\nL 73.1875 27.203125 \r\nL 10.59375 27.203125 \r\nz\r\n\" id=\"DejaVuSans-8722\"/>\r\n        <path d=\"M 10.6875 12.40625 \r\nL 21 12.40625 \r\nL 21 0 \r\nL 10.6875 0 \r\nz\r\n\" id=\"DejaVuSans-46\"/>\r\n        <path d=\"M 10.796875 72.90625 \r\nL 49.515625 72.90625 \r\nL 49.515625 64.59375 \r\nL 19.828125 64.59375 \r\nL 19.828125 46.734375 \r\nQ 21.96875 47.46875 24.109375 47.828125 \r\nQ 26.265625 48.1875 28.421875 48.1875 \r\nQ 40.625 48.1875 47.75 41.5 \r\nQ 54.890625 34.8125 54.890625 23.390625 \r\nQ 54.890625 11.625 47.5625 5.09375 \r\nQ 40.234375 -1.421875 26.90625 -1.421875 \r\nQ 22.3125 -1.421875 17.546875 -0.640625 \r\nQ 12.796875 0.140625 7.71875 1.703125 \r\nL 7.71875 11.625 \r\nQ 12.109375 9.234375 16.796875 8.0625 \r\nQ 21.484375 6.890625 26.703125 6.890625 \r\nQ 35.15625 6.890625 40.078125 11.328125 \r\nQ 45.015625 15.765625 45.015625 23.390625 \r\nQ 45.015625 31 40.078125 35.4375 \r\nQ 35.15625 39.890625 26.703125 39.890625 \r\nQ 22.75 39.890625 18.8125 39.015625 \r\nQ 14.890625 38.140625 10.796875 36.28125 \r\nz\r\n\" id=\"DejaVuSans-53\"/>\r\n       </defs>\r\n       <use xlink:href=\"#DejaVuSans-8722\"/>\r\n       <use x=\"83.789062\" xlink:href=\"#DejaVuSans-48\"/>\r\n       <use x=\"147.412109\" xlink:href=\"#DejaVuSans-46\"/>\r\n       <use x=\"179.199219\" xlink:href=\"#DejaVuSans-52\"/>\r\n       <use x=\"242.822266\" xlink:href=\"#DejaVuSans-53\"/>\r\n      </g>\r\n     </g>\r\n    </g>\r\n    <g id=\"ytick_7\">\r\n     <g id=\"line2d_15\">\r\n      <g>\r\n       <use style=\"stroke:#000000;stroke-width:0.8;\" x=\"316.0145\" xlink:href=\"#m78b8e54e27\" y=\"197.376362\"/>\r\n      </g>\r\n     </g>\r\n     <g id=\"text_12\">\r\n      <!-- −0.30 -->\r\n      <g transform=\"translate(323.0145 201.17558)scale(0.1 -0.1)\">\r\n       <use xlink:href=\"#DejaVuSans-8722\"/>\r\n       <use x=\"83.789062\" xlink:href=\"#DejaVuSans-48\"/>\r\n       <use x=\"147.412109\" xlink:href=\"#DejaVuSans-46\"/>\r\n       <use x=\"179.199219\" xlink:href=\"#DejaVuSans-51\"/>\r\n       <use x=\"242.822266\" xlink:href=\"#DejaVuSans-48\"/>\r\n      </g>\r\n     </g>\r\n    </g>\r\n    <g id=\"ytick_8\">\r\n     <g id=\"line2d_16\">\r\n      <g>\r\n       <use style=\"stroke:#000000;stroke-width:0.8;\" x=\"316.0145\" xlink:href=\"#m78b8e54e27\" y=\"166.313504\"/>\r\n      </g>\r\n     </g>\r\n     <g id=\"text_13\">\r\n      <!-- −0.15 -->\r\n      <g transform=\"translate(323.0145 170.112723)scale(0.1 -0.1)\">\r\n       <use xlink:href=\"#DejaVuSans-8722\"/>\r\n       <use x=\"83.789062\" xlink:href=\"#DejaVuSans-48\"/>\r\n       <use x=\"147.412109\" xlink:href=\"#DejaVuSans-46\"/>\r\n       <use x=\"179.199219\" xlink:href=\"#DejaVuSans-49\"/>\r\n       <use x=\"242.822266\" xlink:href=\"#DejaVuSans-53\"/>\r\n      </g>\r\n     </g>\r\n    </g>\r\n    <g id=\"ytick_9\">\r\n     <g id=\"line2d_17\">\r\n      <g>\r\n       <use style=\"stroke:#000000;stroke-width:0.8;\" x=\"316.0145\" xlink:href=\"#m78b8e54e27\" y=\"135.250647\"/>\r\n      </g>\r\n     </g>\r\n     <g id=\"text_14\">\r\n      <!-- 0.00 -->\r\n      <g transform=\"translate(323.0145 139.049866)scale(0.1 -0.1)\">\r\n       <use xlink:href=\"#DejaVuSans-48\"/>\r\n       <use x=\"63.623047\" xlink:href=\"#DejaVuSans-46\"/>\r\n       <use x=\"95.410156\" xlink:href=\"#DejaVuSans-48\"/>\r\n       <use x=\"159.033203\" xlink:href=\"#DejaVuSans-48\"/>\r\n      </g>\r\n     </g>\r\n    </g>\r\n    <g id=\"ytick_10\">\r\n     <g id=\"line2d_18\">\r\n      <g>\r\n       <use style=\"stroke:#000000;stroke-width:0.8;\" x=\"316.0145\" xlink:href=\"#m78b8e54e27\" y=\"104.18779\"/>\r\n      </g>\r\n     </g>\r\n     <g id=\"text_15\">\r\n      <!-- 0.15 -->\r\n      <g transform=\"translate(323.0145 107.987009)scale(0.1 -0.1)\">\r\n       <use xlink:href=\"#DejaVuSans-48\"/>\r\n       <use x=\"63.623047\" xlink:href=\"#DejaVuSans-46\"/>\r\n       <use x=\"95.410156\" xlink:href=\"#DejaVuSans-49\"/>\r\n       <use x=\"159.033203\" xlink:href=\"#DejaVuSans-53\"/>\r\n      </g>\r\n     </g>\r\n    </g>\r\n    <g id=\"ytick_11\">\r\n     <g id=\"line2d_19\">\r\n      <g>\r\n       <use style=\"stroke:#000000;stroke-width:0.8;\" x=\"316.0145\" xlink:href=\"#m78b8e54e27\" y=\"73.124933\"/>\r\n      </g>\r\n     </g>\r\n     <g id=\"text_16\">\r\n      <!-- 0.30 -->\r\n      <g transform=\"translate(323.0145 76.924152)scale(0.1 -0.1)\">\r\n       <use xlink:href=\"#DejaVuSans-48\"/>\r\n       <use x=\"63.623047\" xlink:href=\"#DejaVuSans-46\"/>\r\n       <use x=\"95.410156\" xlink:href=\"#DejaVuSans-51\"/>\r\n       <use x=\"159.033203\" xlink:href=\"#DejaVuSans-48\"/>\r\n      </g>\r\n     </g>\r\n    </g>\r\n    <g id=\"ytick_12\">\r\n     <g id=\"line2d_20\">\r\n      <g>\r\n       <use style=\"stroke:#000000;stroke-width:0.8;\" x=\"316.0145\" xlink:href=\"#m78b8e54e27\" y=\"42.062076\"/>\r\n      </g>\r\n     </g>\r\n     <g id=\"text_17\">\r\n      <!-- 0.45 -->\r\n      <g transform=\"translate(323.0145 45.861295)scale(0.1 -0.1)\">\r\n       <use xlink:href=\"#DejaVuSans-48\"/>\r\n       <use x=\"63.623047\" xlink:href=\"#DejaVuSans-46\"/>\r\n       <use x=\"95.410156\" xlink:href=\"#DejaVuSans-52\"/>\r\n       <use x=\"159.033203\" xlink:href=\"#DejaVuSans-53\"/>\r\n      </g>\r\n     </g>\r\n    </g>\r\n    <g id=\"ytick_13\">\r\n     <g id=\"line2d_21\">\r\n      <g>\r\n       <use style=\"stroke:#000000;stroke-width:0.8;\" x=\"316.0145\" xlink:href=\"#m78b8e54e27\" y=\"10.999219\"/>\r\n      </g>\r\n     </g>\r\n     <g id=\"text_18\">\r\n      <!-- 0.60 -->\r\n      <g transform=\"translate(323.0145 14.798438)scale(0.1 -0.1)\">\r\n       <defs>\r\n        <path d=\"M 33.015625 40.375 \r\nQ 26.375 40.375 22.484375 35.828125 \r\nQ 18.609375 31.296875 18.609375 23.390625 \r\nQ 18.609375 15.53125 22.484375 10.953125 \r\nQ 26.375 6.390625 33.015625 6.390625 \r\nQ 39.65625 6.390625 43.53125 10.953125 \r\nQ 47.40625 15.53125 47.40625 23.390625 \r\nQ 47.40625 31.296875 43.53125 35.828125 \r\nQ 39.65625 40.375 33.015625 40.375 \r\nz\r\nM 52.59375 71.296875 \r\nL 52.59375 62.3125 \r\nQ 48.875 64.0625 45.09375 64.984375 \r\nQ 41.3125 65.921875 37.59375 65.921875 \r\nQ 27.828125 65.921875 22.671875 59.328125 \r\nQ 17.53125 52.734375 16.796875 39.40625 \r\nQ 19.671875 43.65625 24.015625 45.921875 \r\nQ 28.375 48.1875 33.59375 48.1875 \r\nQ 44.578125 48.1875 50.953125 41.515625 \r\nQ 57.328125 34.859375 57.328125 23.390625 \r\nQ 57.328125 12.15625 50.6875 5.359375 \r\nQ 44.046875 -1.421875 33.015625 -1.421875 \r\nQ 20.359375 -1.421875 13.671875 8.265625 \r\nQ 6.984375 17.96875 6.984375 36.375 \r\nQ 6.984375 53.65625 15.1875 63.9375 \r\nQ 23.390625 74.21875 37.203125 74.21875 \r\nQ 40.921875 74.21875 44.703125 73.484375 \r\nQ 48.484375 72.75 52.59375 71.296875 \r\nz\r\n\" id=\"DejaVuSans-54\"/>\r\n       </defs>\r\n       <use xlink:href=\"#DejaVuSans-48\"/>\r\n       <use x=\"63.623047\" xlink:href=\"#DejaVuSans-46\"/>\r\n       <use x=\"95.410156\" xlink:href=\"#DejaVuSans-54\"/>\r\n       <use x=\"159.033203\" xlink:href=\"#DejaVuSans-48\"/>\r\n      </g>\r\n     </g>\r\n    </g>\r\n   </g>\r\n   <g id=\"LineCollection_9\">\r\n    <path clip-path=\"url(#pfcae23fe5c)\" d=\"M 305.1425 228.439219 \r\nL 316.0145 228.439219 \r\n\" style=\"fill:none;stroke:#440154;stroke-width:1.5;\"/>\r\n    <path clip-path=\"url(#pfcae23fe5c)\" d=\"M 305.1425 197.376362 \r\nL 316.0145 197.376362 \r\n\" style=\"fill:none;stroke:#46327e;stroke-width:1.5;\"/>\r\n    <path clip-path=\"url(#pfcae23fe5c)\" d=\"M 305.1425 166.313504 \r\nL 316.0145 166.313504 \r\n\" style=\"fill:none;stroke:#365c8d;stroke-width:1.5;\"/>\r\n    <path clip-path=\"url(#pfcae23fe5c)\" d=\"M 305.1425 135.250647 \r\nL 316.0145 135.250647 \r\n\" style=\"fill:none;stroke:#277f8e;stroke-width:1.5;\"/>\r\n    <path clip-path=\"url(#pfcae23fe5c)\" d=\"M 305.1425 104.18779 \r\nL 316.0145 104.18779 \r\n\" style=\"fill:none;stroke:#1fa187;stroke-width:1.5;\"/>\r\n    <path clip-path=\"url(#pfcae23fe5c)\" d=\"M 305.1425 73.124933 \r\nL 316.0145 73.124933 \r\n\" style=\"fill:none;stroke:#4ac16d;stroke-width:1.5;\"/>\r\n    <path clip-path=\"url(#pfcae23fe5c)\" d=\"M 305.1425 42.062076 \r\nL 316.0145 42.062076 \r\n\" style=\"fill:none;stroke:#a0da39;stroke-width:1.5;\"/>\r\n    <path clip-path=\"url(#pfcae23fe5c)\" d=\"M 305.1425 10.999219 \r\nL 316.0145 10.999219 \r\n\" style=\"fill:none;stroke:#fde725;stroke-width:1.5;\"/>\r\n   </g>\r\n   <g id=\"patch_8\">\r\n    <path d=\"M 305.1425 228.439219 \r\nL 305.1425 197.376362 \r\nL 305.1425 42.062076 \r\nL 305.1425 10.999219 \r\nL 316.0145 10.999219 \r\nL 316.0145 42.062076 \r\nL 316.0145 197.376362 \r\nL 316.0145 228.439219 \r\nz\r\n\" style=\"fill:none;stroke:#000000;stroke-linejoin:miter;stroke-width:0.8;\"/>\r\n   </g>\r\n  </g>\r\n </g>\r\n <defs>\r\n  <clipPath id=\"pb197f186e0\">\r\n   <rect height=\"217.44\" width=\"267.84\" x=\"20.5625\" y=\"10.999219\"/>\r\n  </clipPath>\r\n  <clipPath id=\"pfcae23fe5c\">\r\n   <rect height=\"217.44\" width=\"10.872\" x=\"305.1425\" y=\"10.999219\"/>\r\n  </clipPath>\r\n </defs>\r\n</svg>\r\n",
      "image/png": "[encoded data removed]"
     },
     "metadata": {
      "needs_background": "light"
     }
    }
   ],
   "source": [
    "plt.contour(XX,YY,intp)\n",
    "plt.colorbar()\n",
    "plt.plot(layer1[:,0], layer1[:,1], 'ro')\n",
    "plt.plot(layer2[:,0], layer2[:,1], 'bo')\n",
    "\n",
    "plt.plot(G_1[0,0], G_1[0,1], 'go')\n",
    "plt.quiver([G_1[0,0]],[G_1[0,1]],G_1_x,G_1_y,color='r')"
   ]
  },
  {
   "cell_type": "markdown",
   "metadata": {},
   "source": [
    "## add drift term"
   ]
  },
  {
   "cell_type": "code",
   "execution_count": 34,
   "metadata": {
    "ExecuteTime": {
     "end_time": "2020-06-04T13:32:36.670096Z",
     "start_time": "2020-06-04T13:32:36.666555Z"
    }
   },
   "outputs": [],
   "source": [
    "U = np.concatenate([np.eye(number_of_layer),\n",
    "np.stack([ref_layer_points[:,0] - rest_layer_points[:,0],\n",
    "ref_layer_points[:,1] - rest_layer_points[:,1]])],axis = 1)\n",
    "\n",
    "U_T = U.T\n"
   ]
  },
  {
   "cell_type": "code",
   "execution_count": 35,
   "metadata": {
    "ExecuteTime": {
     "end_time": "2020-06-04T13:32:36.675655Z",
     "start_time": "2020-06-04T13:32:36.671565Z"
    }
   },
   "outputs": [],
   "source": [
    "### new K matrix\n",
    "\n",
    "zero_matrix = np.zeros([2,2])\n",
    "\n",
    "K_U = np.concatenate([np.concatenate([K,U_T],axis = 1),np.concatenate([U,zero_matrix],axis = 1)],axis = 0)"
   ]
  },
  {
   "cell_type": "code",
   "execution_count": 36,
   "metadata": {
    "ExecuteTime": {
     "end_time": "2020-06-04T13:32:36.690555Z",
     "start_time": "2020-06-04T13:32:36.677287Z"
    }
   },
   "outputs": [
    {
     "output_type": "execute_result",
     "data": {
      "text/plain": [
       "          0         1         2         3         4         5         6    7  \\\n",
       "0  0.544960  0.000000  0.015699 -0.162014 -0.076728  0.043519 -0.134194  1.0   \n",
       "1  0.000000  0.544960  0.207702  0.084932  0.026884 -0.182614 -0.059844  0.0   \n",
       "2  0.015699  0.207702  1.178088  0.589044  0.190202  0.291989  0.051242  4.0   \n",
       "3 -0.162014  0.084932  0.589044  0.707870  0.353935  0.091754  0.148993  2.0   \n",
       "4 -0.076728  0.026884  0.190202  0.353935  0.251322  0.002766  0.082476  1.0   \n",
       "5  0.043519 -0.182614  0.291989  0.091754  0.002766  1.083599  0.407053  3.0   \n",
       "6 -0.134194 -0.059844  0.051242  0.148993  0.082476  0.407053  0.438378  1.0   \n",
       "7  1.000000  0.000000  4.000000  2.000000  1.000000  3.000000  1.000000  0.0   \n",
       "8  0.000000  1.000000  0.000000  0.000000  0.000000  1.000000  1.000000  0.0   \n",
       "\n",
       "     8  \n",
       "0  0.0  \n",
       "1  1.0  \n",
       "2  0.0  \n",
       "3  0.0  \n",
       "4  0.0  \n",
       "5  1.0  \n",
       "6  1.0  \n",
       "7  0.0  \n",
       "8  0.0  "
      ],
      "text/html": "<div>\n<style scoped>\n    .dataframe tbody tr th:only-of-type {\n        vertical-align: middle;\n    }\n\n    .dataframe tbody tr th {\n        vertical-align: top;\n    }\n\n    .dataframe thead th {\n        text-align: right;\n    }\n</style>\n<table border=\"1\" class=\"dataframe\">\n  <thead>\n    <tr style=\"text-align: right;\">\n      <th></th>\n      <th>0</th>\n      <th>1</th>\n      <th>2</th>\n      <th>3</th>\n      <th>4</th>\n      <th>5</th>\n      <th>6</th>\n      <th>7</th>\n      <th>8</th>\n    </tr>\n  </thead>\n  <tbody>\n    <tr>\n      <th>0</th>\n      <td>0.544960</td>\n      <td>0.000000</td>\n      <td>0.015699</td>\n      <td>-0.162014</td>\n      <td>-0.076728</td>\n      <td>0.043519</td>\n      <td>-0.134194</td>\n      <td>1.0</td>\n      <td>0.0</td>\n    </tr>\n    <tr>\n      <th>1</th>\n      <td>0.000000</td>\n      <td>0.544960</td>\n      <td>0.207702</td>\n      <td>0.084932</td>\n      <td>0.026884</td>\n      <td>-0.182614</td>\n      <td>-0.059844</td>\n      <td>0.0</td>\n      <td>1.0</td>\n    </tr>\n    <tr>\n      <th>2</th>\n      <td>0.015699</td>\n      <td>0.207702</td>\n      <td>1.178088</td>\n      <td>0.589044</td>\n      <td>0.190202</td>\n      <td>0.291989</td>\n      <td>0.051242</td>\n      <td>4.0</td>\n      <td>0.0</td>\n    </tr>\n    <tr>\n      <th>3</th>\n      <td>-0.162014</td>\n      <td>0.084932</td>\n      <td>0.589044</td>\n      <td>0.707870</td>\n      <td>0.353935</td>\n      <td>0.091754</td>\n      <td>0.148993</td>\n      <td>2.0</td>\n      <td>0.0</td>\n    </tr>\n    <tr>\n      <th>4</th>\n      <td>-0.076728</td>\n      <td>0.026884</td>\n      <td>0.190202</td>\n      <td>0.353935</td>\n      <td>0.251322</td>\n      <td>0.002766</td>\n      <td>0.082476</td>\n      <td>1.0</td>\n      <td>0.0</td>\n    </tr>\n    <tr>\n      <th>5</th>\n      <td>0.043519</td>\n      <td>-0.182614</td>\n      <td>0.291989</td>\n      <td>0.091754</td>\n      <td>0.002766</td>\n      <td>1.083599</td>\n      <td>0.407053</td>\n      <td>3.0</td>\n      <td>1.0</td>\n    </tr>\n    <tr>\n      <th>6</th>\n      <td>-0.134194</td>\n      <td>-0.059844</td>\n      <td>0.051242</td>\n      <td>0.148993</td>\n      <td>0.082476</td>\n      <td>0.407053</td>\n      <td>0.438378</td>\n      <td>1.0</td>\n      <td>1.0</td>\n    </tr>\n    <tr>\n      <th>7</th>\n      <td>1.000000</td>\n      <td>0.000000</td>\n      <td>4.000000</td>\n      <td>2.000000</td>\n      <td>1.000000</td>\n      <td>3.000000</td>\n      <td>1.000000</td>\n      <td>0.0</td>\n      <td>0.0</td>\n    </tr>\n    <tr>\n      <th>8</th>\n      <td>0.000000</td>\n      <td>1.000000</td>\n      <td>0.000000</td>\n      <td>0.000000</td>\n      <td>0.000000</td>\n      <td>1.000000</td>\n      <td>1.000000</td>\n      <td>0.0</td>\n      <td>0.0</td>\n    </tr>\n  </tbody>\n</table>\n</div>"
     },
     "metadata": {},
     "execution_count": 36
    }
   ],
   "source": [
    "pd.DataFrame(K_U)"
   ]
  },
  {
   "cell_type": "code",
   "execution_count": 37,
   "metadata": {
    "ExecuteTime": {
     "end_time": "2020-06-04T13:32:36.699725Z",
     "start_time": "2020-06-04T13:32:36.693108Z"
    }
   },
   "outputs": [
    {
     "output_type": "execute_result",
     "data": {
      "text/plain": [
       "array([-0.4119269 , -0.38973183, -0.36753677, ...,  3.58056659,\n",
       "        3.60276166,  3.62495672])"
      ]
     },
     "metadata": {},
     "execution_count": 37
    }
   ],
   "source": [
    "### universal contribution\n",
    "sigma_0_1st_drift = np.sum(grid * (w[-2:]).T,axis = 1)\n",
    "sigma_0_1st_drift"
   ]
  },
  {
   "cell_type": "code",
   "execution_count": 38,
   "metadata": {
    "ExecuteTime": {
     "end_time": "2020-06-04T13:32:36.705259Z",
     "start_time": "2020-06-04T13:32:36.701302Z"
    }
   },
   "outputs": [],
   "source": [
    "# rhs b-vector\n",
    "b = np.concatenate([[G_1_x,G_1_y],np.zeros(K_U.shape[0]-G_1.shape[0]*2)],axis = 0)\n",
    "b = np.reshape(b,newshape = [b.shape[0],1])"
   ]
  },
  {
   "cell_type": "code",
   "execution_count": 39,
   "metadata": {
    "ExecuteTime": {
     "end_time": "2020-06-04T13:32:36.711417Z",
     "start_time": "2020-06-04T13:32:36.706972Z"
    }
   },
   "outputs": [
    {
     "output_type": "execute_result",
     "data": {
      "text/plain": [
       "array([[ 2.05253201],\n",
       "       [ 0.82112579],\n",
       "       [-0.84916713],\n",
       "       [ 1.78330264],\n",
       "       [-1.13934764],\n",
       "       [-0.13099767],\n",
       "       [-0.69012811],\n",
       "       [ 0.00937436],\n",
       "       [ 0.54284228]])"
      ]
     },
     "metadata": {},
     "execution_count": 39
    }
   ],
   "source": [
    "w = np.linalg.solve(K_U,b)\n",
    "w"
   ]
  },
  {
   "cell_type": "code",
   "execution_count": 40,
   "metadata": {
    "ExecuteTime": {
     "end_time": "2020-06-04T13:32:36.723132Z",
     "start_time": "2020-06-04T13:32:36.713510Z"
    }
   },
   "outputs": [],
   "source": [
    "# gradient contribution\n",
    "sigma_0_grad = w[:G_1.shape[0]*2] * (-hu_Simpoints*(- c_o_T * ((-14 / a_T ** 2) + 105 / 4 * sed_dips_SimPoint / a_T ** 3 -\n",
    "                               35 / 2 * sed_dips_SimPoint ** 3 / a_T ** 5 +\n",
    "                               21 / 4 * sed_dips_SimPoint ** 5 / a_T ** 7)))\n",
    "\n",
    "sigma_0_grad = np.sum(sigma_0_grad,axis=0)\n",
    "\n",
    "# surface point contribution\n",
    "sigma_0_interf = -w[G_1.shape[0]*2:-2]*(c_o_T  * ((1 - 7 * (sed_rest_SimPoint / a_T) ** 2 +\n",
    "             35 / 4 * (sed_rest_SimPoint / a_T) ** 3 -\n",
    "             7 / 2 * (sed_rest_SimPoint / a_T) ** 5 +\n",
    "             3 / 4 * (sed_rest_SimPoint / a_T) ** 7) -\n",
    "             (1 - 7 * (sed_ref_SimPoint / a_T) ** 2 +\n",
    "              35 / 4 * (sed_ref_SimPoint / a_T) ** 3 -\n",
    "              7 / 2 * (sed_ref_SimPoint / a_T) ** 5 +\n",
    "              3 / 4 * (sed_ref_SimPoint / a_T) ** 7)))\n",
    "sigma_0_interf = np.sum(sigma_0_interf,axis = 0)\n"
   ]
  },
  {
   "cell_type": "code",
   "execution_count": 41,
   "metadata": {
    "ExecuteTime": {
     "end_time": "2020-06-04T13:32:36.730880Z",
     "start_time": "2020-06-04T13:32:36.725441Z"
    }
   },
   "outputs": [
    {
     "output_type": "execute_result",
     "data": {
      "text/plain": [
       "array([-0.27610832, -0.27517089, -0.27423345, ...,  2.42787838,\n",
       "        2.42881582,  2.42975325])"
      ]
     },
     "metadata": {},
     "execution_count": 41
    }
   ],
   "source": [
    "sigma_0_1st_drift = np.sum(grid * (w[-2:]).T,axis = 1)\n",
    "sigma_0_1st_drift"
   ]
  },
  {
   "cell_type": "code",
   "execution_count": 42,
   "metadata": {
    "ExecuteTime": {
     "end_time": "2020-06-04T13:32:36.736415Z",
     "start_time": "2020-06-04T13:32:36.732886Z"
    }
   },
   "outputs": [],
   "source": [
    "interpolate_result = sigma_0_grad+sigma_0_interf+sigma_0_1st_drift\n",
    "\n",
    "intp = np.reshape(interpolate_result,[50,50]) # reshape the result to matrix shape"
   ]
  },
  {
   "cell_type": "code",
   "execution_count": 43,
   "metadata": {
    "ExecuteTime": {
     "end_time": "2020-06-04T13:32:36.950047Z",
     "start_time": "2020-06-04T13:32:36.738611Z"
    }
   },
   "outputs": [
    {
     "output_type": "execute_result",
     "data": {
      "text/plain": [
       "<matplotlib.quiver.Quiver at 0x1ec344f6bc8>"
      ]
     },
     "metadata": {},
     "execution_count": 43
    },
    {
     "output_type": "display_data",
     "data": {
      "text/plain": "<Figure size 432x288 with 2 Axes>",
      "image/svg+xml": "<?xml version=\"1.0\" encoding=\"utf-8\" standalone=\"no\"?>\r\n<!DOCTYPE svg PUBLIC \"-//W3C//DTD SVG 1.1//EN\"\r\n  \"http://www.w3.org/Graphics/SVG/1.1/DTD/svg11.dtd\">\r\n<!-- Created with matplotlib (https://matplotlib.org/) -->\r\n<svg height=\"252.317344pt\" version=\"1.1\" viewBox=\"0 0 354.497312 252.317344\" width=\"354.497312pt\" xmlns=\"http://www.w3.org/2000/svg\" xmlns:xlink=\"http://www.w3.org/1999/xlink\">\r\n <metadata>\r\n  <rdf:RDF xmlns:cc=\"http://creativecommons.org/ns#\" xmlns:dc=\"http://purl.org/dc/elements/1.1/\" xmlns:rdf=\"http://www.w3.org/1999/02/22-rdf-syntax-ns#\">\r\n   <cc:Work>\r\n    <dc:type rdf:resource=\"http://purl.org/dc/dcmitype/StillImage\"/>\r\n    <dc:date>2020-12-11T15:19:25.906096</dc:date>\r\n    <dc:format>image/svg+xml</dc:format>\r\n    <dc:creator>\r\n     <cc:Agent>\r\n      <dc:title>Matplotlib v3.3.3, https://matplotlib.org/</dc:title>\r\n     </cc:Agent>\r\n    </dc:creator>\r\n   </cc:Work>\r\n  </rdf:RDF>\r\n </metadata>\r\n <defs>\r\n  <style type=\"text/css\">*{stroke-linecap:butt;stroke-linejoin:round;}</style>\r\n </defs>\r\n <g id=\"figure_1\">\r\n  <g id=\"patch_1\">\r\n   <path d=\"M 0 252.317344 \r\nL 354.497312 252.317344 \r\nL 354.497312 0 \r\nL 0 0 \r\nz\r\n\" style=\"fill:none;\"/>\r\n  </g>\r\n  <g id=\"axes_1\">\r\n   <g id=\"patch_2\">\r\n    <path d=\"M 20.5625 228.439219 \r\nL 288.4025 228.439219 \r\nL 288.4025 10.999219 \r\nL 20.5625 10.999219 \r\nz\r\n\" style=\"fill:#ffffff;\"/>\r\n   </g>\r\n   <g id=\"Quiver_1\">\r\n    <path clip-path=\"url(#p33e9c97bfa)\" d=\"M 47.182894 161.165735 \r\nL 51.312681 157.035949 \r\nL 49.182026 156.325731 \r\nL 58.414861 151.354205 \r\nL 53.443335 160.587039 \r\nL 52.733117 158.456385 \r\nL 48.60333 162.586171 \r\nL 47.182894 161.165735 \r\n\" style=\"fill:#ff0000;\"/>\r\n   </g>\r\n   <g id=\"matplotlib.axis_1\">\r\n    <g id=\"xtick_1\">\r\n     <g id=\"line2d_1\">\r\n      <defs>\r\n       <path d=\"M 0 0 \r\nL 0 3.5 \r\n\" id=\"m31cdd7f1f6\" style=\"stroke:#000000;stroke-width:0.8;\"/>\r\n      </defs>\r\n      <g>\r\n       <use style=\"stroke:#000000;stroke-width:0.8;\" x=\"47.893112\" xlink:href=\"#m31cdd7f1f6\" y=\"228.439219\"/>\r\n      </g>\r\n     </g>\r\n     <g id=\"text_1\">\r\n      <!-- 0 -->\r\n      <g transform=\"translate(44.711862 243.037656)scale(0.1 -0.1)\">\r\n       <defs>\r\n        <path d=\"M 31.78125 66.40625 \r\nQ 24.171875 66.40625 20.328125 58.90625 \r\nQ 16.5 51.421875 16.5 36.375 \r\nQ 16.5 21.390625 20.328125 13.890625 \r\nQ 24.171875 6.390625 31.78125 6.390625 \r\nQ 39.453125 6.390625 43.28125 13.890625 \r\nQ 47.125 21.390625 47.125 36.375 \r\nQ 47.125 51.421875 43.28125 58.90625 \r\nQ 39.453125 66.40625 31.78125 66.40625 \r\nz\r\nM 31.78125 74.21875 \r\nQ 44.046875 74.21875 50.515625 64.515625 \r\nQ 56.984375 54.828125 56.984375 36.375 \r\nQ 56.984375 17.96875 50.515625 8.265625 \r\nQ 44.046875 -1.421875 31.78125 -1.421875 \r\nQ 19.53125 -1.421875 13.0625 8.265625 \r\nQ 6.59375 17.96875 6.59375 36.375 \r\nQ 6.59375 54.828125 13.0625 64.515625 \r\nQ 19.53125 74.21875 31.78125 74.21875 \r\nz\r\n\" id=\"DejaVuSans-48\"/>\r\n       </defs>\r\n       <use xlink:href=\"#DejaVuSans-48\"/>\r\n      </g>\r\n     </g>\r\n    </g>\r\n    <g id=\"xtick_2\">\r\n     <g id=\"line2d_2\">\r\n      <g>\r\n       <use style=\"stroke:#000000;stroke-width:0.8;\" x=\"102.554337\" xlink:href=\"#m31cdd7f1f6\" y=\"228.439219\"/>\r\n      </g>\r\n     </g>\r\n     <g id=\"text_2\">\r\n      <!-- 1 -->\r\n      <g transform=\"translate(99.373087 243.037656)scale(0.1 -0.1)\">\r\n       <defs>\r\n        <path d=\"M 12.40625 8.296875 \r\nL 28.515625 8.296875 \r\nL 28.515625 63.921875 \r\nL 10.984375 60.40625 \r\nL 10.984375 69.390625 \r\nL 28.421875 72.90625 \r\nL 38.28125 72.90625 \r\nL 38.28125 8.296875 \r\nL 54.390625 8.296875 \r\nL 54.390625 0 \r\nL 12.40625 0 \r\nz\r\n\" id=\"DejaVuSans-49\"/>\r\n       </defs>\r\n       <use xlink:href=\"#DejaVuSans-49\"/>\r\n      </g>\r\n     </g>\r\n    </g>\r\n    <g id=\"xtick_3\">\r\n     <g id=\"line2d_3\">\r\n      <g>\r\n       <use style=\"stroke:#000000;stroke-width:0.8;\" x=\"157.215561\" xlink:href=\"#m31cdd7f1f6\" y=\"228.439219\"/>\r\n      </g>\r\n     </g>\r\n     <g id=\"text_3\">\r\n      <!-- 2 -->\r\n      <g transform=\"translate(154.034311 243.037656)scale(0.1 -0.1)\">\r\n       <defs>\r\n        <path d=\"M 19.1875 8.296875 \r\nL 53.609375 8.296875 \r\nL 53.609375 0 \r\nL 7.328125 0 \r\nL 7.328125 8.296875 \r\nQ 12.9375 14.109375 22.625 23.890625 \r\nQ 32.328125 33.6875 34.8125 36.53125 \r\nQ 39.546875 41.84375 41.421875 45.53125 \r\nQ 43.3125 49.21875 43.3125 52.78125 \r\nQ 43.3125 58.59375 39.234375 62.25 \r\nQ 35.15625 65.921875 28.609375 65.921875 \r\nQ 23.96875 65.921875 18.8125 64.3125 \r\nQ 13.671875 62.703125 7.8125 59.421875 \r\nL 7.8125 69.390625 \r\nQ 13.765625 71.78125 18.9375 73 \r\nQ 24.125 74.21875 28.421875 74.21875 \r\nQ 39.75 74.21875 46.484375 68.546875 \r\nQ 53.21875 62.890625 53.21875 53.421875 \r\nQ 53.21875 48.921875 51.53125 44.890625 \r\nQ 49.859375 40.875 45.40625 35.40625 \r\nQ 44.1875 33.984375 37.640625 27.21875 \r\nQ 31.109375 20.453125 19.1875 8.296875 \r\nz\r\n\" id=\"DejaVuSans-50\"/>\r\n       </defs>\r\n       <use xlink:href=\"#DejaVuSans-50\"/>\r\n      </g>\r\n     </g>\r\n    </g>\r\n    <g id=\"xtick_4\">\r\n     <g id=\"line2d_4\">\r\n      <g>\r\n       <use style=\"stroke:#000000;stroke-width:0.8;\" x=\"211.876786\" xlink:href=\"#m31cdd7f1f6\" y=\"228.439219\"/>\r\n      </g>\r\n     </g>\r\n     <g id=\"text_4\">\r\n      <!-- 3 -->\r\n      <g transform=\"translate(208.695536 243.037656)scale(0.1 -0.1)\">\r\n       <defs>\r\n        <path d=\"M 40.578125 39.3125 \r\nQ 47.65625 37.796875 51.625 33 \r\nQ 55.609375 28.21875 55.609375 21.1875 \r\nQ 55.609375 10.40625 48.1875 4.484375 \r\nQ 40.765625 -1.421875 27.09375 -1.421875 \r\nQ 22.515625 -1.421875 17.65625 -0.515625 \r\nQ 12.796875 0.390625 7.625 2.203125 \r\nL 7.625 11.71875 \r\nQ 11.71875 9.328125 16.59375 8.109375 \r\nQ 21.484375 6.890625 26.8125 6.890625 \r\nQ 36.078125 6.890625 40.9375 10.546875 \r\nQ 45.796875 14.203125 45.796875 21.1875 \r\nQ 45.796875 27.640625 41.28125 31.265625 \r\nQ 36.765625 34.90625 28.71875 34.90625 \r\nL 20.21875 34.90625 \r\nL 20.21875 43.015625 \r\nL 29.109375 43.015625 \r\nQ 36.375 43.015625 40.234375 45.921875 \r\nQ 44.09375 48.828125 44.09375 54.296875 \r\nQ 44.09375 59.90625 40.109375 62.90625 \r\nQ 36.140625 65.921875 28.71875 65.921875 \r\nQ 24.65625 65.921875 20.015625 65.03125 \r\nQ 15.375 64.15625 9.8125 62.3125 \r\nL 9.8125 71.09375 \r\nQ 15.4375 72.65625 20.34375 73.4375 \r\nQ 25.25 74.21875 29.59375 74.21875 \r\nQ 40.828125 74.21875 47.359375 69.109375 \r\nQ 53.90625 64.015625 53.90625 55.328125 \r\nQ 53.90625 49.265625 50.4375 45.09375 \r\nQ 46.96875 40.921875 40.578125 39.3125 \r\nz\r\n\" id=\"DejaVuSans-51\"/>\r\n       </defs>\r\n       <use xlink:href=\"#DejaVuSans-51\"/>\r\n      </g>\r\n     </g>\r\n    </g>\r\n    <g id=\"xtick_5\">\r\n     <g id=\"line2d_5\">\r\n      <g>\r\n       <use style=\"stroke:#000000;stroke-width:0.8;\" x=\"266.53801\" xlink:href=\"#m31cdd7f1f6\" y=\"228.439219\"/>\r\n      </g>\r\n     </g>\r\n     <g id=\"text_5\">\r\n      <!-- 4 -->\r\n      <g transform=\"translate(263.35676 243.037656)scale(0.1 -0.1)\">\r\n       <defs>\r\n        <path d=\"M 37.796875 64.3125 \r\nL 12.890625 25.390625 \r\nL 37.796875 25.390625 \r\nz\r\nM 35.203125 72.90625 \r\nL 47.609375 72.90625 \r\nL 47.609375 25.390625 \r\nL 58.015625 25.390625 \r\nL 58.015625 17.1875 \r\nL 47.609375 17.1875 \r\nL 47.609375 0 \r\nL 37.796875 0 \r\nL 37.796875 17.1875 \r\nL 4.890625 17.1875 \r\nL 4.890625 26.703125 \r\nz\r\n\" id=\"DejaVuSans-52\"/>\r\n       </defs>\r\n       <use xlink:href=\"#DejaVuSans-52\"/>\r\n      </g>\r\n     </g>\r\n    </g>\r\n   </g>\r\n   <g id=\"matplotlib.axis_2\">\r\n    <g id=\"ytick_1\">\r\n     <g id=\"line2d_6\">\r\n      <defs>\r\n       <path d=\"M 0 0 \r\nL -3.5 0 \r\n\" id=\"mc13a14ef37\" style=\"stroke:#000000;stroke-width:0.8;\"/>\r\n      </defs>\r\n      <g>\r\n       <use style=\"stroke:#000000;stroke-width:0.8;\" x=\"20.5625\" xlink:href=\"#mc13a14ef37\" y=\"206.251464\"/>\r\n      </g>\r\n     </g>\r\n     <g id=\"text_6\">\r\n      <!-- 0 -->\r\n      <g transform=\"translate(7.2 210.050682)scale(0.1 -0.1)\">\r\n       <use xlink:href=\"#DejaVuSans-48\"/>\r\n      </g>\r\n     </g>\r\n    </g>\r\n    <g id=\"ytick_2\">\r\n     <g id=\"line2d_7\">\r\n      <g>\r\n       <use style=\"stroke:#000000;stroke-width:0.8;\" x=\"20.5625\" xlink:href=\"#mc13a14ef37\" y=\"161.875953\"/>\r\n      </g>\r\n     </g>\r\n     <g id=\"text_7\">\r\n      <!-- 1 -->\r\n      <g transform=\"translate(7.2 165.675172)scale(0.1 -0.1)\">\r\n       <use xlink:href=\"#DejaVuSans-49\"/>\r\n      </g>\r\n     </g>\r\n    </g>\r\n    <g id=\"ytick_3\">\r\n     <g id=\"line2d_8\">\r\n      <g>\r\n       <use style=\"stroke:#000000;stroke-width:0.8;\" x=\"20.5625\" xlink:href=\"#mc13a14ef37\" y=\"117.500443\"/>\r\n      </g>\r\n     </g>\r\n     <g id=\"text_8\">\r\n      <!-- 2 -->\r\n      <g transform=\"translate(7.2 121.299662)scale(0.1 -0.1)\">\r\n       <use xlink:href=\"#DejaVuSans-50\"/>\r\n      </g>\r\n     </g>\r\n    </g>\r\n    <g id=\"ytick_4\">\r\n     <g id=\"line2d_9\">\r\n      <g>\r\n       <use style=\"stroke:#000000;stroke-width:0.8;\" x=\"20.5625\" xlink:href=\"#mc13a14ef37\" y=\"73.124933\"/>\r\n      </g>\r\n     </g>\r\n     <g id=\"text_9\">\r\n      <!-- 3 -->\r\n      <g transform=\"translate(7.2 76.924152)scale(0.1 -0.1)\">\r\n       <use xlink:href=\"#DejaVuSans-51\"/>\r\n      </g>\r\n     </g>\r\n    </g>\r\n    <g id=\"ytick_5\">\r\n     <g id=\"line2d_10\">\r\n      <g>\r\n       <use style=\"stroke:#000000;stroke-width:0.8;\" x=\"20.5625\" xlink:href=\"#mc13a14ef37\" y=\"28.749423\"/>\r\n      </g>\r\n     </g>\r\n     <g id=\"text_10\">\r\n      <!-- 4 -->\r\n      <g transform=\"translate(7.2 32.548642)scale(0.1 -0.1)\">\r\n       <use xlink:href=\"#DejaVuSans-52\"/>\r\n      </g>\r\n     </g>\r\n    </g>\r\n   </g>\r\n   <g id=\"LineCollection_1\"/>\r\n   <g id=\"LineCollection_2\">\r\n    <path clip-path=\"url(#p33e9c97bfa)\" d=\"M 20.5625 201.955578 \r\nL 26.028622 204.003281 \r\nL 31.494745 205.958653 \r\nL 32.345704 206.251464 \r\nL 36.960867 207.791737 \r\nL 42.42699 209.451826 \r\nL 47.042393 210.689015 \r\nL 47.893112 210.910792 \r\nL 53.359235 212.167193 \r\nL 58.825357 213.212854 \r\nL 64.29148 214.057224 \r\nL 69.757602 214.71116 \r\nL 74.522518 215.126566 \r\nL 75.223724 215.187667 \r\nL 80.689847 215.50332 \r\nL 86.155969 215.66148 \r\nL 91.622092 215.674333 \r\nL 97.088214 215.55451 \r\nL 102.554337 215.315225 \r\nL 105.5445 215.126566 \r\nL 108.020459 214.974435 \r\nL 113.486582 214.550619 \r\nL 118.952704 214.055187 \r\nL 124.418827 213.505738 \r\nL 129.884949 212.921631 \r\nL 135.351071 212.32425 \r\nL 140.817194 211.737271 \r\nL 146.283316 211.186964 \r\nL 151.749439 210.702476 \r\nL 151.942055 210.689015 \r\nL 157.215561 210.325677 \r\nL 162.681684 210.065778 \r\nL 168.147806 209.92137 \r\nL 173.613929 209.879872 \r\nL 179.080051 209.926797 \r\nL 184.546173 210.046687 \r\nL 190.012296 210.222941 \r\nL 195.478418 210.437536 \r\nL 200.944541 210.670778 \r\nL 201.384948 210.689015 \r\nL 206.410663 210.90084 \r\nL 211.876786 211.104626 \r\nL 217.342908 211.267293 \r\nL 222.809031 211.389986 \r\nL 228.275153 211.48156 \r\nL 233.741276 211.552194 \r\nL 239.207398 211.612348 \r\nL 244.67352 211.672452 \r\nL 250.139643 211.742632 \r\nL 255.605765 211.832415 \r\nL 261.071888 211.950353 \r\nL 266.53801 212.103351 \r\nL 272.004133 212.294778 \r\nL 277.470255 212.522417 \r\nL 282.936378 212.779881 \r\nL 288.4025 213.057849 \r\n\" style=\"fill:none;stroke:#472d7b;stroke-width:1.5;\"/>\r\n   </g>\r\n   <g id=\"LineCollection_3\">\r\n    <path clip-path=\"url(#p33e9c97bfa)\" d=\"M 20.5625 173.738693 \r\nL 23.689095 175.188607 \r\nL 26.028622 176.282331 \r\nL 31.494745 178.90343 \r\nL 32.980668 179.626158 \r\nL 36.960867 181.540268 \r\nL 42.407529 184.063709 \r\nL 42.42699 184.07252 \r\nL 47.893112 186.431641 \r\nL 53.331347 188.50126 \r\nL 53.359235 188.511599 \r\nL 58.825357 190.313421 \r\nL 64.29148 191.803564 \r\nL 69.478598 192.938811 \r\nL 69.757602 192.998994 \r\nL 75.223724 193.931989 \r\nL 80.689847 194.609495 \r\nL 86.155969 195.05467 \r\nL 91.622092 195.289395 \r\nL 97.088214 195.334475 \r\nL 102.554337 195.210076 \r\nL 108.020459 194.936167 \r\nL 113.486582 194.532865 \r\nL 118.952704 194.020704 \r\nL 124.418827 193.420833 \r\nL 128.382444 192.938811 \r\nL 129.884949 192.756457 \r\nL 135.351071 192.052771 \r\nL 140.817194 191.329061 \r\nL 146.283316 190.607418 \r\nL 151.749439 189.907819 \r\nL 157.215561 189.245728 \r\nL 162.681684 188.629885 \r\nL 163.942436 188.50126 \r\nL 168.147806 188.061185 \r\nL 173.613929 187.536296 \r\nL 179.080051 187.048342 \r\nL 184.546173 186.58801 \r\nL 190.012296 186.144527 \r\nL 195.478418 185.706242 \r\nL 200.944541 185.261431 \r\nL 206.410663 184.799633 \r\nL 211.876786 184.3135 \r\nL 214.577837 184.063709 \r\nL 217.342908 183.796622 \r\nL 222.809031 183.251095 \r\nL 228.275153 182.688653 \r\nL 233.741276 182.121486 \r\nL 239.207398 181.564124 \r\nL 244.67352 181.032028 \r\nL 250.139643 180.54042 \r\nL 255.605765 180.103288 \r\nL 261.071888 179.732517 \r\nL 263.05561 179.626158 \r\nL 266.53801 179.433551 \r\nL 272.004133 179.215384 \r\nL 277.470255 179.081845 \r\nL 282.936378 179.030542 \r\nL 288.4025 179.054947 \r\n\" style=\"fill:none;stroke:#3b528b;stroke-width:1.5;\"/>\r\n   </g>\r\n   <g id=\"LineCollection_4\">\r\n    <path clip-path=\"url(#p33e9c97bfa)\" d=\"M 20.5625 149.487424 \r\nL 26.028622 152.226361 \r\nL 27.513151 153.000851 \r\nL 31.494745 155.039001 \r\nL 36.041287 157.438402 \r\nL 36.960867 157.916787 \r\nL 42.42699 160.847455 \r\nL 44.290263 161.875953 \r\nL 47.893112 163.841829 \r\nL 52.749485 166.313504 \r\nL 53.359235 166.617868 \r\nL 58.825357 168.985574 \r\nL 63.701696 170.751055 \r\nL 64.29148 170.961237 \r\nL 69.757602 172.559685 \r\nL 75.223724 173.815791 \r\nL 80.689847 174.758589 \r\nL 84.273885 175.188607 \r\nL 86.155969 175.410537 \r\nL 91.622092 175.795869 \r\nL 97.088214 175.945136 \r\nL 102.554337 175.883114 \r\nL 108.020459 175.633823 \r\nL 113.486582 175.220636 \r\nL 113.803039 175.188607 \r\nL 118.952704 174.657105 \r\nL 124.418827 173.971331 \r\nL 129.884949 173.18467 \r\nL 135.351071 172.316083 \r\nL 140.817194 171.382141 \r\nL 144.332164 170.751055 \r\nL 146.283316 170.387915 \r\nL 151.749439 169.335799 \r\nL 157.215561 168.24761 \r\nL 162.681684 167.126518 \r\nL 166.560552 166.313504 \r\nL 168.147806 165.962757 \r\nL 173.613929 164.739982 \r\nL 179.080051 163.478708 \r\nL 184.546173 162.175413 \r\nL 185.791669 161.875953 \r\nL 190.012296 160.793905 \r\nL 195.478418 159.357539 \r\nL 200.944541 157.878692 \r\nL 202.570514 157.438402 \r\nL 206.410663 156.327265 \r\nL 211.876786 154.737232 \r\nL 217.342908 153.140028 \r\nL 217.83525 153.000851 \r\nL 222.809031 151.5062 \r\nL 228.275153 149.908887 \r\nL 233.094619 148.5633 \r\nL 233.741276 148.372714 \r\nL 239.207398 146.890775 \r\nL 244.67352 145.535183 \r\nL 250.139643 144.327271 \r\nL 251.202478 144.125749 \r\nL 255.605765 143.261935 \r\nL 261.071888 142.375453 \r\nL 266.53801 141.677953 \r\nL 272.004133 141.167953 \r\nL 277.470255 140.838377 \r\nL 282.936378 140.677064 \r\nL 288.4025 140.667359 \r\n\" style=\"fill:none;stroke:#2c728e;stroke-width:1.5;\"/>\r\n   </g>\r\n   <g id=\"LineCollection_5\">\r\n    <path clip-path=\"url(#p33e9c97bfa)\" d=\"M 20.5625 124.860634 \r\nL 23.231198 126.375545 \r\nL 26.028622 127.933129 \r\nL 31.008407 130.813096 \r\nL 31.494745 131.088861 \r\nL 36.960867 134.26556 \r\nL 38.628799 135.250647 \r\nL 42.42699 137.455798 \r\nL 46.264543 139.688198 \r\nL 47.893112 140.620537 \r\nL 53.359235 143.661047 \r\nL 54.255984 144.125749 \r\nL 58.825357 146.433467 \r\nL 63.5805 148.5633 \r\nL 64.29148 148.868863 \r\nL 69.757602 150.834198 \r\nL 75.223724 152.412697 \r\nL 77.889278 153.000851 \r\nL 80.689847 153.58606 \r\nL 86.155969 154.39511 \r\nL 91.622092 154.892905 \r\nL 97.088214 155.10408 \r\nL 102.554337 155.053733 \r\nL 108.020459 154.766701 \r\nL 113.486582 154.266885 \r\nL 118.952704 153.576622 \r\nL 122.613448 153.000851 \r\nL 124.418827 152.702304 \r\nL 129.884949 151.64065 \r\nL 135.351071 150.43519 \r\nL 140.817194 149.097634 \r\nL 142.829442 148.5633 \r\nL 146.283316 147.587984 \r\nL 151.749439 145.926475 \r\nL 157.215561 144.142812 \r\nL 157.265422 144.125749 \r\nL 162.681684 142.13275 \r\nL 168.147806 139.994129 \r\nL 168.901131 139.688198 \r\nL 173.613929 137.61389 \r\nL 178.739332 135.250647 \r\nL 179.080051 135.079623 \r\nL 184.546173 132.280311 \r\nL 187.350212 130.813096 \r\nL 190.012296 129.296388 \r\nL 195.107627 126.375545 \r\nL 195.478418 126.144829 \r\nL 200.944541 122.800459 \r\nL 202.389897 121.937994 \r\nL 206.410663 119.366538 \r\nL 209.461777 117.500443 \r\nL 211.876786 115.936972 \r\nL 216.627807 113.062892 \r\nL 217.342908 112.612227 \r\nL 222.809031 109.473891 \r\nL 224.463211 108.625341 \r\nL 228.275153 106.640244 \r\nL 233.739518 104.18779 \r\nL 233.741276 104.187004 \r\nL 239.207398 102.126885 \r\nL 244.67352 100.477942 \r\nL 247.796714 99.750239 \r\nL 250.139643 99.218756 \r\nL 255.605765 98.321177 \r\nL 261.071888 97.746723 \r\nL 266.53801 97.459863 \r\nL 272.004133 97.425536 \r\nL 277.470255 97.60944 \r\nL 282.936378 97.978113 \r\nL 288.4025 98.49888 \r\n\" style=\"fill:none;stroke:#21918c;stroke-width:1.5;\"/>\r\n   </g>\r\n   <g id=\"LineCollection_6\">\r\n    <path clip-path=\"url(#p33e9c97bfa)\" d=\"M 20.5625 95.064188 \r\nL 21.000482 95.312688 \r\nL 26.028622 98.1603 \r\nL 28.739263 99.750239 \r\nL 31.494745 101.359906 \r\nL 36.218091 104.18779 \r\nL 36.960867 104.629622 \r\nL 42.42699 107.89623 \r\nL 43.655314 108.625341 \r\nL 47.893112 111.116171 \r\nL 51.27058 113.062892 \r\nL 53.359235 114.249769 \r\nL 58.825357 117.221565 \r\nL 59.380229 117.500443 \r\nL 64.29148 119.910605 \r\nL 68.855196 121.937994 \r\nL 69.757602 122.326216 \r\nL 75.223724 124.326544 \r\nL 80.689847 125.959132 \r\nL 82.552055 126.375545 \r\nL 86.155969 127.13754 \r\nL 91.622092 127.893674 \r\nL 97.088214 128.258185 \r\nL 102.554337 128.2469 \r\nL 108.020459 127.881361 \r\nL 113.486582 127.185472 \r\nL 117.903646 126.375545 \r\nL 118.952704 126.167945 \r\nL 124.418827 124.778817 \r\nL 129.884949 123.101781 \r\nL 133.156799 121.937994 \r\nL 135.351071 121.08782 \r\nL 140.817194 118.694549 \r\nL 143.277096 117.500443 \r\nL 146.283316 115.898973 \r\nL 151.143946 113.062892 \r\nL 151.749439 112.674371 \r\nL 157.215561 108.891649 \r\nL 157.577655 108.625341 \r\nL 162.681684 104.535925 \r\nL 163.098582 104.18779 \r\nL 168.044076 99.750239 \r\nL 168.147806 99.651507 \r\nL 172.626822 95.312688 \r\nL 173.613929 94.319539 \r\nL 177.040793 90.875137 \r\nL 179.080051 88.796837 \r\nL 181.441106 86.437586 \r\nL 184.546173 83.369522 \r\nL 185.988039 82.000035 \r\nL 190.012296 78.310069 \r\nL 190.879308 77.562484 \r\nL 195.478418 73.813324 \r\nL 196.399884 73.124933 \r\nL 200.944541 69.965784 \r\nL 203.016524 68.687382 \r\nL 206.410663 66.754085 \r\nL 211.552477 64.249831 \r\nL 211.876786 64.103738 \r\nL 217.342908 62.012183 \r\nL 222.809031 60.328546 \r\nL 224.927231 59.81228 \r\nL 228.275153 59.048967 \r\nL 233.741276 58.112396 \r\nL 239.207398 57.467318 \r\nL 244.67352 57.086243 \r\nL 250.139643 56.943227 \r\nL 255.605765 57.013534 \r\nL 261.071888 57.273406 \r\nL 266.53801 57.699875 \r\nL 272.004133 58.270577 \r\nL 277.470255 58.963558 \r\nL 282.936378 59.757046 \r\nL 283.280434 59.81228 \r\nL 288.4025 60.650857 \r\n\" style=\"fill:none;stroke:#28ae80;stroke-width:1.5;\"/>\r\n   </g>\r\n   <g id=\"LineCollection_7\">\r\n    <path clip-path=\"url(#p33e9c97bfa)\" d=\"M 20.5625 57.180135 \r\nL 26.028622 59.485215 \r\nL 26.796464 59.81228 \r\nL 31.494745 61.869757 \r\nL 36.773144 64.249831 \r\nL 36.960867 64.336724 \r\nL 42.42699 66.827037 \r\nL 46.50987 68.687382 \r\nL 47.893112 69.333618 \r\nL 53.359235 71.790109 \r\nL 56.472825 73.124933 \r\nL 58.825357 74.154812 \r\nL 64.29148 76.359802 \r\nL 67.62666 77.562484 \r\nL 69.757602 78.340735 \r\nL 75.223724 80.012963 \r\nL 80.689847 81.331665 \r\nL 84.846545 82.000035 \r\nL 86.155969 82.209651 \r\nL 91.622092 82.576848 \r\nL 97.088214 82.402725 \r\nL 100.032517 82.000035 \r\nL 102.554337 81.632467 \r\nL 108.020459 80.216621 \r\nL 113.486582 78.170153 \r\nL 114.746565 77.562484 \r\nL 118.952704 75.455781 \r\nL 122.811375 73.124933 \r\nL 124.418827 72.137655 \r\nL 129.324407 68.687382 \r\nL 129.884949 68.295636 \r\nL 135.137702 64.249831 \r\nL 135.351071 64.090186 \r\nL 140.701423 59.81228 \r\nL 140.817194 59.72415 \r\nL 146.283316 55.393308 \r\nL 146.306219 55.374729 \r\nL 151.749439 51.259771 \r\nL 152.175977 50.937178 \r\nL 157.215561 47.418895 \r\nL 158.561032 46.499627 \r\nL 162.681684 43.91347 \r\nL 165.763214 42.062076 \r\nL 168.147806 40.747341 \r\nL 173.613929 37.915921 \r\nL 174.214288 37.624525 \r\nL 179.080051 35.449694 \r\nL 184.546173 33.254069 \r\nL 184.729388 33.186974 \r\nL 190.012296 31.39188 \r\nL 195.478418 29.774245 \r\nL 199.502732 28.749423 \r\nL 200.944541 28.405483 \r\nL 206.410663 27.29082 \r\nL 211.876786 26.384743 \r\nL 217.342908 25.67763 \r\nL 222.809031 25.159046 \r\nL 228.275153 24.818052 \r\nL 233.741276 24.643378 \r\nL 239.207398 24.623493 \r\nL 244.67352 24.746608 \r\nL 250.139643 25.000638 \r\nL 255.605765 25.37313 \r\nL 261.071888 25.85119 \r\nL 266.53801 26.421373 \r\nL 272.004133 27.069563 \r\nL 277.470255 27.780809 \r\nL 282.936378 28.539112 \r\nL 284.400848 28.749423 \r\nL 288.4025 29.336243 \r\n\" style=\"fill:none;stroke:#5ec962;stroke-width:1.5;\"/>\r\n   </g>\r\n   <g id=\"LineCollection_8\">\r\n    <path clip-path=\"url(#p33e9c97bfa)\" d=\"M 20.5625 15.36353 \r\nL 21.033078 15.43677 \r\nL 26.028622 16.245589 \r\nL 31.494745 17.115504 \r\nL 36.960867 17.952778 \r\nL 42.42699 18.735805 \r\nL 47.893112 19.441222 \r\nL 51.84062 19.874321 \r\nL 53.359235 20.049096 \r\nL 58.825357 20.540081 \r\nL 64.29148 20.878005 \r\nL 69.757602 21.038999 \r\nL 75.223724 21.002591 \r\nL 80.689847 20.753283 \r\nL 86.155969 20.281991 \r\nL 89.36774 19.874321 \r\nL 91.622092 19.599391 \r\nL 97.088214 18.728442 \r\nL 102.554337 17.66701 \r\nL 108.020459 16.436263 \r\nL 111.984562 15.43677 \r\nL 113.486582 15.080418 \r\nL 118.952704 13.665238 \r\nL 124.418827 12.175168 \r\nL 128.587995 10.999219 \r\n\" style=\"fill:none;stroke:#addc30;stroke-width:1.5;\"/>\r\n   </g>\r\n   <g id=\"LineCollection_9\"/>\r\n   <g id=\"line2d_11\">\r\n    <defs>\r\n     <path d=\"M 0 3 \r\nC 0.795609 3 1.55874 2.683901 2.12132 2.12132 \r\nC 2.683901 1.55874 3 0.795609 3 0 \r\nC 3 -0.795609 2.683901 -1.55874 2.12132 -2.12132 \r\nC 1.55874 -2.683901 0.795609 -3 0 -3 \r\nC -0.795609 -3 -1.55874 -2.683901 -2.12132 -2.12132 \r\nC -2.683901 -1.55874 -3 -0.795609 -3 0 \r\nC -3 0.795609 -2.683901 1.55874 -2.12132 2.12132 \r\nC -1.55874 2.683901 -0.795609 3 0 3 \r\nz\r\n\" id=\"m8344625fe3\" style=\"stroke:#ff0000;\"/>\r\n    </defs>\r\n    <g clip-path=\"url(#p33e9c97bfa)\">\r\n     <use style=\"fill:#ff0000;stroke:#ff0000;\" x=\"47.893112\" xlink:href=\"#m8344625fe3\" y=\"206.251464\"/>\r\n     <use style=\"fill:#ff0000;stroke:#ff0000;\" x=\"157.215561\" xlink:href=\"#m8344625fe3\" y=\"206.251464\"/>\r\n     <use style=\"fill:#ff0000;stroke:#ff0000;\" x=\"211.876786\" xlink:href=\"#m8344625fe3\" y=\"206.251464\"/>\r\n     <use style=\"fill:#ff0000;stroke:#ff0000;\" x=\"266.53801\" xlink:href=\"#m8344625fe3\" y=\"206.251464\"/>\r\n    </g>\r\n   </g>\r\n   <g id=\"line2d_12\">\r\n    <defs>\r\n     <path d=\"M 0 3 \r\nC 0.795609 3 1.55874 2.683901 2.12132 2.12132 \r\nC 2.683901 1.55874 3 0.795609 3 0 \r\nC 3 -0.795609 2.683901 -1.55874 2.12132 -2.12132 \r\nC 1.55874 -2.683901 0.795609 -3 0 -3 \r\nC -0.795609 -3 -1.55874 -2.683901 -2.12132 -2.12132 \r\nC -2.683901 -1.55874 -3 -0.795609 -3 0 \r\nC -3 0.795609 -2.683901 1.55874 -2.12132 2.12132 \r\nC -1.55874 2.683901 -0.795609 3 0 3 \r\nz\r\n\" id=\"mb73858e99f\" style=\"stroke:#0000ff;\"/>\r\n    </defs>\r\n    <g clip-path=\"url(#p33e9c97bfa)\">\r\n     <use style=\"fill:#0000ff;stroke:#0000ff;\" x=\"47.893112\" xlink:href=\"#mb73858e99f\" y=\"117.500443\"/>\r\n     <use style=\"fill:#0000ff;stroke:#0000ff;\" x=\"157.215561\" xlink:href=\"#mb73858e99f\" y=\"117.500443\"/>\r\n     <use style=\"fill:#0000ff;stroke:#0000ff;\" x=\"211.876786\" xlink:href=\"#mb73858e99f\" y=\"73.124933\"/>\r\n    </g>\r\n   </g>\r\n   <g id=\"line2d_13\">\r\n    <defs>\r\n     <path d=\"M 0 3 \r\nC 0.795609 3 1.55874 2.683901 2.12132 2.12132 \r\nC 2.683901 1.55874 3 0.795609 3 0 \r\nC 3 -0.795609 2.683901 -1.55874 2.12132 -2.12132 \r\nC 1.55874 -2.683901 0.795609 -3 0 -3 \r\nC -0.795609 -3 -1.55874 -2.683901 -2.12132 -2.12132 \r\nC -2.683901 -1.55874 -3 -0.795609 -3 0 \r\nC -3 0.795609 -2.683901 1.55874 -2.12132 2.12132 \r\nC -1.55874 2.683901 -0.795609 3 0 3 \r\nz\r\n\" id=\"m633066b40a\" style=\"stroke:#008000;\"/>\r\n    </defs>\r\n    <g clip-path=\"url(#p33e9c97bfa)\">\r\n     <use style=\"fill:#008000;stroke:#008000;\" x=\"47.893112\" xlink:href=\"#m633066b40a\" y=\"161.875953\"/>\r\n    </g>\r\n   </g>\r\n   <g id=\"patch_3\">\r\n    <path d=\"M 20.5625 228.439219 \r\nL 20.5625 10.999219 \r\n\" style=\"fill:none;stroke:#000000;stroke-linecap:square;stroke-linejoin:miter;stroke-width:0.8;\"/>\r\n   </g>\r\n   <g id=\"patch_4\">\r\n    <path d=\"M 288.4025 228.439219 \r\nL 288.4025 10.999219 \r\n\" style=\"fill:none;stroke:#000000;stroke-linecap:square;stroke-linejoin:miter;stroke-width:0.8;\"/>\r\n   </g>\r\n   <g id=\"patch_5\">\r\n    <path d=\"M 20.5625 228.439219 \r\nL 288.4025 228.439219 \r\n\" style=\"fill:none;stroke:#000000;stroke-linecap:square;stroke-linejoin:miter;stroke-width:0.8;\"/>\r\n   </g>\r\n   <g id=\"patch_6\">\r\n    <path d=\"M 20.5625 10.999219 \r\nL 288.4025 10.999219 \r\n\" style=\"fill:none;stroke:#000000;stroke-linecap:square;stroke-linejoin:miter;stroke-width:0.8;\"/>\r\n   </g>\r\n  </g>\r\n  <g id=\"axes_2\">\r\n   <g id=\"patch_7\">\r\n    <path clip-path=\"url(#p4434cd27ba)\" d=\"M 305.1425 228.439219 \r\nL 305.1425 201.259219 \r\nL 305.1425 38.179219 \r\nL 305.1425 10.999219 \r\nL 316.0145 10.999219 \r\nL 316.0145 38.179219 \r\nL 316.0145 201.259219 \r\nL 316.0145 228.439219 \r\nz\r\n\" style=\"fill:#ffffff;stroke:#ffffff;stroke-linejoin:miter;stroke-width:0.01;\"/>\r\n   </g>\r\n   <g id=\"matplotlib.axis_3\"/>\r\n   <g id=\"matplotlib.axis_4\">\r\n    <g id=\"ytick_6\">\r\n     <g id=\"line2d_14\">\r\n      <defs>\r\n       <path d=\"M 0 0 \r\nL 3.5 0 \r\n\" id=\"mee5e419b59\" style=\"stroke:#000000;stroke-width:0.8;\"/>\r\n      </defs>\r\n      <g>\r\n       <use style=\"stroke:#000000;stroke-width:0.8;\" x=\"316.0145\" xlink:href=\"#mee5e419b59\" y=\"228.439219\"/>\r\n      </g>\r\n     </g>\r\n     <g id=\"text_11\">\r\n      <!-- −0.4 -->\r\n      <g transform=\"translate(323.0145 232.238437)scale(0.1 -0.1)\">\r\n       <defs>\r\n        <path d=\"M 10.59375 35.5 \r\nL 73.1875 35.5 \r\nL 73.1875 27.203125 \r\nL 10.59375 27.203125 \r\nz\r\n\" id=\"DejaVuSans-8722\"/>\r\n        <path d=\"M 10.6875 12.40625 \r\nL 21 12.40625 \r\nL 21 0 \r\nL 10.6875 0 \r\nz\r\n\" id=\"DejaVuSans-46\"/>\r\n       </defs>\r\n       <use xlink:href=\"#DejaVuSans-8722\"/>\r\n       <use x=\"83.789062\" xlink:href=\"#DejaVuSans-48\"/>\r\n       <use x=\"147.412109\" xlink:href=\"#DejaVuSans-46\"/>\r\n       <use x=\"179.199219\" xlink:href=\"#DejaVuSans-52\"/>\r\n      </g>\r\n     </g>\r\n    </g>\r\n    <g id=\"ytick_7\">\r\n     <g id=\"line2d_15\">\r\n      <g>\r\n       <use style=\"stroke:#000000;stroke-width:0.8;\" x=\"316.0145\" xlink:href=\"#mee5e419b59\" y=\"201.259219\"/>\r\n      </g>\r\n     </g>\r\n     <g id=\"text_12\">\r\n      <!-- 0.0 -->\r\n      <g transform=\"translate(323.0145 205.058437)scale(0.1 -0.1)\">\r\n       <use xlink:href=\"#DejaVuSans-48\"/>\r\n       <use x=\"63.623047\" xlink:href=\"#DejaVuSans-46\"/>\r\n       <use x=\"95.410156\" xlink:href=\"#DejaVuSans-48\"/>\r\n      </g>\r\n     </g>\r\n    </g>\r\n    <g id=\"ytick_8\">\r\n     <g id=\"line2d_16\">\r\n      <g>\r\n       <use style=\"stroke:#000000;stroke-width:0.8;\" x=\"316.0145\" xlink:href=\"#mee5e419b59\" y=\"174.079219\"/>\r\n      </g>\r\n     </g>\r\n     <g id=\"text_13\">\r\n      <!-- 0.4 -->\r\n      <g transform=\"translate(323.0145 177.878437)scale(0.1 -0.1)\">\r\n       <use xlink:href=\"#DejaVuSans-48\"/>\r\n       <use x=\"63.623047\" xlink:href=\"#DejaVuSans-46\"/>\r\n       <use x=\"95.410156\" xlink:href=\"#DejaVuSans-52\"/>\r\n      </g>\r\n     </g>\r\n    </g>\r\n    <g id=\"ytick_9\">\r\n     <g id=\"line2d_17\">\r\n      <g>\r\n       <use style=\"stroke:#000000;stroke-width:0.8;\" x=\"316.0145\" xlink:href=\"#mee5e419b59\" y=\"146.899219\"/>\r\n      </g>\r\n     </g>\r\n     <g id=\"text_14\">\r\n      <!-- 0.8 -->\r\n      <g transform=\"translate(323.0145 150.698437)scale(0.1 -0.1)\">\r\n       <defs>\r\n        <path d=\"M 31.78125 34.625 \r\nQ 24.75 34.625 20.71875 30.859375 \r\nQ 16.703125 27.09375 16.703125 20.515625 \r\nQ 16.703125 13.921875 20.71875 10.15625 \r\nQ 24.75 6.390625 31.78125 6.390625 \r\nQ 38.8125 6.390625 42.859375 10.171875 \r\nQ 46.921875 13.96875 46.921875 20.515625 \r\nQ 46.921875 27.09375 42.890625 30.859375 \r\nQ 38.875 34.625 31.78125 34.625 \r\nz\r\nM 21.921875 38.8125 \r\nQ 15.578125 40.375 12.03125 44.71875 \r\nQ 8.5 49.078125 8.5 55.328125 \r\nQ 8.5 64.0625 14.71875 69.140625 \r\nQ 20.953125 74.21875 31.78125 74.21875 \r\nQ 42.671875 74.21875 48.875 69.140625 \r\nQ 55.078125 64.0625 55.078125 55.328125 \r\nQ 55.078125 49.078125 51.53125 44.71875 \r\nQ 48 40.375 41.703125 38.8125 \r\nQ 48.828125 37.15625 52.796875 32.3125 \r\nQ 56.78125 27.484375 56.78125 20.515625 \r\nQ 56.78125 9.90625 50.3125 4.234375 \r\nQ 43.84375 -1.421875 31.78125 -1.421875 \r\nQ 19.734375 -1.421875 13.25 4.234375 \r\nQ 6.78125 9.90625 6.78125 20.515625 \r\nQ 6.78125 27.484375 10.78125 32.3125 \r\nQ 14.796875 37.15625 21.921875 38.8125 \r\nz\r\nM 18.3125 54.390625 \r\nQ 18.3125 48.734375 21.84375 45.5625 \r\nQ 25.390625 42.390625 31.78125 42.390625 \r\nQ 38.140625 42.390625 41.71875 45.5625 \r\nQ 45.3125 48.734375 45.3125 54.390625 \r\nQ 45.3125 60.0625 41.71875 63.234375 \r\nQ 38.140625 66.40625 31.78125 66.40625 \r\nQ 25.390625 66.40625 21.84375 63.234375 \r\nQ 18.3125 60.0625 18.3125 54.390625 \r\nz\r\n\" id=\"DejaVuSans-56\"/>\r\n       </defs>\r\n       <use xlink:href=\"#DejaVuSans-48\"/>\r\n       <use x=\"63.623047\" xlink:href=\"#DejaVuSans-46\"/>\r\n       <use x=\"95.410156\" xlink:href=\"#DejaVuSans-56\"/>\r\n      </g>\r\n     </g>\r\n    </g>\r\n    <g id=\"ytick_10\">\r\n     <g id=\"line2d_18\">\r\n      <g>\r\n       <use style=\"stroke:#000000;stroke-width:0.8;\" x=\"316.0145\" xlink:href=\"#mee5e419b59\" y=\"119.719219\"/>\r\n      </g>\r\n     </g>\r\n     <g id=\"text_15\">\r\n      <!-- 1.2 -->\r\n      <g transform=\"translate(323.0145 123.518437)scale(0.1 -0.1)\">\r\n       <use xlink:href=\"#DejaVuSans-49\"/>\r\n       <use x=\"63.623047\" xlink:href=\"#DejaVuSans-46\"/>\r\n       <use x=\"95.410156\" xlink:href=\"#DejaVuSans-50\"/>\r\n      </g>\r\n     </g>\r\n    </g>\r\n    <g id=\"ytick_11\">\r\n     <g id=\"line2d_19\">\r\n      <g>\r\n       <use style=\"stroke:#000000;stroke-width:0.8;\" x=\"316.0145\" xlink:href=\"#mee5e419b59\" y=\"92.539219\"/>\r\n      </g>\r\n     </g>\r\n     <g id=\"text_16\">\r\n      <!-- 1.6 -->\r\n      <g transform=\"translate(323.0145 96.338437)scale(0.1 -0.1)\">\r\n       <defs>\r\n        <path d=\"M 33.015625 40.375 \r\nQ 26.375 40.375 22.484375 35.828125 \r\nQ 18.609375 31.296875 18.609375 23.390625 \r\nQ 18.609375 15.53125 22.484375 10.953125 \r\nQ 26.375 6.390625 33.015625 6.390625 \r\nQ 39.65625 6.390625 43.53125 10.953125 \r\nQ 47.40625 15.53125 47.40625 23.390625 \r\nQ 47.40625 31.296875 43.53125 35.828125 \r\nQ 39.65625 40.375 33.015625 40.375 \r\nz\r\nM 52.59375 71.296875 \r\nL 52.59375 62.3125 \r\nQ 48.875 64.0625 45.09375 64.984375 \r\nQ 41.3125 65.921875 37.59375 65.921875 \r\nQ 27.828125 65.921875 22.671875 59.328125 \r\nQ 17.53125 52.734375 16.796875 39.40625 \r\nQ 19.671875 43.65625 24.015625 45.921875 \r\nQ 28.375 48.1875 33.59375 48.1875 \r\nQ 44.578125 48.1875 50.953125 41.515625 \r\nQ 57.328125 34.859375 57.328125 23.390625 \r\nQ 57.328125 12.15625 50.6875 5.359375 \r\nQ 44.046875 -1.421875 33.015625 -1.421875 \r\nQ 20.359375 -1.421875 13.671875 8.265625 \r\nQ 6.984375 17.96875 6.984375 36.375 \r\nQ 6.984375 53.65625 15.1875 63.9375 \r\nQ 23.390625 74.21875 37.203125 74.21875 \r\nQ 40.921875 74.21875 44.703125 73.484375 \r\nQ 48.484375 72.75 52.59375 71.296875 \r\nz\r\n\" id=\"DejaVuSans-54\"/>\r\n       </defs>\r\n       <use xlink:href=\"#DejaVuSans-49\"/>\r\n       <use x=\"63.623047\" xlink:href=\"#DejaVuSans-46\"/>\r\n       <use x=\"95.410156\" xlink:href=\"#DejaVuSans-54\"/>\r\n      </g>\r\n     </g>\r\n    </g>\r\n    <g id=\"ytick_12\">\r\n     <g id=\"line2d_20\">\r\n      <g>\r\n       <use style=\"stroke:#000000;stroke-width:0.8;\" x=\"316.0145\" xlink:href=\"#mee5e419b59\" y=\"65.359219\"/>\r\n      </g>\r\n     </g>\r\n     <g id=\"text_17\">\r\n      <!-- 2.0 -->\r\n      <g transform=\"translate(323.0145 69.158437)scale(0.1 -0.1)\">\r\n       <use xlink:href=\"#DejaVuSans-50\"/>\r\n       <use x=\"63.623047\" xlink:href=\"#DejaVuSans-46\"/>\r\n       <use x=\"95.410156\" xlink:href=\"#DejaVuSans-48\"/>\r\n      </g>\r\n     </g>\r\n    </g>\r\n    <g id=\"ytick_13\">\r\n     <g id=\"line2d_21\">\r\n      <g>\r\n       <use style=\"stroke:#000000;stroke-width:0.8;\" x=\"316.0145\" xlink:href=\"#mee5e419b59\" y=\"38.179219\"/>\r\n      </g>\r\n     </g>\r\n     <g id=\"text_18\">\r\n      <!-- 2.4 -->\r\n      <g transform=\"translate(323.0145 41.978437)scale(0.1 -0.1)\">\r\n       <use xlink:href=\"#DejaVuSans-50\"/>\r\n       <use x=\"63.623047\" xlink:href=\"#DejaVuSans-46\"/>\r\n       <use x=\"95.410156\" xlink:href=\"#DejaVuSans-52\"/>\r\n      </g>\r\n     </g>\r\n    </g>\r\n    <g id=\"ytick_14\">\r\n     <g id=\"line2d_22\">\r\n      <g>\r\n       <use style=\"stroke:#000000;stroke-width:0.8;\" x=\"316.0145\" xlink:href=\"#mee5e419b59\" y=\"10.999219\"/>\r\n      </g>\r\n     </g>\r\n     <g id=\"text_19\">\r\n      <!-- 2.8 -->\r\n      <g transform=\"translate(323.0145 14.798437)scale(0.1 -0.1)\">\r\n       <use xlink:href=\"#DejaVuSans-50\"/>\r\n       <use x=\"63.623047\" xlink:href=\"#DejaVuSans-46\"/>\r\n       <use x=\"95.410156\" xlink:href=\"#DejaVuSans-56\"/>\r\n      </g>\r\n     </g>\r\n    </g>\r\n   </g>\r\n   <g id=\"LineCollection_10\">\r\n    <path clip-path=\"url(#p4434cd27ba)\" d=\"M 305.1425 228.439219 \r\nL 316.0145 228.439219 \r\n\" style=\"fill:none;stroke:#440154;stroke-width:1.5;\"/>\r\n    <path clip-path=\"url(#p4434cd27ba)\" d=\"M 305.1425 201.259219 \r\nL 316.0145 201.259219 \r\n\" style=\"fill:none;stroke:#472d7b;stroke-width:1.5;\"/>\r\n    <path clip-path=\"url(#p4434cd27ba)\" d=\"M 305.1425 174.079219 \r\nL 316.0145 174.079219 \r\n\" style=\"fill:none;stroke:#3b528b;stroke-width:1.5;\"/>\r\n    <path clip-path=\"url(#p4434cd27ba)\" d=\"M 305.1425 146.899219 \r\nL 316.0145 146.899219 \r\n\" style=\"fill:none;stroke:#2c728e;stroke-width:1.5;\"/>\r\n    <path clip-path=\"url(#p4434cd27ba)\" d=\"M 305.1425 119.719219 \r\nL 316.0145 119.719219 \r\n\" style=\"fill:none;stroke:#21918c;stroke-width:1.5;\"/>\r\n    <path clip-path=\"url(#p4434cd27ba)\" d=\"M 305.1425 92.539219 \r\nL 316.0145 92.539219 \r\n\" style=\"fill:none;stroke:#28ae80;stroke-width:1.5;\"/>\r\n    <path clip-path=\"url(#p4434cd27ba)\" d=\"M 305.1425 65.359219 \r\nL 316.0145 65.359219 \r\n\" style=\"fill:none;stroke:#5ec962;stroke-width:1.5;\"/>\r\n    <path clip-path=\"url(#p4434cd27ba)\" d=\"M 305.1425 38.179219 \r\nL 316.0145 38.179219 \r\n\" style=\"fill:none;stroke:#addc30;stroke-width:1.5;\"/>\r\n    <path clip-path=\"url(#p4434cd27ba)\" d=\"M 305.1425 10.999219 \r\nL 316.0145 10.999219 \r\n\" style=\"fill:none;stroke:#fde725;stroke-width:1.5;\"/>\r\n   </g>\r\n   <g id=\"patch_8\">\r\n    <path d=\"M 305.1425 228.439219 \r\nL 305.1425 201.259219 \r\nL 305.1425 38.179219 \r\nL 305.1425 10.999219 \r\nL 316.0145 10.999219 \r\nL 316.0145 38.179219 \r\nL 316.0145 201.259219 \r\nL 316.0145 228.439219 \r\nz\r\n\" style=\"fill:none;stroke:#000000;stroke-linejoin:miter;stroke-width:0.8;\"/>\r\n   </g>\r\n  </g>\r\n </g>\r\n <defs>\r\n  <clipPath id=\"p33e9c97bfa\">\r\n   <rect height=\"217.44\" width=\"267.84\" x=\"20.5625\" y=\"10.999219\"/>\r\n  </clipPath>\r\n  <clipPath id=\"p4434cd27ba\">\r\n   <rect height=\"217.44\" width=\"10.872\" x=\"305.1425\" y=\"10.999219\"/>\r\n  </clipPath>\r\n </defs>\r\n</svg>\r\n",
      "image/png": "[encoded data removed]"
     },
     "metadata": {
      "needs_background": "light"
     }
    }
   ],
   "source": [
    "plt.contour(XX,YY,intp)\n",
    "plt.colorbar()\n",
    "plt.plot(layer1[:,0], layer1[:,1], 'ro')\n",
    "plt.plot(layer2[:,0], layer2[:,1], 'bo')\n",
    "\n",
    "plt.plot(G_1[0,0], G_1[0,1], 'go')\n",
    "plt.quiver([G_1[0,0]],[G_1[0,1]],G_1_x,G_1_y,color='r')"
   ]
  },
  {
   "source": [
    "## add 2nd order drift term "
   ],
   "cell_type": "markdown",
   "metadata": {}
  },
  {
   "cell_type": "code",
   "execution_count": 44,
   "metadata": {},
   "outputs": [],
   "source": [
    "a1 = np.eye(number_of_layer)\n",
    "\n",
    "a2 = np.stack([ref_layer_points[:,0] - rest_layer_points[:,0],ref_layer_points[:,1] - rest_layer_points[:,1]])\n",
    "\n",
    "a3 = np.stack([[0*2,0],[0,1*2],[0,1]])\n",
    "\n",
    "a4 = np.stack([ref_layer_points[:,0]*ref_layer_points[:,0].T - rest_layer_points[:,0]*rest_layer_points[:,0].T , ref_layer_points[:,1]*ref_layer_points[:,1].T - rest_layer_points[:,1]*rest_layer_points[:,1].T , ref_layer_points[:,0]*ref_layer_points[:,1] - rest_layer_points[:,0]*rest_layer_points[:,1]])\n",
    "\n",
    "U_2nd = np.concatenate([np.concatenate([a1,a2],axis=1),np.concatenate([a3,a4],axis=1)], axis=0)\n",
    "\n",
    "U_2nd_T = U_2nd.T"
   ]
  },
  {
   "cell_type": "code",
   "execution_count": 45,
   "metadata": {},
   "outputs": [],
   "source": [
    "zero_matrix = np.zeros([5,5])\n",
    "\n",
    "K_U_2nd = np.concatenate([np.concatenate([K,U_2nd_T],axis = 1),np.concatenate([U_2nd,zero_matrix],axis = 1)],axis = 0)"
   ]
  },
  {
   "cell_type": "code",
   "execution_count": 46,
   "metadata": {},
   "outputs": [
    {
     "output_type": "execute_result",
     "data": {
      "text/plain": [
       "           0         1          2          3         4         5         6  \\\n",
       "0   0.544960  0.000000   0.015699  -0.162014 -0.076728  0.043519 -0.134194   \n",
       "1   0.000000  0.544960   0.207702   0.084932  0.026884 -0.182614 -0.059844   \n",
       "2   0.015699  0.207702   1.178088   0.589044  0.190202  0.291989  0.051242   \n",
       "3  -0.162014  0.084932   0.589044   0.707870  0.353935  0.091754  0.148993   \n",
       "4  -0.076728  0.026884   0.190202   0.353935  0.251322  0.002766  0.082476   \n",
       "5   0.043519 -0.182614   0.291989   0.091754  0.002766  1.083599  0.407053   \n",
       "6  -0.134194 -0.059844   0.051242   0.148993  0.082476  0.407053  0.438378   \n",
       "7   1.000000  0.000000   4.000000   2.000000  1.000000  3.000000  1.000000   \n",
       "8   0.000000  1.000000   0.000000   0.000000  0.000000  1.000000  1.000000   \n",
       "9   0.000000  0.000000  16.000000  12.000000  7.000000  9.000000  5.000000   \n",
       "10  0.000000  2.000000   0.000000   0.000000  0.000000  5.000000  5.000000   \n",
       "11  0.000000  1.000000   0.000000   0.000000  0.000000  9.000000  5.000000   \n",
       "\n",
       "      7    8     9   10   11  \n",
       "0   1.0  0.0   0.0  0.0  0.0  \n",
       "1   0.0  1.0   0.0  2.0  1.0  \n",
       "2   4.0  0.0  16.0  0.0  0.0  \n",
       "3   2.0  0.0  12.0  0.0  0.0  \n",
       "4   1.0  0.0   7.0  0.0  0.0  \n",
       "5   3.0  1.0   9.0  5.0  9.0  \n",
       "6   1.0  1.0   5.0  5.0  5.0  \n",
       "7   0.0  0.0   0.0  0.0  0.0  \n",
       "8   0.0  0.0   0.0  0.0  0.0  \n",
       "9   0.0  0.0   0.0  0.0  0.0  \n",
       "10  0.0  0.0   0.0  0.0  0.0  \n",
       "11  0.0  0.0   0.0  0.0  0.0  "
      ],
      "text/html": "<div>\n<style scoped>\n    .dataframe tbody tr th:only-of-type {\n        vertical-align: middle;\n    }\n\n    .dataframe tbody tr th {\n        vertical-align: top;\n    }\n\n    .dataframe thead th {\n        text-align: right;\n    }\n</style>\n<table border=\"1\" class=\"dataframe\">\n  <thead>\n    <tr style=\"text-align: right;\">\n      <th></th>\n      <th>0</th>\n      <th>1</th>\n      <th>2</th>\n      <th>3</th>\n      <th>4</th>\n      <th>5</th>\n      <th>6</th>\n      <th>7</th>\n      <th>8</th>\n      <th>9</th>\n      <th>10</th>\n      <th>11</th>\n    </tr>\n  </thead>\n  <tbody>\n    <tr>\n      <th>0</th>\n      <td>0.544960</td>\n      <td>0.000000</td>\n      <td>0.015699</td>\n      <td>-0.162014</td>\n      <td>-0.076728</td>\n      <td>0.043519</td>\n      <td>-0.134194</td>\n      <td>1.0</td>\n      <td>0.0</td>\n      <td>0.0</td>\n      <td>0.0</td>\n      <td>0.0</td>\n    </tr>\n    <tr>\n      <th>1</th>\n      <td>0.000000</td>\n      <td>0.544960</td>\n      <td>0.207702</td>\n      <td>0.084932</td>\n      <td>0.026884</td>\n      <td>-0.182614</td>\n      <td>-0.059844</td>\n      <td>0.0</td>\n      <td>1.0</td>\n      <td>0.0</td>\n      <td>2.0</td>\n      <td>1.0</td>\n    </tr>\n    <tr>\n      <th>2</th>\n      <td>0.015699</td>\n      <td>0.207702</td>\n      <td>1.178088</td>\n      <td>0.589044</td>\n      <td>0.190202</td>\n      <td>0.291989</td>\n      <td>0.051242</td>\n      <td>4.0</td>\n      <td>0.0</td>\n      <td>16.0</td>\n      <td>0.0</td>\n      <td>0.0</td>\n    </tr>\n    <tr>\n      <th>3</th>\n      <td>-0.162014</td>\n      <td>0.084932</td>\n      <td>0.589044</td>\n      <td>0.707870</td>\n      <td>0.353935</td>\n      <td>0.091754</td>\n      <td>0.148993</td>\n      <td>2.0</td>\n      <td>0.0</td>\n      <td>12.0</td>\n      <td>0.0</td>\n      <td>0.0</td>\n    </tr>\n    <tr>\n      <th>4</th>\n      <td>-0.076728</td>\n      <td>0.026884</td>\n      <td>0.190202</td>\n      <td>0.353935</td>\n      <td>0.251322</td>\n      <td>0.002766</td>\n      <td>0.082476</td>\n      <td>1.0</td>\n      <td>0.0</td>\n      <td>7.0</td>\n      <td>0.0</td>\n      <td>0.0</td>\n    </tr>\n    <tr>\n      <th>5</th>\n      <td>0.043519</td>\n      <td>-0.182614</td>\n      <td>0.291989</td>\n      <td>0.091754</td>\n      <td>0.002766</td>\n      <td>1.083599</td>\n      <td>0.407053</td>\n      <td>3.0</td>\n      <td>1.0</td>\n      <td>9.0</td>\n      <td>5.0</td>\n      <td>9.0</td>\n    </tr>\n    <tr>\n      <th>6</th>\n      <td>-0.134194</td>\n      <td>-0.059844</td>\n      <td>0.051242</td>\n      <td>0.148993</td>\n      <td>0.082476</td>\n      <td>0.407053</td>\n      <td>0.438378</td>\n      <td>1.0</td>\n      <td>1.0</td>\n      <td>5.0</td>\n      <td>5.0</td>\n      <td>5.0</td>\n    </tr>\n    <tr>\n      <th>7</th>\n      <td>1.000000</td>\n      <td>0.000000</td>\n      <td>4.000000</td>\n      <td>2.000000</td>\n      <td>1.000000</td>\n      <td>3.000000</td>\n      <td>1.000000</td>\n      <td>0.0</td>\n      <td>0.0</td>\n      <td>0.0</td>\n      <td>0.0</td>\n      <td>0.0</td>\n    </tr>\n    <tr>\n      <th>8</th>\n      <td>0.000000</td>\n      <td>1.000000</td>\n      <td>0.000000</td>\n      <td>0.000000</td>\n      <td>0.000000</td>\n      <td>1.000000</td>\n      <td>1.000000</td>\n      <td>0.0</td>\n      <td>0.0</td>\n      <td>0.0</td>\n      <td>0.0</td>\n      <td>0.0</td>\n    </tr>\n    <tr>\n      <th>9</th>\n      <td>0.000000</td>\n      <td>0.000000</td>\n      <td>16.000000</td>\n      <td>12.000000</td>\n      <td>7.000000</td>\n      <td>9.000000</td>\n      <td>5.000000</td>\n      <td>0.0</td>\n      <td>0.0</td>\n      <td>0.0</td>\n      <td>0.0</td>\n      <td>0.0</td>\n    </tr>\n    <tr>\n      <th>10</th>\n      <td>0.000000</td>\n      <td>2.000000</td>\n      <td>0.000000</td>\n      <td>0.000000</td>\n      <td>0.000000</td>\n      <td>5.000000</td>\n      <td>5.000000</td>\n      <td>0.0</td>\n      <td>0.0</td>\n      <td>0.0</td>\n      <td>0.0</td>\n      <td>0.0</td>\n    </tr>\n    <tr>\n      <th>11</th>\n      <td>0.000000</td>\n      <td>1.000000</td>\n      <td>0.000000</td>\n      <td>0.000000</td>\n      <td>0.000000</td>\n      <td>9.000000</td>\n      <td>5.000000</td>\n      <td>0.0</td>\n      <td>0.0</td>\n      <td>0.0</td>\n      <td>0.0</td>\n      <td>0.0</td>\n    </tr>\n  </tbody>\n</table>\n</div>"
     },
     "metadata": {},
     "execution_count": 46
    }
   ],
   "source": [
    "pd.DataFrame(K_U_2nd)"
   ]
  },
  {
   "cell_type": "code",
   "execution_count": 47,
   "metadata": {},
   "outputs": [],
   "source": [
    "b_2nd = np.concatenate([[G_1_x,G_1_y],np.zeros(K_U_2nd.shape[0]-G_1.shape[0]*2)],axis = 0)\n",
    "\n",
    "b_2nd = np.reshape(b_2nd,newshape = [b_2nd.shape[0],1])\n",
    "\n",
    "w_2nd = np.linalg.solve(K_U_2nd,b_2nd)"
   ]
  },
  {
   "cell_type": "code",
   "execution_count": 48,
   "metadata": {},
   "outputs": [],
   "source": [
    "# gradient contribution\n",
    "sigma_0_grad = w_2nd[:G_1.shape[0]*2] * (-hu_Simpoints*(- c_o_T * ((-14 / a_T ** 2) + 105 / 4 * sed_dips_SimPoint / a_T ** 3                -35 / 2 * sed_dips_SimPoint ** 3 / a_T ** 5 + 21 / 4 * sed_dips_SimPoint ** 5 / a_T ** 7)))\n",
    "\n",
    "sigma_0_grad = np.sum(sigma_0_grad,axis=0)\n",
    "# surface point contribution\n",
    "sigma_0_interf = -w_2nd[G_1.shape[0]*2:-5]*(c_o_T  * ((1 - 7 * (sed_rest_SimPoint / a_T) ** 2 +\n",
    "             35 / 4 * (sed_rest_SimPoint / a_T) ** 3 -\n",
    "             7 / 2 * (sed_rest_SimPoint / a_T) ** 5 +\n",
    "             3 / 4 * (sed_rest_SimPoint / a_T) ** 7) -\n",
    "             (1 - 7 * (sed_ref_SimPoint / a_T) ** 2 +\n",
    "              35 / 4 * (sed_ref_SimPoint / a_T) ** 3 -\n",
    "              7 / 2 * (sed_ref_SimPoint / a_T) ** 5 +\n",
    "              3 / 4 * (sed_ref_SimPoint / a_T) ** 7)))\n",
    "sigma_0_interf = np.sum(sigma_0_interf,axis = 0)"
   ]
  },
  {
   "cell_type": "code",
   "execution_count": 49,
   "metadata": {},
   "outputs": [],
   "source": [
    "# 2nd order drift contribution\n",
    "sigma_0_2nd_drift_1 = np.sum(grid* (w_2nd[-5:-3]).T,axis = 1)\n",
    "\n",
    "grid_squr = grid*grid\n",
    "\n",
    "sigma_0_2nd_drift_2 = np.sum(grid_squr* (w_2nd[-3:-1]).T,axis = 1)\n",
    "\n",
    "grid_xy = grid[:,0]*grid[:,1]\n",
    "\n",
    "\n",
    "sigma_0_2nd_drift_3 = grid_xy * w_2nd[-1]\n",
    "\n",
    "sigma_0_2nd_drift = sigma_0_2nd_drift_1 + sigma_0_2nd_drift_2 + sigma_0_2nd_drift_3"
   ]
  },
  {
   "cell_type": "code",
   "execution_count": 50,
   "metadata": {},
   "outputs": [
    {
     "output_type": "execute_result",
     "data": {
      "text/plain": [
       "<matplotlib.quiver.Quiver at 0x1ec345da848>"
      ]
     },
     "metadata": {},
     "execution_count": 50
    },
    {
     "output_type": "display_data",
     "data": {
      "text/plain": "<Figure size 432x288 with 2 Axes>",
      "image/svg+xml": "<?xml version=\"1.0\" encoding=\"utf-8\" standalone=\"no\"?>\r\n<!DOCTYPE svg PUBLIC \"-//W3C//DTD SVG 1.1//EN\"\r\n  \"http://www.w3.org/Graphics/SVG/1.1/DTD/svg11.dtd\">\r\n<!-- Created with matplotlib (https://matplotlib.org/) -->\r\n<svg height=\"252.317344pt\" version=\"1.1\" viewBox=\"0 0 354.497312 252.317344\" width=\"354.497312pt\" xmlns=\"http://www.w3.org/2000/svg\" xmlns:xlink=\"http://www.w3.org/1999/xlink\">\r\n <metadata>\r\n  <rdf:RDF xmlns:cc=\"http://creativecommons.org/ns#\" xmlns:dc=\"http://purl.org/dc/elements/1.1/\" xmlns:rdf=\"http://www.w3.org/1999/02/22-rdf-syntax-ns#\">\r\n   <cc:Work>\r\n    <dc:type rdf:resource=\"http://purl.org/dc/dcmitype/StillImage\"/>\r\n    <dc:date>2020-12-11T15:19:26.650140</dc:date>\r\n    <dc:format>image/svg+xml</dc:format>\r\n    <dc:creator>\r\n     <cc:Agent>\r\n      <dc:title>Matplotlib v3.3.3, https://matplotlib.org/</dc:title>\r\n     </cc:Agent>\r\n    </dc:creator>\r\n   </cc:Work>\r\n  </rdf:RDF>\r\n </metadata>\r\n <defs>\r\n  <style type=\"text/css\">*{stroke-linecap:butt;stroke-linejoin:round;}</style>\r\n </defs>\r\n <g id=\"figure_1\">\r\n  <g id=\"patch_1\">\r\n   <path d=\"M 0 252.317344 \r\nL 354.497312 252.317344 \r\nL 354.497312 0 \r\nL 0 0 \r\nz\r\n\" style=\"fill:none;\"/>\r\n  </g>\r\n  <g id=\"axes_1\">\r\n   <g id=\"patch_2\">\r\n    <path d=\"M 20.5625 228.439219 \r\nL 288.4025 228.439219 \r\nL 288.4025 10.999219 \r\nL 20.5625 10.999219 \r\nz\r\n\" style=\"fill:#ffffff;\"/>\r\n   </g>\r\n   <g id=\"Quiver_1\">\r\n    <path clip-path=\"url(#p16235cade2)\" d=\"M 47.182894 161.165735 \r\nL 51.312681 157.035949 \r\nL 49.182026 156.325731 \r\nL 58.414861 151.354205 \r\nL 53.443335 160.587039 \r\nL 52.733117 158.456385 \r\nL 48.60333 162.586171 \r\nL 47.182894 161.165735 \r\n\" style=\"fill:#ff0000;\"/>\r\n   </g>\r\n   <g id=\"matplotlib.axis_1\">\r\n    <g id=\"xtick_1\">\r\n     <g id=\"line2d_1\">\r\n      <defs>\r\n       <path d=\"M 0 0 \r\nL 0 3.5 \r\n\" id=\"m8f34fa1428\" style=\"stroke:#000000;stroke-width:0.8;\"/>\r\n      </defs>\r\n      <g>\r\n       <use style=\"stroke:#000000;stroke-width:0.8;\" x=\"47.893112\" xlink:href=\"#m8f34fa1428\" y=\"228.439219\"/>\r\n      </g>\r\n     </g>\r\n     <g id=\"text_1\">\r\n      <!-- 0 -->\r\n      <g transform=\"translate(44.711862 243.037656)scale(0.1 -0.1)\">\r\n       <defs>\r\n        <path d=\"M 31.78125 66.40625 \r\nQ 24.171875 66.40625 20.328125 58.90625 \r\nQ 16.5 51.421875 16.5 36.375 \r\nQ 16.5 21.390625 20.328125 13.890625 \r\nQ 24.171875 6.390625 31.78125 6.390625 \r\nQ 39.453125 6.390625 43.28125 13.890625 \r\nQ 47.125 21.390625 47.125 36.375 \r\nQ 47.125 51.421875 43.28125 58.90625 \r\nQ 39.453125 66.40625 31.78125 66.40625 \r\nz\r\nM 31.78125 74.21875 \r\nQ 44.046875 74.21875 50.515625 64.515625 \r\nQ 56.984375 54.828125 56.984375 36.375 \r\nQ 56.984375 17.96875 50.515625 8.265625 \r\nQ 44.046875 -1.421875 31.78125 -1.421875 \r\nQ 19.53125 -1.421875 13.0625 8.265625 \r\nQ 6.59375 17.96875 6.59375 36.375 \r\nQ 6.59375 54.828125 13.0625 64.515625 \r\nQ 19.53125 74.21875 31.78125 74.21875 \r\nz\r\n\" id=\"DejaVuSans-48\"/>\r\n       </defs>\r\n       <use xlink:href=\"#DejaVuSans-48\"/>\r\n      </g>\r\n     </g>\r\n    </g>\r\n    <g id=\"xtick_2\">\r\n     <g id=\"line2d_2\">\r\n      <g>\r\n       <use style=\"stroke:#000000;stroke-width:0.8;\" x=\"102.554337\" xlink:href=\"#m8f34fa1428\" y=\"228.439219\"/>\r\n      </g>\r\n     </g>\r\n     <g id=\"text_2\">\r\n      <!-- 1 -->\r\n      <g transform=\"translate(99.373087 243.037656)scale(0.1 -0.1)\">\r\n       <defs>\r\n        <path d=\"M 12.40625 8.296875 \r\nL 28.515625 8.296875 \r\nL 28.515625 63.921875 \r\nL 10.984375 60.40625 \r\nL 10.984375 69.390625 \r\nL 28.421875 72.90625 \r\nL 38.28125 72.90625 \r\nL 38.28125 8.296875 \r\nL 54.390625 8.296875 \r\nL 54.390625 0 \r\nL 12.40625 0 \r\nz\r\n\" id=\"DejaVuSans-49\"/>\r\n       </defs>\r\n       <use xlink:href=\"#DejaVuSans-49\"/>\r\n      </g>\r\n     </g>\r\n    </g>\r\n    <g id=\"xtick_3\">\r\n     <g id=\"line2d_3\">\r\n      <g>\r\n       <use style=\"stroke:#000000;stroke-width:0.8;\" x=\"157.215561\" xlink:href=\"#m8f34fa1428\" y=\"228.439219\"/>\r\n      </g>\r\n     </g>\r\n     <g id=\"text_3\">\r\n      <!-- 2 -->\r\n      <g transform=\"translate(154.034311 243.037656)scale(0.1 -0.1)\">\r\n       <defs>\r\n        <path d=\"M 19.1875 8.296875 \r\nL 53.609375 8.296875 \r\nL 53.609375 0 \r\nL 7.328125 0 \r\nL 7.328125 8.296875 \r\nQ 12.9375 14.109375 22.625 23.890625 \r\nQ 32.328125 33.6875 34.8125 36.53125 \r\nQ 39.546875 41.84375 41.421875 45.53125 \r\nQ 43.3125 49.21875 43.3125 52.78125 \r\nQ 43.3125 58.59375 39.234375 62.25 \r\nQ 35.15625 65.921875 28.609375 65.921875 \r\nQ 23.96875 65.921875 18.8125 64.3125 \r\nQ 13.671875 62.703125 7.8125 59.421875 \r\nL 7.8125 69.390625 \r\nQ 13.765625 71.78125 18.9375 73 \r\nQ 24.125 74.21875 28.421875 74.21875 \r\nQ 39.75 74.21875 46.484375 68.546875 \r\nQ 53.21875 62.890625 53.21875 53.421875 \r\nQ 53.21875 48.921875 51.53125 44.890625 \r\nQ 49.859375 40.875 45.40625 35.40625 \r\nQ 44.1875 33.984375 37.640625 27.21875 \r\nQ 31.109375 20.453125 19.1875 8.296875 \r\nz\r\n\" id=\"DejaVuSans-50\"/>\r\n       </defs>\r\n       <use xlink:href=\"#DejaVuSans-50\"/>\r\n      </g>\r\n     </g>\r\n    </g>\r\n    <g id=\"xtick_4\">\r\n     <g id=\"line2d_4\">\r\n      <g>\r\n       <use style=\"stroke:#000000;stroke-width:0.8;\" x=\"211.876786\" xlink:href=\"#m8f34fa1428\" y=\"228.439219\"/>\r\n      </g>\r\n     </g>\r\n     <g id=\"text_4\">\r\n      <!-- 3 -->\r\n      <g transform=\"translate(208.695536 243.037656)scale(0.1 -0.1)\">\r\n       <defs>\r\n        <path d=\"M 40.578125 39.3125 \r\nQ 47.65625 37.796875 51.625 33 \r\nQ 55.609375 28.21875 55.609375 21.1875 \r\nQ 55.609375 10.40625 48.1875 4.484375 \r\nQ 40.765625 -1.421875 27.09375 -1.421875 \r\nQ 22.515625 -1.421875 17.65625 -0.515625 \r\nQ 12.796875 0.390625 7.625 2.203125 \r\nL 7.625 11.71875 \r\nQ 11.71875 9.328125 16.59375 8.109375 \r\nQ 21.484375 6.890625 26.8125 6.890625 \r\nQ 36.078125 6.890625 40.9375 10.546875 \r\nQ 45.796875 14.203125 45.796875 21.1875 \r\nQ 45.796875 27.640625 41.28125 31.265625 \r\nQ 36.765625 34.90625 28.71875 34.90625 \r\nL 20.21875 34.90625 \r\nL 20.21875 43.015625 \r\nL 29.109375 43.015625 \r\nQ 36.375 43.015625 40.234375 45.921875 \r\nQ 44.09375 48.828125 44.09375 54.296875 \r\nQ 44.09375 59.90625 40.109375 62.90625 \r\nQ 36.140625 65.921875 28.71875 65.921875 \r\nQ 24.65625 65.921875 20.015625 65.03125 \r\nQ 15.375 64.15625 9.8125 62.3125 \r\nL 9.8125 71.09375 \r\nQ 15.4375 72.65625 20.34375 73.4375 \r\nQ 25.25 74.21875 29.59375 74.21875 \r\nQ 40.828125 74.21875 47.359375 69.109375 \r\nQ 53.90625 64.015625 53.90625 55.328125 \r\nQ 53.90625 49.265625 50.4375 45.09375 \r\nQ 46.96875 40.921875 40.578125 39.3125 \r\nz\r\n\" id=\"DejaVuSans-51\"/>\r\n       </defs>\r\n       <use xlink:href=\"#DejaVuSans-51\"/>\r\n      </g>\r\n     </g>\r\n    </g>\r\n    <g id=\"xtick_5\">\r\n     <g id=\"line2d_5\">\r\n      <g>\r\n       <use style=\"stroke:#000000;stroke-width:0.8;\" x=\"266.53801\" xlink:href=\"#m8f34fa1428\" y=\"228.439219\"/>\r\n      </g>\r\n     </g>\r\n     <g id=\"text_5\">\r\n      <!-- 4 -->\r\n      <g transform=\"translate(263.35676 243.037656)scale(0.1 -0.1)\">\r\n       <defs>\r\n        <path d=\"M 37.796875 64.3125 \r\nL 12.890625 25.390625 \r\nL 37.796875 25.390625 \r\nz\r\nM 35.203125 72.90625 \r\nL 47.609375 72.90625 \r\nL 47.609375 25.390625 \r\nL 58.015625 25.390625 \r\nL 58.015625 17.1875 \r\nL 47.609375 17.1875 \r\nL 47.609375 0 \r\nL 37.796875 0 \r\nL 37.796875 17.1875 \r\nL 4.890625 17.1875 \r\nL 4.890625 26.703125 \r\nz\r\n\" id=\"DejaVuSans-52\"/>\r\n       </defs>\r\n       <use xlink:href=\"#DejaVuSans-52\"/>\r\n      </g>\r\n     </g>\r\n    </g>\r\n   </g>\r\n   <g id=\"matplotlib.axis_2\">\r\n    <g id=\"ytick_1\">\r\n     <g id=\"line2d_6\">\r\n      <defs>\r\n       <path d=\"M 0 0 \r\nL -3.5 0 \r\n\" id=\"m890c56a898\" style=\"stroke:#000000;stroke-width:0.8;\"/>\r\n      </defs>\r\n      <g>\r\n       <use style=\"stroke:#000000;stroke-width:0.8;\" x=\"20.5625\" xlink:href=\"#m890c56a898\" y=\"206.251464\"/>\r\n      </g>\r\n     </g>\r\n     <g id=\"text_6\">\r\n      <!-- 0 -->\r\n      <g transform=\"translate(7.2 210.050682)scale(0.1 -0.1)\">\r\n       <use xlink:href=\"#DejaVuSans-48\"/>\r\n      </g>\r\n     </g>\r\n    </g>\r\n    <g id=\"ytick_2\">\r\n     <g id=\"line2d_7\">\r\n      <g>\r\n       <use style=\"stroke:#000000;stroke-width:0.8;\" x=\"20.5625\" xlink:href=\"#m890c56a898\" y=\"161.875953\"/>\r\n      </g>\r\n     </g>\r\n     <g id=\"text_7\">\r\n      <!-- 1 -->\r\n      <g transform=\"translate(7.2 165.675172)scale(0.1 -0.1)\">\r\n       <use xlink:href=\"#DejaVuSans-49\"/>\r\n      </g>\r\n     </g>\r\n    </g>\r\n    <g id=\"ytick_3\">\r\n     <g id=\"line2d_8\">\r\n      <g>\r\n       <use style=\"stroke:#000000;stroke-width:0.8;\" x=\"20.5625\" xlink:href=\"#m890c56a898\" y=\"117.500443\"/>\r\n      </g>\r\n     </g>\r\n     <g id=\"text_8\">\r\n      <!-- 2 -->\r\n      <g transform=\"translate(7.2 121.299662)scale(0.1 -0.1)\">\r\n       <use xlink:href=\"#DejaVuSans-50\"/>\r\n      </g>\r\n     </g>\r\n    </g>\r\n    <g id=\"ytick_4\">\r\n     <g id=\"line2d_9\">\r\n      <g>\r\n       <use style=\"stroke:#000000;stroke-width:0.8;\" x=\"20.5625\" xlink:href=\"#m890c56a898\" y=\"73.124933\"/>\r\n      </g>\r\n     </g>\r\n     <g id=\"text_9\">\r\n      <!-- 3 -->\r\n      <g transform=\"translate(7.2 76.924152)scale(0.1 -0.1)\">\r\n       <use xlink:href=\"#DejaVuSans-51\"/>\r\n      </g>\r\n     </g>\r\n    </g>\r\n    <g id=\"ytick_5\">\r\n     <g id=\"line2d_10\">\r\n      <g>\r\n       <use style=\"stroke:#000000;stroke-width:0.8;\" x=\"20.5625\" xlink:href=\"#m890c56a898\" y=\"28.749423\"/>\r\n      </g>\r\n     </g>\r\n     <g id=\"text_10\">\r\n      <!-- 4 -->\r\n      <g transform=\"translate(7.2 32.548642)scale(0.1 -0.1)\">\r\n       <use xlink:href=\"#DejaVuSans-52\"/>\r\n      </g>\r\n     </g>\r\n    </g>\r\n   </g>\r\n   <g id=\"LineCollection_1\"/>\r\n   <g id=\"LineCollection_2\">\r\n    <path clip-path=\"url(#p16235cade2)\" d=\"M 20.5625 221.771455 \r\nL 26.028622 223.431209 \r\nL 28.046748 224.001668 \r\nL 31.494745 224.946934 \r\nL 36.960867 226.326346 \r\nL 42.42699 227.580039 \r\nL 46.605788 228.439219 \r\n\" style=\"fill:none;stroke:#472d7b;stroke-width:1.5;\"/>\r\n   </g>\r\n   <g id=\"LineCollection_3\">\r\n    <path clip-path=\"url(#p16235cade2)\" d=\"M 20.5625 206.147184 \r\nL 20.859945 206.251464 \r\nL 26.028622 207.997339 \r\nL 31.494745 209.725192 \r\nL 34.80059 210.689015 \r\nL 36.960867 211.295448 \r\nL 42.42699 212.686589 \r\nL 47.893112 213.921082 \r\nL 53.359235 214.993246 \r\nL 54.159269 215.126566 \r\nL 58.825357 215.881131 \r\nL 64.29148 216.614139 \r\nL 69.757602 217.2016 \r\nL 75.223724 217.64989 \r\nL 80.689847 217.966397 \r\nL 86.155969 218.159451 \r\nL 91.622092 218.238278 \r\nL 97.088214 218.212968 \r\nL 102.554337 218.094474 \r\nL 108.020459 217.894616 \r\nL 113.486582 217.6261 \r\nL 118.952704 217.302532 \r\nL 124.418827 216.938437 \r\nL 129.884949 216.549272 \r\nL 135.351071 216.151425 \r\nL 140.817194 215.7622 \r\nL 146.283316 215.399727 \r\nL 150.998907 215.126566 \r\nL 151.749439 215.082091 \r\nL 157.215561 214.824998 \r\nL 162.681684 214.64381 \r\nL 168.147806 214.541678 \r\nL 173.613929 214.51486 \r\nL 179.080051 214.556722 \r\nL 184.546173 214.659333 \r\nL 190.012296 214.813886 \r\nL 195.478418 215.010818 \r\nL 198.254437 215.126566 \r\nL 200.944541 215.23797 \r\nL 206.410663 215.483696 \r\nL 211.876786 215.739012 \r\nL 217.342908 215.994041 \r\nL 222.809031 216.240368 \r\nL 228.275153 216.470355 \r\nL 233.741276 216.676288 \r\nL 239.207398 216.850025 \r\nL 244.67352 216.982886 \r\nL 250.139643 217.065623 \r\nL 255.605765 217.088432 \r\nL 261.071888 217.041016 \r\nL 266.53801 216.912772 \r\nL 272.004133 216.693191 \r\nL 277.470255 216.372188 \r\nL 282.936378 215.939954 \r\nL 288.4025 215.386611 \r\n\" style=\"fill:none;stroke:#3b528b;stroke-width:1.5;\"/>\r\n   </g>\r\n   <g id=\"LineCollection_4\">\r\n    <path clip-path=\"url(#p16235cade2)\" d=\"M 20.5625 188.18565 \r\nL 21.343546 188.50126 \r\nL 26.028622 190.329145 \r\nL 31.494745 192.357876 \r\nL 33.16655 192.938811 \r\nL 36.960867 194.204329 \r\nL 42.42699 195.87378 \r\nL 47.893112 197.363032 \r\nL 47.949222 197.376362 \r\nL 53.359235 198.608799 \r\nL 58.825357 199.6576 \r\nL 64.29148 200.511281 \r\nL 69.757602 201.176191 \r\nL 75.223724 201.661357 \r\nL 77.860053 201.813913 \r\nL 80.689847 201.972947 \r\nL 86.155969 202.127953 \r\nL 91.622092 202.142814 \r\nL 97.088214 202.030491 \r\nL 102.334645 201.813913 \r\nL 102.554337 201.804592 \r\nL 108.020459 201.472981 \r\nL 113.486582 201.057167 \r\nL 118.952704 200.573963 \r\nL 124.418827 200.040805 \r\nL 129.884949 199.475693 \r\nL 135.351071 198.897123 \r\nL 140.817194 198.323988 \r\nL 146.283316 197.775366 \r\nL 150.605375 197.376362 \r\nL 151.749439 197.268389 \r\nL 157.215561 196.816126 \r\nL 162.681684 196.434246 \r\nL 168.147806 196.124415 \r\nL 173.613929 195.882993 \r\nL 179.080051 195.703995 \r\nL 184.546173 195.580167 \r\nL 190.012296 195.503256 \r\nL 195.478418 195.464066 \r\nL 200.944541 195.45249 \r\nL 206.410663 195.457628 \r\nL 211.876786 195.468185 \r\nL 217.342908 195.473357 \r\nL 222.809031 195.463527 \r\nL 228.275153 195.429815 \r\nL 233.741276 195.363248 \r\nL 239.207398 195.254302 \r\nL 244.67352 195.092704 \r\nL 250.139643 194.867363 \r\nL 255.605765 194.566362 \r\nL 261.071888 194.177073 \r\nL 266.53801 193.686487 \r\nL 272.004133 193.081738 \r\nL 273.085978 192.938811 \r\nL 277.470255 192.327691 \r\nL 282.936378 191.422029 \r\nL 288.4025 190.35643 \r\n\" style=\"fill:none;stroke:#2c728e;stroke-width:1.5;\"/>\r\n   </g>\r\n   <g id=\"LineCollection_5\">\r\n    <path clip-path=\"url(#p16235cade2)\" d=\"M 20.5625 167.169033 \r\nL 26.028622 169.587765 \r\nL 28.709808 170.751055 \r\nL 31.494745 171.929743 \r\nL 36.960867 174.171688 \r\nL 39.561438 175.188607 \r\nL 42.42699 176.263109 \r\nL 47.893112 178.147904 \r\nL 52.755828 179.626158 \r\nL 53.359235 179.801297 \r\nL 58.825357 181.158728 \r\nL 64.29148 182.264043 \r\nL 69.757602 183.122436 \r\nL 75.223724 183.746058 \r\nL 79.513074 184.063709 \r\nL 80.689847 184.147627 \r\nL 86.155969 184.343961 \r\nL 91.622092 184.364151 \r\nL 97.088214 184.227204 \r\nL 100.341705 184.063709 \r\nL 102.554337 183.949 \r\nL 108.020459 183.54431 \r\nL 113.486582 183.03937 \r\nL 118.952704 182.454837 \r\nL 124.418827 181.810951 \r\nL 129.884949 181.127254 \r\nL 135.351071 180.422237 \r\nL 140.817194 179.712874 \r\nL 141.498171 179.626158 \r\nL 146.283316 178.996697 \r\nL 151.749439 178.301885 \r\nL 157.215561 177.640001 \r\nL 162.681684 177.016696 \r\nL 168.147806 176.434348 \r\nL 173.613929 175.89248 \r\nL 179.080051 175.388281 \r\nL 181.417874 175.188607 \r\nL 184.546173 174.909047 \r\nL 190.012296 174.451483 \r\nL 195.478418 174.01374 \r\nL 200.944541 173.587059 \r\nL 206.410663 173.161906 \r\nL 211.876786 172.72814 \r\nL 217.342908 172.275135 \r\nL 222.809031 171.791835 \r\nL 228.275153 171.26673 \r\nL 233.15532 170.751055 \r\nL 233.741276 170.685416 \r\nL 239.207398 170.01505 \r\nL 244.67352 169.260113 \r\nL 250.139643 168.405501 \r\nL 255.605765 167.435236 \r\nL 261.071888 166.332481 \r\nL 261.156626 166.313504 \r\nL 266.53801 165.020971 \r\nL 272.004133 163.52782 \r\nL 277.333629 161.875953 \r\nL 277.470255 161.830198 \r\nL 282.936378 159.80374 \r\nL 288.4025 157.507714 \r\n\" style=\"fill:none;stroke:#21918c;stroke-width:1.5;\"/>\r\n   </g>\r\n   <g id=\"LineCollection_6\">\r\n    <path clip-path=\"url(#p16235cade2)\" d=\"M 20.5625 143.001629 \r\nL 22.900089 144.125749 \r\nL 26.028622 145.597573 \r\nL 31.494745 148.147046 \r\nL 32.400129 148.5633 \r\nL 36.960867 150.611448 \r\nL 42.339916 153.000851 \r\nL 42.42699 153.038621 \r\nL 47.893112 155.341115 \r\nL 53.165973 157.438402 \r\nL 53.359235 157.512932 \r\nL 58.825357 159.316738 \r\nL 64.29148 160.797778 \r\nL 69.343344 161.875953 \r\nL 69.757602 161.959681 \r\nL 75.223724 162.784492 \r\nL 80.689847 163.345236 \r\nL 86.155969 163.663413 \r\nL 91.622092 163.762344 \r\nL 97.088214 163.666352 \r\nL 102.554337 163.400053 \r\nL 108.020459 162.987753 \r\nL 113.486582 162.452947 \r\nL 118.45131 161.875953 \r\nL 118.952704 161.815314 \r\nL 124.418827 161.06952 \r\nL 129.884949 160.261161 \r\nL 135.351071 159.407371 \r\nL 140.817194 158.522687 \r\nL 146.283316 157.618912 \r\nL 147.366534 157.438402 \r\nL 151.749439 156.672708 \r\nL 157.215561 155.715271 \r\nL 162.681684 154.758455 \r\nL 168.147806 153.803582 \r\nL 172.756331 153.000851 \r\nL 173.613929 152.842781 \r\nL 179.080051 151.843394 \r\nL 184.546173 150.837567 \r\nL 190.012296 149.818649 \r\nL 195.478418 148.778526 \r\nL 196.594777 148.5633 \r\nL 200.944541 147.665736 \r\nL 206.410663 146.498573 \r\nL 211.876786 145.274701 \r\nL 216.74039 144.125749 \r\nL 217.342908 143.972016 \r\nL 222.809031 142.514766 \r\nL 228.275153 140.94599 \r\nL 232.347194 139.688198 \r\nL 233.741276 139.218013 \r\nL 239.207398 137.24596 \r\nL 244.251314 135.250647 \r\nL 244.67352 135.066252 \r\nL 250.139643 132.501004 \r\nL 253.419788 130.813096 \r\nL 255.605765 129.553864 \r\nL 260.654152 126.375545 \r\nL 261.071888 126.077086 \r\nL 266.400766 121.937994 \r\nL 266.53801 121.814912 \r\nL 270.984795 117.500443 \r\nL 272.004133 116.332465 \r\nL 274.653432 113.062892 \r\nL 277.470255 108.828564 \r\nL 277.59629 108.625341 \r\nL 279.855071 104.18779 \r\nL 281.588063 99.750239 \r\nL 282.844097 95.312688 \r\nL 282.936378 94.825972 \r\nL 283.643157 90.875137 \r\nL 284.054648 86.437586 \r\nL 284.111225 82.000035 \r\nL 283.838985 77.562484 \r\nL 283.260874 73.124933 \r\nL 282.936378 71.478648 \r\nL 282.38251 68.687382 \r\nL 281.221499 64.249831 \r\nL 279.803493 59.81228 \r\nL 278.143177 55.374729 \r\nL 277.470255 53.811346 \r\nL 276.223991 50.937178 \r\nL 274.067179 46.499627 \r\nL 272.004133 42.639628 \r\nL 271.693086 42.062076 \r\nL 269.067081 37.624525 \r\nL 266.53801 33.650964 \r\nL 266.240294 33.186974 \r\nL 263.16775 28.749423 \r\nL 261.071888 25.90379 \r\nL 259.889196 24.311872 \r\nL 256.388778 19.874321 \r\nL 255.605765 18.936189 \r\nL 252.657635 15.43677 \r\nL 250.139643 12.592627 \r\nL 248.715282 10.999219 \r\n\" style=\"fill:none;stroke:#28ae80;stroke-width:1.5;\"/>\r\n   </g>\r\n   <g id=\"LineCollection_7\">\r\n    <path clip-path=\"url(#p16235cade2)\" d=\"M 20.5625 113.609496 \r\nL 26.028622 116.421145 \r\nL 28.148638 117.500443 \r\nL 31.494745 119.163474 \r\nL 36.960867 121.845159 \r\nL 37.156816 121.937994 \r\nL 42.42699 124.373896 \r\nL 46.899565 126.375545 \r\nL 47.893112 126.809248 \r\nL 53.359235 129.047016 \r\nL 58.01144 130.813096 \r\nL 58.825357 131.113197 \r\nL 64.29148 132.895177 \r\nL 69.757602 134.424381 \r\nL 73.395942 135.250647 \r\nL 75.223724 135.647009 \r\nL 80.689847 136.539183 \r\nL 86.155969 137.142409 \r\nL 91.622092 137.470131 \r\nL 97.088214 137.54289 \r\nL 102.554337 137.385079 \r\nL 108.020459 137.02257 \r\nL 113.486582 136.481037 \r\nL 118.952704 135.7848 \r\nL 122.46922 135.250647 \r\nL 124.418827 134.937991 \r\nL 129.884949 133.938436 \r\nL 135.351071 132.836585 \r\nL 140.817194 131.646979 \r\nL 144.41796 130.813096 \r\nL 146.283316 130.352678 \r\nL 151.749439 128.93092 \r\nL 157.215561 127.441288 \r\nL 160.968555 126.375545 \r\nL 162.681684 125.851663 \r\nL 168.147806 124.11583 \r\nL 173.613929 122.304023 \r\nL 174.681058 121.937994 \r\nL 179.080051 120.292868 \r\nL 184.546173 118.152218 \r\nL 186.145203 117.500443 \r\nL 190.012296 115.761067 \r\nL 195.478418 113.16711 \r\nL 195.68903 113.062892 \r\nL 200.944541 110.150376 \r\nL 203.542904 108.625341 \r\nL 206.410663 106.712856 \r\nL 209.983998 104.18779 \r\nL 211.876786 102.639827 \r\nL 215.211481 99.750239 \r\nL 217.342908 97.56019 \r\nL 219.408357 95.312688 \r\nL 222.73583 90.875137 \r\nL 222.809031 90.753434 \r\nL 225.265976 86.437586 \r\nL 227.146777 82.000035 \r\nL 228.275153 78.142 \r\nL 228.435995 77.562484 \r\nL 229.174233 73.124933 \r\nL 229.433581 68.687382 \r\nL 229.252069 64.249831 \r\nL 228.663055 59.81228 \r\nL 228.275153 58.054347 \r\nL 227.680866 55.374729 \r\nL 226.32766 50.937178 \r\nL 224.637853 46.499627 \r\nL 222.809031 42.457603 \r\nL 222.628622 42.062076 \r\nL 220.26841 37.624525 \r\nL 217.624881 33.186974 \r\nL 217.342908 32.763186 \r\nL 214.644532 28.749423 \r\nL 211.876786 24.971599 \r\nL 211.38787 24.311872 \r\nL 207.809004 19.874321 \r\nL 206.410663 18.260621 \r\nL 203.932427 15.43677 \r\nL 200.944541 12.244005 \r\nL 199.763698 10.999219 \r\n\" style=\"fill:none;stroke:#5ec962;stroke-width:1.5;\"/>\r\n   </g>\r\n   <g id=\"LineCollection_8\">\r\n    <path clip-path=\"url(#p16235cade2)\" d=\"M 20.5625 70.144926 \r\nL 25.59345 73.124933 \r\nL 26.028622 73.373978 \r\nL 31.494745 76.455494 \r\nL 33.479955 77.562484 \r\nL 36.960867 79.432361 \r\nL 41.823331 82.000035 \r\nL 42.42699 82.306993 \r\nL 47.893112 84.95512 \r\nL 51.094431 86.437586 \r\nL 53.359235 87.443504 \r\nL 58.825357 89.698518 \r\nL 61.952178 90.875137 \r\nL 64.29148 91.714916 \r\nL 69.757602 93.433979 \r\nL 75.223724 94.898776 \r\nL 77.182335 95.312688 \r\nL 80.689847 96.011148 \r\nL 86.155969 96.785753 \r\nL 91.622092 97.233301 \r\nL 97.088214 97.3421 \r\nL 102.554337 97.108925 \r\nL 108.020459 96.537877 \r\nL 113.486582 95.638653 \r\nL 114.959509 95.312688 \r\nL 118.952704 94.329445 \r\nL 124.418827 92.646322 \r\nL 129.241884 90.875137 \r\nL 129.884949 90.607647 \r\nL 135.351071 87.986917 \r\nL 138.207446 86.437586 \r\nL 140.817194 84.794275 \r\nL 144.798271 82.000035 \r\nL 146.283316 80.754197 \r\nL 149.737422 77.562484 \r\nL 151.749439 75.244984 \r\nL 153.436027 73.124933 \r\nL 156.109698 68.687382 \r\nL 157.215561 66.034527 \r\nL 157.902181 64.249831 \r\nL 158.893018 59.81228 \r\nL 159.197701 55.374729 \r\nL 158.86673 50.937178 \r\nL 157.949201 46.499627 \r\nL 157.215561 44.289358 \r\nL 156.451971 42.062076 \r\nL 154.395519 37.624525 \r\nL 151.868981 33.186974 \r\nL 151.749439 33.011307 \r\nL 148.75808 28.749423 \r\nL 146.283316 25.646707 \r\nL 145.184217 24.311872 \r\nL 141.101573 19.874321 \r\nL 140.817194 19.594581 \r\nL 136.461329 15.43677 \r\nL 135.351071 14.459842 \r\nL 131.29919 10.999219 \r\n\" style=\"fill:none;stroke:#addc30;stroke-width:1.5;\"/>\r\n   </g>\r\n   <g id=\"LineCollection_9\"/>\r\n   <g id=\"line2d_11\">\r\n    <defs>\r\n     <path d=\"M 0 3 \r\nC 0.795609 3 1.55874 2.683901 2.12132 2.12132 \r\nC 2.683901 1.55874 3 0.795609 3 0 \r\nC 3 -0.795609 2.683901 -1.55874 2.12132 -2.12132 \r\nC 1.55874 -2.683901 0.795609 -3 0 -3 \r\nC -0.795609 -3 -1.55874 -2.683901 -2.12132 -2.12132 \r\nC -2.683901 -1.55874 -3 -0.795609 -3 0 \r\nC -3 0.795609 -2.683901 1.55874 -2.12132 2.12132 \r\nC -1.55874 2.683901 -0.795609 3 0 3 \r\nz\r\n\" id=\"mc59cb78f0d\" style=\"stroke:#ff0000;\"/>\r\n    </defs>\r\n    <g clip-path=\"url(#p16235cade2)\">\r\n     <use style=\"fill:#ff0000;stroke:#ff0000;\" x=\"47.893112\" xlink:href=\"#mc59cb78f0d\" y=\"206.251464\"/>\r\n     <use style=\"fill:#ff0000;stroke:#ff0000;\" x=\"157.215561\" xlink:href=\"#mc59cb78f0d\" y=\"206.251464\"/>\r\n     <use style=\"fill:#ff0000;stroke:#ff0000;\" x=\"211.876786\" xlink:href=\"#mc59cb78f0d\" y=\"206.251464\"/>\r\n     <use style=\"fill:#ff0000;stroke:#ff0000;\" x=\"266.53801\" xlink:href=\"#mc59cb78f0d\" y=\"206.251464\"/>\r\n    </g>\r\n   </g>\r\n   <g id=\"line2d_12\">\r\n    <defs>\r\n     <path d=\"M 0 3 \r\nC 0.795609 3 1.55874 2.683901 2.12132 2.12132 \r\nC 2.683901 1.55874 3 0.795609 3 0 \r\nC 3 -0.795609 2.683901 -1.55874 2.12132 -2.12132 \r\nC 1.55874 -2.683901 0.795609 -3 0 -3 \r\nC -0.795609 -3 -1.55874 -2.683901 -2.12132 -2.12132 \r\nC -2.683901 -1.55874 -3 -0.795609 -3 0 \r\nC -3 0.795609 -2.683901 1.55874 -2.12132 2.12132 \r\nC -1.55874 2.683901 -0.795609 3 0 3 \r\nz\r\n\" id=\"m5e991b024c\" style=\"stroke:#0000ff;\"/>\r\n    </defs>\r\n    <g clip-path=\"url(#p16235cade2)\">\r\n     <use style=\"fill:#0000ff;stroke:#0000ff;\" x=\"47.893112\" xlink:href=\"#m5e991b024c\" y=\"117.500443\"/>\r\n     <use style=\"fill:#0000ff;stroke:#0000ff;\" x=\"157.215561\" xlink:href=\"#m5e991b024c\" y=\"117.500443\"/>\r\n     <use style=\"fill:#0000ff;stroke:#0000ff;\" x=\"211.876786\" xlink:href=\"#m5e991b024c\" y=\"73.124933\"/>\r\n    </g>\r\n   </g>\r\n   <g id=\"line2d_13\">\r\n    <defs>\r\n     <path d=\"M 0 3 \r\nC 0.795609 3 1.55874 2.683901 2.12132 2.12132 \r\nC 2.683901 1.55874 3 0.795609 3 0 \r\nC 3 -0.795609 2.683901 -1.55874 2.12132 -2.12132 \r\nC 1.55874 -2.683901 0.795609 -3 0 -3 \r\nC -0.795609 -3 -1.55874 -2.683901 -2.12132 -2.12132 \r\nC -2.683901 -1.55874 -3 -0.795609 -3 0 \r\nC -3 0.795609 -2.683901 1.55874 -2.12132 2.12132 \r\nC -1.55874 2.683901 -0.795609 3 0 3 \r\nz\r\n\" id=\"m24b88e1ab5\" style=\"stroke:#008000;\"/>\r\n    </defs>\r\n    <g clip-path=\"url(#p16235cade2)\">\r\n     <use style=\"fill:#008000;stroke:#008000;\" x=\"47.893112\" xlink:href=\"#m24b88e1ab5\" y=\"161.875953\"/>\r\n    </g>\r\n   </g>\r\n   <g id=\"patch_3\">\r\n    <path d=\"M 20.5625 228.439219 \r\nL 20.5625 10.999219 \r\n\" style=\"fill:none;stroke:#000000;stroke-linecap:square;stroke-linejoin:miter;stroke-width:0.8;\"/>\r\n   </g>\r\n   <g id=\"patch_4\">\r\n    <path d=\"M 288.4025 228.439219 \r\nL 288.4025 10.999219 \r\n\" style=\"fill:none;stroke:#000000;stroke-linecap:square;stroke-linejoin:miter;stroke-width:0.8;\"/>\r\n   </g>\r\n   <g id=\"patch_5\">\r\n    <path d=\"M 20.5625 228.439219 \r\nL 288.4025 228.439219 \r\n\" style=\"fill:none;stroke:#000000;stroke-linecap:square;stroke-linejoin:miter;stroke-width:0.8;\"/>\r\n   </g>\r\n   <g id=\"patch_6\">\r\n    <path d=\"M 20.5625 10.999219 \r\nL 288.4025 10.999219 \r\n\" style=\"fill:none;stroke:#000000;stroke-linecap:square;stroke-linejoin:miter;stroke-width:0.8;\"/>\r\n   </g>\r\n  </g>\r\n  <g id=\"axes_2\">\r\n   <g id=\"patch_7\">\r\n    <path clip-path=\"url(#pbbc4abcc32)\" d=\"M 305.1425 228.439219 \r\nL 305.1425 201.259219 \r\nL 305.1425 38.179219 \r\nL 305.1425 10.999219 \r\nL 316.0145 10.999219 \r\nL 316.0145 38.179219 \r\nL 316.0145 201.259219 \r\nL 316.0145 228.439219 \r\nz\r\n\" style=\"fill:#ffffff;stroke:#ffffff;stroke-linejoin:miter;stroke-width:0.01;\"/>\r\n   </g>\r\n   <g id=\"matplotlib.axis_3\"/>\r\n   <g id=\"matplotlib.axis_4\">\r\n    <g id=\"ytick_6\">\r\n     <g id=\"line2d_14\">\r\n      <defs>\r\n       <path d=\"M 0 0 \r\nL 3.5 0 \r\n\" id=\"m8c7878cbda\" style=\"stroke:#000000;stroke-width:0.8;\"/>\r\n      </defs>\r\n      <g>\r\n       <use style=\"stroke:#000000;stroke-width:0.8;\" x=\"316.0145\" xlink:href=\"#m8c7878cbda\" y=\"228.439219\"/>\r\n      </g>\r\n     </g>\r\n     <g id=\"text_11\">\r\n      <!-- −1.2 -->\r\n      <g transform=\"translate(323.0145 232.238437)scale(0.1 -0.1)\">\r\n       <defs>\r\n        <path d=\"M 10.59375 35.5 \r\nL 73.1875 35.5 \r\nL 73.1875 27.203125 \r\nL 10.59375 27.203125 \r\nz\r\n\" id=\"DejaVuSans-8722\"/>\r\n        <path d=\"M 10.6875 12.40625 \r\nL 21 12.40625 \r\nL 21 0 \r\nL 10.6875 0 \r\nz\r\n\" id=\"DejaVuSans-46\"/>\r\n       </defs>\r\n       <use xlink:href=\"#DejaVuSans-8722\"/>\r\n       <use x=\"83.789062\" xlink:href=\"#DejaVuSans-49\"/>\r\n       <use x=\"147.412109\" xlink:href=\"#DejaVuSans-46\"/>\r\n       <use x=\"179.199219\" xlink:href=\"#DejaVuSans-50\"/>\r\n      </g>\r\n     </g>\r\n    </g>\r\n    <g id=\"ytick_7\">\r\n     <g id=\"line2d_15\">\r\n      <g>\r\n       <use style=\"stroke:#000000;stroke-width:0.8;\" x=\"316.0145\" xlink:href=\"#m8c7878cbda\" y=\"201.259219\"/>\r\n      </g>\r\n     </g>\r\n     <g id=\"text_12\">\r\n      <!-- −0.6 -->\r\n      <g transform=\"translate(323.0145 205.058437)scale(0.1 -0.1)\">\r\n       <defs>\r\n        <path d=\"M 33.015625 40.375 \r\nQ 26.375 40.375 22.484375 35.828125 \r\nQ 18.609375 31.296875 18.609375 23.390625 \r\nQ 18.609375 15.53125 22.484375 10.953125 \r\nQ 26.375 6.390625 33.015625 6.390625 \r\nQ 39.65625 6.390625 43.53125 10.953125 \r\nQ 47.40625 15.53125 47.40625 23.390625 \r\nQ 47.40625 31.296875 43.53125 35.828125 \r\nQ 39.65625 40.375 33.015625 40.375 \r\nz\r\nM 52.59375 71.296875 \r\nL 52.59375 62.3125 \r\nQ 48.875 64.0625 45.09375 64.984375 \r\nQ 41.3125 65.921875 37.59375 65.921875 \r\nQ 27.828125 65.921875 22.671875 59.328125 \r\nQ 17.53125 52.734375 16.796875 39.40625 \r\nQ 19.671875 43.65625 24.015625 45.921875 \r\nQ 28.375 48.1875 33.59375 48.1875 \r\nQ 44.578125 48.1875 50.953125 41.515625 \r\nQ 57.328125 34.859375 57.328125 23.390625 \r\nQ 57.328125 12.15625 50.6875 5.359375 \r\nQ 44.046875 -1.421875 33.015625 -1.421875 \r\nQ 20.359375 -1.421875 13.671875 8.265625 \r\nQ 6.984375 17.96875 6.984375 36.375 \r\nQ 6.984375 53.65625 15.1875 63.9375 \r\nQ 23.390625 74.21875 37.203125 74.21875 \r\nQ 40.921875 74.21875 44.703125 73.484375 \r\nQ 48.484375 72.75 52.59375 71.296875 \r\nz\r\n\" id=\"DejaVuSans-54\"/>\r\n       </defs>\r\n       <use xlink:href=\"#DejaVuSans-8722\"/>\r\n       <use x=\"83.789062\" xlink:href=\"#DejaVuSans-48\"/>\r\n       <use x=\"147.412109\" xlink:href=\"#DejaVuSans-46\"/>\r\n       <use x=\"179.199219\" xlink:href=\"#DejaVuSans-54\"/>\r\n      </g>\r\n     </g>\r\n    </g>\r\n    <g id=\"ytick_8\">\r\n     <g id=\"line2d_16\">\r\n      <g>\r\n       <use style=\"stroke:#000000;stroke-width:0.8;\" x=\"316.0145\" xlink:href=\"#m8c7878cbda\" y=\"174.079219\"/>\r\n      </g>\r\n     </g>\r\n     <g id=\"text_13\">\r\n      <!-- 0.0 -->\r\n      <g transform=\"translate(323.0145 177.878437)scale(0.1 -0.1)\">\r\n       <use xlink:href=\"#DejaVuSans-48\"/>\r\n       <use x=\"63.623047\" xlink:href=\"#DejaVuSans-46\"/>\r\n       <use x=\"95.410156\" xlink:href=\"#DejaVuSans-48\"/>\r\n      </g>\r\n     </g>\r\n    </g>\r\n    <g id=\"ytick_9\">\r\n     <g id=\"line2d_17\">\r\n      <g>\r\n       <use style=\"stroke:#000000;stroke-width:0.8;\" x=\"316.0145\" xlink:href=\"#m8c7878cbda\" y=\"146.899219\"/>\r\n      </g>\r\n     </g>\r\n     <g id=\"text_14\">\r\n      <!-- 0.6 -->\r\n      <g transform=\"translate(323.0145 150.698437)scale(0.1 -0.1)\">\r\n       <use xlink:href=\"#DejaVuSans-48\"/>\r\n       <use x=\"63.623047\" xlink:href=\"#DejaVuSans-46\"/>\r\n       <use x=\"95.410156\" xlink:href=\"#DejaVuSans-54\"/>\r\n      </g>\r\n     </g>\r\n    </g>\r\n    <g id=\"ytick_10\">\r\n     <g id=\"line2d_18\">\r\n      <g>\r\n       <use style=\"stroke:#000000;stroke-width:0.8;\" x=\"316.0145\" xlink:href=\"#m8c7878cbda\" y=\"119.719219\"/>\r\n      </g>\r\n     </g>\r\n     <g id=\"text_15\">\r\n      <!-- 1.2 -->\r\n      <g transform=\"translate(323.0145 123.518437)scale(0.1 -0.1)\">\r\n       <use xlink:href=\"#DejaVuSans-49\"/>\r\n       <use x=\"63.623047\" xlink:href=\"#DejaVuSans-46\"/>\r\n       <use x=\"95.410156\" xlink:href=\"#DejaVuSans-50\"/>\r\n      </g>\r\n     </g>\r\n    </g>\r\n    <g id=\"ytick_11\">\r\n     <g id=\"line2d_19\">\r\n      <g>\r\n       <use style=\"stroke:#000000;stroke-width:0.8;\" x=\"316.0145\" xlink:href=\"#m8c7878cbda\" y=\"92.539219\"/>\r\n      </g>\r\n     </g>\r\n     <g id=\"text_16\">\r\n      <!-- 1.8 -->\r\n      <g transform=\"translate(323.0145 96.338437)scale(0.1 -0.1)\">\r\n       <defs>\r\n        <path d=\"M 31.78125 34.625 \r\nQ 24.75 34.625 20.71875 30.859375 \r\nQ 16.703125 27.09375 16.703125 20.515625 \r\nQ 16.703125 13.921875 20.71875 10.15625 \r\nQ 24.75 6.390625 31.78125 6.390625 \r\nQ 38.8125 6.390625 42.859375 10.171875 \r\nQ 46.921875 13.96875 46.921875 20.515625 \r\nQ 46.921875 27.09375 42.890625 30.859375 \r\nQ 38.875 34.625 31.78125 34.625 \r\nz\r\nM 21.921875 38.8125 \r\nQ 15.578125 40.375 12.03125 44.71875 \r\nQ 8.5 49.078125 8.5 55.328125 \r\nQ 8.5 64.0625 14.71875 69.140625 \r\nQ 20.953125 74.21875 31.78125 74.21875 \r\nQ 42.671875 74.21875 48.875 69.140625 \r\nQ 55.078125 64.0625 55.078125 55.328125 \r\nQ 55.078125 49.078125 51.53125 44.71875 \r\nQ 48 40.375 41.703125 38.8125 \r\nQ 48.828125 37.15625 52.796875 32.3125 \r\nQ 56.78125 27.484375 56.78125 20.515625 \r\nQ 56.78125 9.90625 50.3125 4.234375 \r\nQ 43.84375 -1.421875 31.78125 -1.421875 \r\nQ 19.734375 -1.421875 13.25 4.234375 \r\nQ 6.78125 9.90625 6.78125 20.515625 \r\nQ 6.78125 27.484375 10.78125 32.3125 \r\nQ 14.796875 37.15625 21.921875 38.8125 \r\nz\r\nM 18.3125 54.390625 \r\nQ 18.3125 48.734375 21.84375 45.5625 \r\nQ 25.390625 42.390625 31.78125 42.390625 \r\nQ 38.140625 42.390625 41.71875 45.5625 \r\nQ 45.3125 48.734375 45.3125 54.390625 \r\nQ 45.3125 60.0625 41.71875 63.234375 \r\nQ 38.140625 66.40625 31.78125 66.40625 \r\nQ 25.390625 66.40625 21.84375 63.234375 \r\nQ 18.3125 60.0625 18.3125 54.390625 \r\nz\r\n\" id=\"DejaVuSans-56\"/>\r\n       </defs>\r\n       <use xlink:href=\"#DejaVuSans-49\"/>\r\n       <use x=\"63.623047\" xlink:href=\"#DejaVuSans-46\"/>\r\n       <use x=\"95.410156\" xlink:href=\"#DejaVuSans-56\"/>\r\n      </g>\r\n     </g>\r\n    </g>\r\n    <g id=\"ytick_12\">\r\n     <g id=\"line2d_20\">\r\n      <g>\r\n       <use style=\"stroke:#000000;stroke-width:0.8;\" x=\"316.0145\" xlink:href=\"#m8c7878cbda\" y=\"65.359219\"/>\r\n      </g>\r\n     </g>\r\n     <g id=\"text_17\">\r\n      <!-- 2.4 -->\r\n      <g transform=\"translate(323.0145 69.158437)scale(0.1 -0.1)\">\r\n       <use xlink:href=\"#DejaVuSans-50\"/>\r\n       <use x=\"63.623047\" xlink:href=\"#DejaVuSans-46\"/>\r\n       <use x=\"95.410156\" xlink:href=\"#DejaVuSans-52\"/>\r\n      </g>\r\n     </g>\r\n    </g>\r\n    <g id=\"ytick_13\">\r\n     <g id=\"line2d_21\">\r\n      <g>\r\n       <use style=\"stroke:#000000;stroke-width:0.8;\" x=\"316.0145\" xlink:href=\"#m8c7878cbda\" y=\"38.179219\"/>\r\n      </g>\r\n     </g>\r\n     <g id=\"text_18\">\r\n      <!-- 3.0 -->\r\n      <g transform=\"translate(323.0145 41.978437)scale(0.1 -0.1)\">\r\n       <use xlink:href=\"#DejaVuSans-51\"/>\r\n       <use x=\"63.623047\" xlink:href=\"#DejaVuSans-46\"/>\r\n       <use x=\"95.410156\" xlink:href=\"#DejaVuSans-48\"/>\r\n      </g>\r\n     </g>\r\n    </g>\r\n    <g id=\"ytick_14\">\r\n     <g id=\"line2d_22\">\r\n      <g>\r\n       <use style=\"stroke:#000000;stroke-width:0.8;\" x=\"316.0145\" xlink:href=\"#m8c7878cbda\" y=\"10.999219\"/>\r\n      </g>\r\n     </g>\r\n     <g id=\"text_19\">\r\n      <!-- 3.6 -->\r\n      <g transform=\"translate(323.0145 14.798437)scale(0.1 -0.1)\">\r\n       <use xlink:href=\"#DejaVuSans-51\"/>\r\n       <use x=\"63.623047\" xlink:href=\"#DejaVuSans-46\"/>\r\n       <use x=\"95.410156\" xlink:href=\"#DejaVuSans-54\"/>\r\n      </g>\r\n     </g>\r\n    </g>\r\n   </g>\r\n   <g id=\"LineCollection_10\">\r\n    <path clip-path=\"url(#pbbc4abcc32)\" d=\"M 305.1425 228.439219 \r\nL 316.0145 228.439219 \r\n\" style=\"fill:none;stroke:#440154;stroke-width:1.5;\"/>\r\n    <path clip-path=\"url(#pbbc4abcc32)\" d=\"M 305.1425 201.259219 \r\nL 316.0145 201.259219 \r\n\" style=\"fill:none;stroke:#472d7b;stroke-width:1.5;\"/>\r\n    <path clip-path=\"url(#pbbc4abcc32)\" d=\"M 305.1425 174.079219 \r\nL 316.0145 174.079219 \r\n\" style=\"fill:none;stroke:#3b528b;stroke-width:1.5;\"/>\r\n    <path clip-path=\"url(#pbbc4abcc32)\" d=\"M 305.1425 146.899219 \r\nL 316.0145 146.899219 \r\n\" style=\"fill:none;stroke:#2c728e;stroke-width:1.5;\"/>\r\n    <path clip-path=\"url(#pbbc4abcc32)\" d=\"M 305.1425 119.719219 \r\nL 316.0145 119.719219 \r\n\" style=\"fill:none;stroke:#21918c;stroke-width:1.5;\"/>\r\n    <path clip-path=\"url(#pbbc4abcc32)\" d=\"M 305.1425 92.539219 \r\nL 316.0145 92.539219 \r\n\" style=\"fill:none;stroke:#28ae80;stroke-width:1.5;\"/>\r\n    <path clip-path=\"url(#pbbc4abcc32)\" d=\"M 305.1425 65.359219 \r\nL 316.0145 65.359219 \r\n\" style=\"fill:none;stroke:#5ec962;stroke-width:1.5;\"/>\r\n    <path clip-path=\"url(#pbbc4abcc32)\" d=\"M 305.1425 38.179219 \r\nL 316.0145 38.179219 \r\n\" style=\"fill:none;stroke:#addc30;stroke-width:1.5;\"/>\r\n    <path clip-path=\"url(#pbbc4abcc32)\" d=\"M 305.1425 10.999219 \r\nL 316.0145 10.999219 \r\n\" style=\"fill:none;stroke:#fde725;stroke-width:1.5;\"/>\r\n   </g>\r\n   <g id=\"patch_8\">\r\n    <path d=\"M 305.1425 228.439219 \r\nL 305.1425 201.259219 \r\nL 305.1425 38.179219 \r\nL 305.1425 10.999219 \r\nL 316.0145 10.999219 \r\nL 316.0145 38.179219 \r\nL 316.0145 201.259219 \r\nL 316.0145 228.439219 \r\nz\r\n\" style=\"fill:none;stroke:#000000;stroke-linejoin:miter;stroke-width:0.8;\"/>\r\n   </g>\r\n  </g>\r\n </g>\r\n <defs>\r\n  <clipPath id=\"p16235cade2\">\r\n   <rect height=\"217.44\" width=\"267.84\" x=\"20.5625\" y=\"10.999219\"/>\r\n  </clipPath>\r\n  <clipPath id=\"pbbc4abcc32\">\r\n   <rect height=\"217.44\" width=\"10.872\" x=\"305.1425\" y=\"10.999219\"/>\r\n  </clipPath>\r\n </defs>\r\n</svg>\r\n",
      "image/png": "[encoded data removed]"
     },
     "metadata": {
      "needs_background": "light"
     }
    }
   ],
   "source": [
    "interpolate_result = sigma_0_grad+sigma_0_interf+sigma_0_2nd_drift\n",
    "\n",
    "intp = np.reshape(interpolate_result,[50,50]) # reshape the result to matrix shape\n",
    "\n",
    "plt.contour(XX,YY,intp)\n",
    "plt.colorbar()\n",
    "plt.plot(layer1[:,0], layer1[:,1], 'ro')\n",
    "plt.plot(layer2[:,0], layer2[:,1], 'bo')\n",
    "\n",
    "plt.plot(G_1[0,0], G_1[0,1], 'go')\n",
    "\n",
    "plt.quiver([G_1[0,0]],[G_1[0,1]],G_1_x,G_1_y,color='r')"
   ]
  },
  {
   "cell_type": "code",
   "execution_count": null,
   "metadata": {},
   "outputs": [],
   "source": []
  }
 ],
 "metadata": {
  "kernelspec": {
   "display_name": "tensor",
   "language": "python",
   "name": "tersor"
  },
  "language_info": {
   "codemirror_mode": {
    "name": "ipython",
    "version": 3
   },
   "file_extension": ".py",
   "mimetype": "text/x-python",
   "name": "python",
   "nbconvert_exporter": "python",
   "pygments_lexer": "ipython3",
   "version": "3.7.9-final"
  },
  "varInspector": {
   "cols": {
    "lenName": 16,
    "lenType": 16,
    "lenVar": 40
   },
   "kernels_config": {
    "python": {
     "delete_cmd_postfix": "",
     "delete_cmd_prefix": "del ",
     "library": "var_list.py",
     "varRefreshCmd": "print(var_dic_list())"
    },
    "r": {
     "delete_cmd_postfix": ") ",
     "delete_cmd_prefix": "rm(",
     "library": "var_list.r",
     "varRefreshCmd": "cat(var_dic_list()) "
    }
   },
   "types_to_exclude": [
    "module",
    "function",
    "builtin_function_or_method",
    "instance",
    "_Feature"
   ],
   "window_display": false
  }
 },
 "nbformat": 4,
 "nbformat_minor": 2
}