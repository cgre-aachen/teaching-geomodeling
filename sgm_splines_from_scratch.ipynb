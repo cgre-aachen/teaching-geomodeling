{
 "cells": [
  {
   "cell_type": "markdown",
   "metadata": {},
   "source": [
    "# Spline interpolation from scratch\n",
    "\n",
    "Example from Chapra & Canale, Ch. 18, Numerical Methods for Engineers"
   ]
  },
  {
   "cell_type": "code",
   "execution_count": 56,
   "metadata": {},
   "outputs": [],
   "source": [
    "import numpy as np \n",
    "import matplotlib.pyplot as plt"
   ]
  },
  {
   "cell_type": "markdown",
   "metadata": {},
   "source": [
    "## Input data set\n",
    "\n"
   ]
  },
  {
   "cell_type": "code",
   "execution_count": 57,
   "metadata": {},
   "outputs": [],
   "source": [
    "x = np.array([3, 4.5, 7, 9])\n",
    "fx = np.array([2.5, 1., 2.5, 0.5])"
   ]
  },
  {
   "cell_type": "code",
   "execution_count": 58,
   "metadata": {},
   "outputs": [
    {
     "data": {
      "image/png": "[encoded data removed]",
      "text/plain": [
       "<Figure size 432x288 with 1 Axes>"
      ]
     },
     "metadata": {
      "needs_background": "light"
     },
     "output_type": "display_data"
    }
   ],
   "source": [
    "plt.plot(x, fx, 'ro') \n",
    "plt.grid() "
   ]
  },
  {
   "cell_type": "markdown",
   "metadata": {},
   "source": [
    "## Set up the matrix for equations"
   ]
  },
  {
   "cell_type": "code",
   "execution_count": 59,
   "metadata": {},
   "outputs": [],
   "source": [
    "A = np.array([\n",
    "[1, 0, 0, 0, 0, 0, 0, 0, 0],\n",
    "[20.25, 4.5, 1, 0, 0, 0, 0, 0, 0],\n",
    "[0, 0, 0, 20.25, 4.5, 1, 0, 0, 0],\n",
    "[0, 0, 0, 49, 7, 1, 0, 0, 0],\n",
    "[0, 0, 0, 0, 0, 0, 49, 7, 1],\n",
    "[0, 0, 0, 14, 1, 0, -14, -1, 0],\n",
    "[0, 0, 0, 0, 0, 0, 81, 9, 1],\n",
    "[9, 1, 0, -9, -1, 0, 0, 0, 0],\n",
    "[9, 3, 1, 0, 0, 0, 0, 0, 0]\n",
    "])"
   ]
  },
  {
   "cell_type": "code",
   "execution_count": 60,
   "metadata": {},
   "outputs": [],
   "source": [
    "# b-vector\n",
    "b = np.array([0, 1, 1, 2.5, 2.5, 0, 0.5, 0, 2.5])"
   ]
  },
  {
   "cell_type": "code",
   "execution_count": 61,
   "metadata": {},
   "outputs": [
    {
     "data": {
      "text/plain": [
       "array([ 7.19588997e-15, -1.00000000e+00,  5.50000000e+00,  6.40000000e-01,\n",
       "       -6.76000000e+00,  1.84600000e+01, -1.60000000e+00,  2.46000000e+01,\n",
       "       -9.13000000e+01])"
      ]
     },
     "execution_count": 61,
     "metadata": {},
     "output_type": "execute_result"
    }
   ],
   "source": [
    "np.dot(np.linalg.inv(A), b)"
   ]
  },
  {
   "cell_type": "code",
   "execution_count": 62,
   "metadata": {},
   "outputs": [],
   "source": [
    "a1, b1, c1, a2, b2, c2, a3, b3, c3 = np.linalg.solve(A, b)"
   ]
  },
  {
   "cell_type": "code",
   "execution_count": 63,
   "metadata": {},
   "outputs": [],
   "source": [
    "def f1(x): \n",
    "    return a1*x**2 + b1*x + c1\n",
    "\n",
    "def f2(x): \n",
    "    return a2*x**2 + b2*x + c2\n",
    "\n",
    "def f3(x): \n",
    "    return a3*x**2 + b3*x + c3"
   ]
  },
  {
   "cell_type": "code",
   "execution_count": 64,
   "metadata": {},
   "outputs": [
    {
     "data": {
      "text/plain": [
       "3.5000000000000133"
      ]
     },
     "execution_count": 64,
     "metadata": {},
     "output_type": "execute_result"
    }
   ],
   "source": [
    "f1(2)"
   ]
  },
  {
   "cell_type": "code",
   "execution_count": 65,
   "metadata": {},
   "outputs": [
    {
     "data": {
      "image/png": "[encoded data removed]",
      "text/plain": [
       "<Figure size 432x288 with 1 Axes>"
      ]
     },
     "metadata": {
      "needs_background": "light"
     },
     "output_type": "display_data"
    }
   ],
   "source": [
    "xvals = np.arange(0, 12, 0.1)\n",
    "\n",
    "plt.plot(xvals, f1(xvals))\n",
    "plt.plot(xvals, f2(xvals))\n",
    "plt.plot(xvals, f3(xvals))\n",
    "\n",
    "plt.plot(x, fx, 'ro')\n",
    "\n",
    "plt.ylim([-1,6])\n",
    "\n",
    "plt.grid() "
   ]
  },
  {
   "cell_type": "markdown",
   "metadata": {},
   "source": [
    "## Combine functions for correct intervals"
   ]
  },
  {
   "cell_type": "code",
   "execution_count": 66,
   "metadata": {},
   "outputs": [
    {
     "data": {
      "text/plain": [
       "array([3. , 4.5, 7. , 9. ])"
      ]
     },
     "execution_count": 66,
     "metadata": {},
     "output_type": "execute_result"
    }
   ],
   "source": [
    "x"
   ]
  },
  {
   "cell_type": "code",
   "execution_count": 67,
   "metadata": {},
   "outputs": [],
   "source": [
    "# Combined function\n",
    "def combined_function(x, intervals):\n",
    "    if x <= intervals[1]:\n",
    "        return f1(x)\n",
    "    elif intervals[1] < x <= intervals[2]:\n",
    "        return f2(x)\n",
    "    else:\n",
    "        return f3(x)\n"
   ]
  },
  {
   "cell_type": "code",
   "execution_count": 68,
   "metadata": {},
   "outputs": [],
   "source": [
    "fx_combined = np.array([combined_function(x_val, x) for x_val in xvals])"
   ]
  },
  {
   "cell_type": "code",
   "execution_count": 69,
   "metadata": {},
   "outputs": [
    {
     "data": {
      "text/plain": [
       "((120,), (120,))"
      ]
     },
     "execution_count": 69,
     "metadata": {},
     "output_type": "execute_result"
    }
   ],
   "source": [
    "fx_combined.shape, xvals.shape"
   ]
  },
  {
   "cell_type": "code",
   "execution_count": 73,
   "metadata": {},
   "outputs": [
    {
     "name": "stderr",
     "output_type": "stream",
     "text": [
      "The PostScript backend does not support transparency; partially transparent artists will be rendered opaque.\n",
      "The PostScript backend does not support transparency; partially transparent artists will be rendered opaque.\n",
      "The PostScript backend does not support transparency; partially transparent artists will be rendered opaque.\n"
     ]
    },
    {
     "data": {
      "image/png": "[encoded data removed]",
      "text/plain": [
       "<Figure size 432x288 with 1 Axes>"
      ]
     },
     "metadata": {
      "needs_background": "light"
     },
     "output_type": "display_data"
    }
   ],
   "source": [
    "xvals = np.arange(0, 12, 0.1)\n",
    "\n",
    "plt.plot(xvals, f1(xvals), alpha=0.5)\n",
    "plt.plot(xvals, f2(xvals), alpha=0.5)\n",
    "plt.plot(xvals, f3(xvals), alpha=0.5)\n",
    "\n",
    "# combined function, only\n",
    "\n",
    "plt.plot(xvals, fx_combined, 'k--', lw=2)\n",
    "\n",
    "plt.plot(x, fx, 'ro') \n",
    "\n",
    "plt.ylim([-1,6])\n",
    "\n",
    "plt.grid() \n",
    "\n",
    "plt.savefig(\"./local/splines_from_scratch_example.eps\")"
   ]
  },
  {
   "cell_type": "code",
   "execution_count": null,
   "metadata": {},
   "outputs": [],
   "source": []
  }
 ],
 "metadata": {
  "kernelspec": {
   "display_name": "base",
   "language": "python",
   "name": "python3"
  },
  "language_info": {
   "codemirror_mode": {
    "name": "ipython",
    "version": 3
   },
   "file_extension": ".py",
   "mimetype": "text/x-python",
   "name": "python",
   "nbconvert_exporter": "python",
   "pygments_lexer": "ipython3",
   "version": "3.9.7"
  }
 },
 "nbformat": 4,
 "nbformat_minor": 2
}
