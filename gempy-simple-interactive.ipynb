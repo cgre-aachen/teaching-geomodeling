{
 "cells": [
  {
   "cell_type": "code",
   "execution_count": 1,
   "metadata": {
    "ExecuteTime": {
     "end_time": "2021-05-17T17:05:15.887441Z",
     "start_time": "2021-05-17T17:05:15.506039Z"
    }
   },
   "outputs": [],
   "source": [
    "import numpy as np\n",
    "import matplotlib.pyplot as plt"
   ]
  },
  {
   "cell_type": "code",
   "execution_count": 2,
   "metadata": {
    "ExecuteTime": {
     "end_time": "2021-05-17T17:05:15.892519Z",
     "start_time": "2021-05-17T17:05:15.889490Z"
    }
   },
   "outputs": [],
   "source": [
    "import warnings\n",
    "warnings.filterwarnings(\"ignore\", category=RuntimeWarning) "
   ]
  },
  {
   "cell_type": "code",
   "execution_count": 3,
   "metadata": {
    "ExecuteTime": {
     "end_time": "2021-05-17T17:05:15.901774Z",
     "start_time": "2021-05-17T17:05:15.897974Z"
    }
   },
   "outputs": [],
   "source": [
    "params = {'legend.fontsize': 'x-large',\n",
    "          'figure.figsize': (15, 5),\n",
    "         'axes.labelsize': 'x-large',\n",
    "         'axes.titlesize':'x-large',\n",
    "         'xtick.labelsize':'x-large',\n",
    "         'ytick.labelsize':'x-large'}\n",
    "plt.rcParams.update(params)"
   ]
  },
  {
   "cell_type": "code",
   "execution_count": 4,
   "metadata": {
    "ExecuteTime": {
     "end_time": "2021-05-17T17:05:15.917654Z",
     "start_time": "2021-05-17T17:05:15.905259Z"
    }
   },
   "outputs": [
    {
     "data": {
      "text/plain": [
       "<module 'gempy_simple' from '/Users/zhouji/Documents/github/teaching-geomodeling/gempy_simple.py'>"
      ]
     },
     "execution_count": 4,
     "metadata": {},
     "output_type": "execute_result"
    }
   ],
   "source": [
    "import gempy_simple\n",
    "import importlib\n",
    "importlib.reload(gempy_simple)"
   ]
  },
  {
   "cell_type": "code",
   "execution_count": 5,
   "metadata": {
    "ExecuteTime": {
     "end_time": "2021-05-17T17:05:16.244265Z",
     "start_time": "2021-05-17T17:05:15.920258Z"
    }
   },
   "outputs": [],
   "source": [
    "intp = gempy_simple.interp_with_drift()"
   ]
  },
  {
   "cell_type": "code",
   "execution_count": 6,
   "metadata": {
    "ExecuteTime": {
     "end_time": "2021-05-17T17:05:16.252398Z",
     "start_time": "2021-05-17T17:05:16.246841Z"
    }
   },
   "outputs": [],
   "source": [
    "layer1 = np.array([[0, 0], [2, 0], [3, 0], [4, 0]])\n",
    "layer2 = np.array([[0, 2], [2, 2], [3, 3]])\n"
   ]
  },
  {
   "cell_type": "code",
   "execution_count": 7,
   "metadata": {
    "ExecuteTime": {
     "end_time": "2021-05-17T17:05:16.498267Z",
     "start_time": "2021-05-17T17:05:16.254351Z"
    }
   },
   "outputs": [
    {
     "data": {
      "image/png": "[encoded data removed]",
      "text/plain": [
       "<Figure size 720x576 with 1 Axes>"
      ]
     },
     "metadata": {
      "needs_background": "light"
     },
     "output_type": "display_data"
    }
   ],
   "source": [
    "gempy_simple.plot_interp_with_drift(point_1_y = 2.,\n",
    "                                    point_2_y = 2.4,\n",
    "                                    G_1_x=0,\n",
    "                                    show_contours=False, \n",
    "                                    show_field=False,\n",
    "                                    pick_contour=False,\n",
    "                                    contour_val=2.8)"
   ]
  },
  {
   "cell_type": "code",
   "execution_count": 8,
   "metadata": {
    "ExecuteTime": {
     "end_time": "2021-05-17T17:05:16.504024Z",
     "start_time": "2021-05-17T17:05:16.501628Z"
    }
   },
   "outputs": [],
   "source": [
    "from ipywidgets import interactive                      # widgets and interactivity\n",
    "from ipywidgets import widgets                            \n",
    "from ipywidgets import Layout\n",
    "from ipywidgets import Label\n",
    "from ipywidgets import VBox, HBox"
   ]
  },
  {
   "cell_type": "code",
   "execution_count": 9,
   "metadata": {
    "ExecuteTime": {
     "end_time": "2021-05-17T17:05:16.509062Z",
     "start_time": "2021-05-17T17:05:16.506639Z"
    }
   },
   "outputs": [],
   "source": [
    "from ipywidgets import interact, interactive, fixed, interact_manual\n"
   ]
  },
  {
   "cell_type": "code",
   "execution_count": 10,
   "metadata": {
    "ExecuteTime": {
     "end_time": "2021-05-17T17:05:16.795304Z",
     "start_time": "2021-05-17T17:05:16.510578Z"
    }
   },
   "outputs": [
    {
     "data": {
      "application/vnd.jupyter.widget-view+json": {
       "model_id": "44b6052cc6444fed99231bae9ef22734",
       "version_major": 2,
       "version_minor": 0
      },
      "text/plain": [
       "interactive(children=(FloatSlider(value=2.0, description='point_1_y', max=3.0, min=1.0), FloatSlider(value=3.0…"
      ]
     },
     "metadata": {},
     "output_type": "display_data"
    }
   ],
   "source": [
    "interact(gempy_simple.plot_interp_with_drift,\n",
    "         point_1_y=(1.,3.,0.1),\n",
    "         point_2_y=(1.,3.,0.1),\n",
    "         contour_val=(1.,3.,0.1),\n",
    "         a_T=(1,5.,0.5)); # Range determines the maximum distance that a data point influences another"
   ]
  },
  {
   "cell_type": "code",
   "execution_count": null,
   "metadata": {},
   "outputs": [],
   "source": []
  },
  {
   "cell_type": "code",
   "execution_count": null,
   "metadata": {},
   "outputs": [],
   "source": []
  }
 ],
 "metadata": {
  "kernelspec": {
   "display_name": "Python (nightly)",
   "language": "python",
   "name": "nightly"
  },
  "language_info": {
   "codemirror_mode": {
    "name": "ipython",
    "version": 3
   },
   "file_extension": ".py",
   "mimetype": "text/x-python",
   "name": "python",
   "nbconvert_exporter": "python",
   "pygments_lexer": "ipython3",
   "version": "3.7.1"
  },
  "varInspector": {
   "cols": {
    "lenName": 16,
    "lenType": 16,
    "lenVar": 40
   },
   "kernels_config": {
    "python": {
     "delete_cmd_postfix": "",
     "delete_cmd_prefix": "del ",
     "library": "var_list.py",
     "varRefreshCmd": "print(var_dic_list())"
    },
    "r": {
     "delete_cmd_postfix": ") ",
     "delete_cmd_prefix": "rm(",
     "library": "var_list.r",
     "varRefreshCmd": "cat(var_dic_list()) "
    }
   },
   "types_to_exclude": [
    "module",
    "function",
    "builtin_function_or_method",
    "instance",
    "_Feature"
   ],
   "window_display": false
  }
 },
 "nbformat": 4,
 "nbformat_minor": 2
}
